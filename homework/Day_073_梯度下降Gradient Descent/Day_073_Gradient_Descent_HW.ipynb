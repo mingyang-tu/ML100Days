{
 "cells": [
  {
   "cell_type": "markdown",
   "metadata": {},
   "source": [
    "# 作業重點\n",
    "\n",
    "使用 function $y=(x+5)^2$ 來練習學習率(learning rate)調整所造成的影響"
   ]
  },
  {
   "cell_type": "markdown",
   "metadata": {},
   "source": [
    "# 作業目標:\n",
    "    請嘗試使用不同的組合驗證 learning rate 對所需 iteration 的影響\n",
    "    lr = [0.1, 0.0001]\n",
    "    主要驗證 LR 對於 gradient 收斂的速度\n",
    "    "
   ]
  },
  {
   "cell_type": "code",
   "execution_count": 1,
   "metadata": {},
   "outputs": [],
   "source": [
    "import matplotlib.pyplot as plt\n",
    "\n",
    "# when to stop the algorithm\n",
    "precision = 0.000001\n",
    "# maximum number of iterations\n",
    "max_iters = 10000\n",
    "# Gradient of our function\n",
    "df = lambda x: 2*(x+5)"
   ]
  },
  {
   "cell_type": "markdown",
   "metadata": {},
   "source": [
    "### LR = 0.1"
   ]
  },
  {
   "cell_type": "code",
   "execution_count": 2,
   "metadata": {
    "scrolled": true
   },
   "outputs": [
    {
     "name": "stdout",
     "output_type": "stream",
     "text": [
      "Total iterations:  66\n",
      "The local minimum occurs at -4.999996786123911\n"
     ]
    },
    {
     "data": {
      "image/png": "[encoded data removed]",
      "text/plain": [
       "<Figure size 432x288 with 1 Axes>"
      ]
     },
     "metadata": {
      "needs_background": "light"
     },
     "output_type": "display_data"
    }
   ],
   "source": [
    "# Learning rate\n",
    "lr = 0.1\n",
    "# The algorithm starts at x = 3\n",
    "cur_x = 3\n",
    "previous_step_size = 1\n",
    "# iteration counter\n",
    "iters = 0\n",
    "\n",
    "iters_history = [iters]\n",
    "x_history = [cur_x]\n",
    "\n",
    "while previous_step_size > precision and iters < max_iters:\n",
    "    # Store current x value in prev_x\n",
    "    prev_x = cur_x\n",
    "    # Gradient descent\n",
    "    cur_x = cur_x - lr * df(prev_x)\n",
    "    # 取較大的值, Change in x\n",
    "    previous_step_size = abs(cur_x - prev_x)\n",
    "    # iteration count\n",
    "    iters = iters + 1\n",
    "    # Store parameters for plotting\n",
    "    iters_history.append(iters)\n",
    "    x_history.append(cur_x)\n",
    "\n",
    "print(\"Total iterations: \", iters)\n",
    "print(\"The local minimum occurs at\", cur_x)\n",
    "\n",
    "plt.figure()\n",
    "plt.plot(iters_history, x_history, 'o-', ms=3, lw=1.5, color='black')\n",
    "plt.xlabel(r'$iters$', fontsize=16)\n",
    "plt.ylabel(r'$x$', fontsize=16)\n",
    "plt.show()"
   ]
  },
  {
   "cell_type": "markdown",
   "metadata": {},
   "source": [
    "### LR = 0.0001"
   ]
  },
  {
   "cell_type": "code",
   "execution_count": 3,
   "metadata": {},
   "outputs": [
    {
     "name": "stdout",
     "output_type": "stream",
     "text": [
      "Total iteations:  10000\n",
      "The local minimum occurs at -3.917534277778167\n"
     ]
    },
    {
     "data": {
      "image/png": "[encoded data removed]",
      "text/plain": [
       "<Figure size 432x288 with 1 Axes>"
      ]
     },
     "metadata": {
      "needs_background": "light"
     },
     "output_type": "display_data"
    }
   ],
   "source": [
    "# Learning rate\n",
    "lr = 0.0001\n",
    "# The algorithm starts at x = 3\n",
    "cur_x = 3\n",
    "previous_step_size = 1\n",
    "# iteration counter\n",
    "iters = 0\n",
    "\n",
    "iters_history = [iters]\n",
    "x_history = [cur_x]\n",
    "\n",
    "while previous_step_size > precision and iters < max_iters:\n",
    "    # Store current x value in prev_x\n",
    "    prev_x = cur_x\n",
    "    # Gradient descent\n",
    "    cur_x = cur_x - lr * df(prev_x)\n",
    "    # 取較大的值, Change in x\n",
    "    previous_step_size = abs(cur_x - prev_x)\n",
    "    # iteration count\n",
    "    iters = iters + 1\n",
    "    # Store parameters for plotting\n",
    "    iters_history.append(iters)\n",
    "    x_history.append(cur_x)\n",
    "\n",
    "print(\"Total iteations: \", iters)\n",
    "print(\"The local minimum occurs at\", cur_x)\n",
    "\n",
    "plt.figure()\n",
    "plt.plot(iters_history, x_history, 'o-', ms=3, lw=1.5, color='black')\n",
    "plt.xlabel(r'$iters$', fontsize=16)\n",
    "plt.ylabel(r'$x$', fontsize=16)\n",
    "plt.show()"
   ]
  },
  {
   "cell_type": "code",
   "execution_count": null,
   "metadata": {},
   "outputs": [],
   "source": []
  }
 ],
 "metadata": {
  "kernelspec": {
   "display_name": "Python 3",
   "language": "python",
   "name": "python3"
  },
  "language_info": {
   "codemirror_mode": {
    "name": "ipython",
    "version": 3
   },
   "file_extension": ".py",
   "mimetype": "text/x-python",
   "name": "python",
   "nbconvert_exporter": "python",
   "pygments_lexer": "ipython3",
   "version": "3.8.5"
  }
 },
 "nbformat": 4,
 "nbformat_minor": 2
}
