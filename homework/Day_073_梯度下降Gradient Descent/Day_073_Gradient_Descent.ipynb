{
 "cells": [
  {
   "cell_type": "markdown",
   "metadata": {},
   "source": [
    "# 課程目標:\n",
    "    \n",
    "    了解梯度下降(Gradient Descent)的基本原理與作用 \n",
    "    \n",
    "    --> 快速收斂，找出最佳解"
   ]
  },
  {
   "cell_type": "markdown",
   "metadata": {},
   "source": [
    "# 範例重點\n",
    "\n",
    "定義函數：$y=(x+5)^2$\n",
    "在 $x=3$ 開始，快速收斂"
   ]
  },
  {
   "cell_type": "markdown",
   "metadata": {},
   "source": [
    "# 執行步驟\n",
    "\n",
    "Step 1 : Initialize $x=3$. Then, find the gradient of the function, $\\frac{dy}{dx} = 2(x+5)$.\n",
    "\n",
    "Step 2 : Move in the direction of the negative of the gradient. We use a learning rate. Let us assume the learning rate → 0.01\n",
    "\n",
    "Step 3 : Let’s perform 2 iterations of gradient descent\n",
    "\n",
    "Step 4 : We can observe that the X value is slowly decreasing and should converge to -5 (the local minima). However, how many iterations should we perform?"
   ]
  },
  {
   "cell_type": "code",
   "execution_count": 1,
   "metadata": {},
   "outputs": [],
   "source": [
    "# The algorithm starts at x = 3\n",
    "cur_x = 3\n",
    "# Learning rate\n",
    "lr = 0.01\n",
    "# when to stop the algorithm\n",
    "precision = 0.000001\n",
    "previous_step_size = 1\n",
    "# maximum number of iterations\n",
    "max_iters = 10000\n",
    "# iteration counter\n",
    "iters = 0\n",
    "# Gradient of our function \n",
    "df = lambda x: 2*(x+5)\n",
    "\n",
    "iters_history = [iters]\n",
    "x_history = [cur_x]"
   ]
  },
  {
   "cell_type": "code",
   "execution_count": 2,
   "metadata": {},
   "outputs": [],
   "source": [
    "while previous_step_size > precision and iters < max_iters:\n",
    "    # Store current x value in prev_x\n",
    "    prev_x = cur_x\n",
    "    # Gradient descent\n",
    "    cur_x = cur_x - lr * df(prev_x)\n",
    "    # 取較大的值, Change in x\n",
    "    previous_step_size = abs(cur_x - prev_x)\n",
    "    # iteration count\n",
    "    iters = iters + 1\n",
    "    # Print iterations\n",
    "    # print(\"Iteration\", iters, \"\\nX value is\", cur_x)\n",
    "    # Store parameters for plotting\n",
    "    iters_history.append(iters)\n",
    "    x_history.append(cur_x)"
   ]
  },
  {
   "cell_type": "code",
   "execution_count": 3,
   "metadata": {},
   "outputs": [
    {
     "name": "stdout",
     "output_type": "stream",
     "text": [
      "Total iterations:  595\n",
      "The local minimum occurs at -4.9999518490318176\n"
     ]
    }
   ],
   "source": [
    "print(\"Total iterations: \", iters)\n",
    "print(\"The local minimum occurs at\", cur_x)"
   ]
  },
  {
   "cell_type": "code",
   "execution_count": 4,
   "metadata": {},
   "outputs": [
    {
     "data": {
      "image/png": "[encoded data removed]",
      "text/plain": [
       "<Figure size 432x288 with 1 Axes>"
      ]
     },
     "metadata": {
      "needs_background": "light"
     },
     "output_type": "display_data"
    }
   ],
   "source": [
    "import matplotlib.pyplot as plt\n",
    "%matplotlib inline \n",
    "# 適用於 Jupyter Notebook, 宣告直接在 cell 內印出執行結果\n",
    "\n",
    "plt.plot(iters_history, x_history, 'o-', ms=3, lw=1.5, color='black')\n",
    "plt.xlabel(r'$iters$', fontsize=16)\n",
    "plt.ylabel(r'$x$', fontsize=16)\n",
    "plt.show()"
   ]
  },
  {
   "cell_type": "code",
   "execution_count": null,
   "metadata": {},
   "outputs": [],
   "source": []
  }
 ],
 "metadata": {
  "kernelspec": {
   "display_name": "Python 3",
   "language": "python",
   "name": "python3"
  },
  "language_info": {
   "codemirror_mode": {
    "name": "ipython",
    "version": 3
   },
   "file_extension": ".py",
   "mimetype": "text/x-python",
   "name": "python",
   "nbconvert_exporter": "python",
   "pygments_lexer": "ipython3",
   "version": "3.8.5"
  }
 },
 "nbformat": 4,
 "nbformat_minor": 2
}
