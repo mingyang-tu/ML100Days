{
  "cells": [
    {
      "cell_type": "code",
      "execution_count": 1,
      "metadata": {
        "colab": {
          "base_uri": "https://localhost:8080/"
        },
        "id": "AyUGP9_W4YiU",
        "outputId": "018cc41a-208a-45e4-a80f-ecb0be0deb0e"
      },
      "outputs": [
        {
          "output_type": "stream",
          "name": "stdout",
          "text": [
            "Fri Apr  1 17:02:57 2022       \n",
            "+-----------------------------------------------------------------------------+\n",
            "| NVIDIA-SMI 460.32.03    Driver Version: 460.32.03    CUDA Version: 11.2     |\n",
            "|-------------------------------+----------------------+----------------------+\n",
            "| GPU  Name        Persistence-M| Bus-Id        Disp.A | Volatile Uncorr. ECC |\n",
            "| Fan  Temp  Perf  Pwr:Usage/Cap|         Memory-Usage | GPU-Util  Compute M. |\n",
            "|                               |                      |               MIG M. |\n",
            "|===============================+======================+======================|\n",
            "|   0  Tesla K80           Off  | 00000000:00:04.0 Off |                    0 |\n",
            "| N/A   71C    P0    78W / 149W |      0MiB / 11441MiB |      0%      Default |\n",
            "|                               |                      |                  N/A |\n",
            "+-------------------------------+----------------------+----------------------+\n",
            "                                                                               \n",
            "+-----------------------------------------------------------------------------+\n",
            "| Processes:                                                                  |\n",
            "|  GPU   GI   CI        PID   Type   Process name                  GPU Memory |\n",
            "|        ID   ID                                                   Usage      |\n",
            "|=============================================================================|\n",
            "|  No running processes found                                                 |\n",
            "+-----------------------------------------------------------------------------+\n"
          ]
        }
      ],
      "source": [
        "!nvidia-smi"
      ]
    },
    {
      "cell_type": "code",
      "execution_count": 2,
      "metadata": {
        "id": "sYPki0yh4YiY"
      },
      "outputs": [],
      "source": [
        "import os\n",
        "os.environ[\"CUDA_VISIBLE_DEVICES\"] = \"0\""
      ]
    },
    {
      "cell_type": "code",
      "execution_count": 3,
      "metadata": {
        "id": "Lqdscqac4YiZ"
      },
      "outputs": [],
      "source": [
        "from tensorflow import keras\n",
        "from tensorflow.keras.datasets import cifar10\n",
        "from tensorflow.keras.layers import Dense, BatchNormalization, Activation, Dropout\n",
        "from tensorflow.keras.layers import Conv2D, MaxPooling2D, Flatten\n",
        "from tensorflow.keras.optimizers import Adam"
      ]
    },
    {
      "cell_type": "markdown",
      "metadata": {
        "id": "OH6hSuDD4YiZ"
      },
      "source": [
        "## DNN (MLP)"
      ]
    },
    {
      "cell_type": "code",
      "execution_count": 4,
      "metadata": {
        "colab": {
          "base_uri": "https://localhost:8080/"
        },
        "id": "OIugFu9d4Yia",
        "outputId": "facb5f5f-9841-471f-d5f3-658a603b737b"
      },
      "outputs": [
        {
          "output_type": "stream",
          "name": "stdout",
          "text": [
            "x_train shape: (50000, 32, 32, 3)\n",
            "50000 train samples\n",
            "10000 test samples\n"
          ]
        }
      ],
      "source": [
        "# batch 的大小，如果出現 OOM error，請降低這個值\n",
        "batch_size = 128\n",
        "# 類別的數量，Cifar 10 共有 10 個類別\n",
        "num_classes = 10\n",
        "# 訓練的 epochs 數量\n",
        "epochs = 10\n",
        "\n",
        "# 讀取資料並檢視\n",
        "(x_train, y_train), (x_test, y_test) = cifar10.load_data()\n",
        "print('x_train shape:', x_train.shape)\n",
        "print(x_train.shape[0], 'train samples')\n",
        "print(x_test.shape[0], 'test samples')\n",
        "\n",
        "# 對 label 進行 one-hot encoding (y_trian 原本是純數字)\n",
        "y_train = keras.utils.to_categorical(y_train, num_classes)\n",
        "y_test = keras.utils.to_categorical(y_test, num_classes)"
      ]
    },
    {
      "cell_type": "code",
      "execution_count": 5,
      "metadata": {
        "id": "x1h8fKiD4Yib"
      },
      "outputs": [],
      "source": [
        "# 將資料攤平成一維資料\n",
        "x_train = x_train.reshape(50000, 3072) \n",
        "x_test = x_test.reshape(10000, 3072)\n",
        "\n",
        "# 將資料變為 float32 並標準化\n",
        "x_train = x_train.astype('float32')\n",
        "x_test = x_test.astype('float32')\n",
        "x_train /= 255\n",
        "x_test /= 255"
      ]
    },
    {
      "cell_type": "code",
      "execution_count": 6,
      "metadata": {
        "colab": {
          "base_uri": "https://localhost:8080/"
        },
        "id": "MPiPaXFJ4Yic",
        "outputId": "8249fcc8-cb5e-4923-8b3c-64dbbc9b2fb7"
      },
      "outputs": [
        {
          "output_type": "stream",
          "name": "stdout",
          "text": [
            "Model: \"model\"\n",
            "_________________________________________________________________\n",
            " Layer (type)                Output Shape              Param #   \n",
            "=================================================================\n",
            " input_1 (InputLayer)        [(None, 3072)]            0         \n",
            "                                                                 \n",
            " dense (Dense)               (None, 512)               1573376   \n",
            "                                                                 \n",
            " batch_normalization (BatchN  (None, 512)              2048      \n",
            " ormalization)                                                   \n",
            "                                                                 \n",
            " activation (Activation)     (None, 512)               0         \n",
            "                                                                 \n",
            " dropout (Dropout)           (None, 512)               0         \n",
            "                                                                 \n",
            " dense_1 (Dense)             (None, 256)               131328    \n",
            "                                                                 \n",
            " batch_normalization_1 (Batc  (None, 256)              1024      \n",
            " hNormalization)                                                 \n",
            "                                                                 \n",
            " activation_1 (Activation)   (None, 256)               0         \n",
            "                                                                 \n",
            " dropout_1 (Dropout)         (None, 256)               0         \n",
            "                                                                 \n",
            " dense_2 (Dense)             (None, 128)               32896     \n",
            "                                                                 \n",
            " batch_normalization_2 (Batc  (None, 128)              512       \n",
            " hNormalization)                                                 \n",
            "                                                                 \n",
            " activation_2 (Activation)   (None, 128)               0         \n",
            "                                                                 \n",
            " dropout_2 (Dropout)         (None, 128)               0         \n",
            "                                                                 \n",
            " dense_3 (Dense)             (None, 10)                1290      \n",
            "                                                                 \n",
            "=================================================================\n",
            "Total params: 1,742,474\n",
            "Trainable params: 1,740,682\n",
            "Non-trainable params: 1,792\n",
            "_________________________________________________________________\n"
          ]
        }
      ],
      "source": [
        "input_layer = keras.layers.Input((3072,))\n",
        "\n",
        "x = Dense(units=512)(input_layer)\n",
        "x = BatchNormalization()(x)\n",
        "x = Activation(\"relu\")(x)\n",
        "x = Dropout(0.2)(x)\n",
        "\n",
        "x = Dense(units=256)(x)\n",
        "x = BatchNormalization()(x)\n",
        "x = Activation(\"relu\")(x)\n",
        "x = Dropout(0.2)(x)\n",
        "\n",
        "x = Dense(units=128)(x)\n",
        "x = BatchNormalization()(x)\n",
        "x = Activation(\"relu\")(x)\n",
        "x = Dropout(0.2)(x)\n",
        "\n",
        "out = Dense(units=num_classes, activation=\"softmax\")(x)\n",
        "\n",
        "model = keras.models.Model(inputs=[input_layer], outputs=[out])\n",
        "\n",
        "model.summary()"
      ]
    },
    {
      "cell_type": "code",
      "execution_count": 7,
      "metadata": {
        "colab": {
          "base_uri": "https://localhost:8080/"
        },
        "id": "bo8wOkNQ4Yid",
        "outputId": "7a8cc0de-e931-494b-c7df-c00951691a56"
      },
      "outputs": [
        {
          "output_type": "stream",
          "name": "stdout",
          "text": [
            "Epoch 1/10\n",
            "391/391 [==============================] - 8s 14ms/step - loss: 1.7654 - accuracy: 0.3698 - val_loss: 1.8348 - val_accuracy: 0.3305\n",
            "Epoch 2/10\n",
            "391/391 [==============================] - 5s 12ms/step - loss: 1.5382 - accuracy: 0.4474 - val_loss: 1.6600 - val_accuracy: 0.4031\n",
            "Epoch 3/10\n",
            "391/391 [==============================] - 3s 8ms/step - loss: 1.4414 - accuracy: 0.4858 - val_loss: 1.6638 - val_accuracy: 0.4076\n",
            "Epoch 4/10\n",
            "391/391 [==============================] - 4s 9ms/step - loss: 1.3735 - accuracy: 0.5105 - val_loss: 1.8633 - val_accuracy: 0.3530\n",
            "Epoch 5/10\n",
            "391/391 [==============================] - 4s 9ms/step - loss: 1.3237 - accuracy: 0.5309 - val_loss: 1.6556 - val_accuracy: 0.4072\n",
            "Epoch 6/10\n",
            "391/391 [==============================] - 3s 8ms/step - loss: 1.2799 - accuracy: 0.5437 - val_loss: 1.4819 - val_accuracy: 0.4707\n",
            "Epoch 7/10\n",
            "391/391 [==============================] - 4s 9ms/step - loss: 1.2369 - accuracy: 0.5586 - val_loss: 1.9391 - val_accuracy: 0.3559\n",
            "Epoch 8/10\n",
            "391/391 [==============================] - 3s 9ms/step - loss: 1.2010 - accuracy: 0.5707 - val_loss: 1.6141 - val_accuracy: 0.4323\n",
            "Epoch 9/10\n",
            "391/391 [==============================] - 4s 9ms/step - loss: 1.1716 - accuracy: 0.5808 - val_loss: 1.5899 - val_accuracy: 0.4471\n",
            "Epoch 10/10\n",
            "391/391 [==============================] - 4s 9ms/step - loss: 1.1381 - accuracy: 0.5939 - val_loss: 1.4761 - val_accuracy: 0.4744\n",
            "====================\n",
            "Test loss: 1.4761\n",
            "Test accuracy: 0.4744\n",
            "====================\n"
          ]
        }
      ],
      "source": [
        "model.compile(loss='categorical_crossentropy',\n",
        "              optimizer=Adam(),\n",
        "              metrics=['accuracy'])\n",
        "\n",
        "history_mlp = model.fit(x_train, y_train,\n",
        "                        batch_size=batch_size,\n",
        "                        epochs=epochs,\n",
        "                        verbose=1,\n",
        "                        validation_data=(x_test, y_test))\n",
        "score = model.evaluate(x_test, y_test, verbose=0)\n",
        "print(\"====================\")\n",
        "print(f'Test loss: {score[0]:.4f}')\n",
        "print(f'Test accuracy: {score[1]:.4f}')\n",
        "print(\"====================\")"
      ]
    },
    {
      "cell_type": "markdown",
      "metadata": {
        "id": "IRseaJdj4Yie"
      },
      "source": [
        "## CNN"
      ]
    },
    {
      "cell_type": "code",
      "execution_count": 8,
      "metadata": {
        "colab": {
          "base_uri": "https://localhost:8080/"
        },
        "id": "aXOj8XWJ4Yif",
        "outputId": "53a75e2d-67a9-455c-da0f-2fafdf55bdff"
      },
      "outputs": [
        {
          "output_type": "stream",
          "name": "stdout",
          "text": [
            "x_train shape: (50000, 32, 32, 3)\n",
            "50000 train samples\n",
            "10000 test samples\n"
          ]
        }
      ],
      "source": [
        "# batch 的大小，如果出現 OOM error，請降低這個值\n",
        "batch_size = 128\n",
        "# 類別的數量，Cifar 10 共有 10 個類別\n",
        "num_classes = 10\n",
        "# 訓練的 epochs 數量\n",
        "epochs = 10\n",
        "\n",
        "# 讀取資料並檢視\n",
        "(x_train, y_train), (x_test, y_test) = cifar10.load_data()\n",
        "print('x_train shape:', x_train.shape)\n",
        "print(x_train.shape[0], 'train samples')\n",
        "print(x_test.shape[0], 'test samples')\n",
        "\n",
        "# 對 label 進行 one-hot encoding (y_trian 原本是純數字)\n",
        "y_train = keras.utils.to_categorical(y_train, num_classes)\n",
        "y_test = keras.utils.to_categorical(y_test, num_classes)\n",
        "\n",
        "# 將資料變為 float32 並標準化\n",
        "x_train = x_train.astype('float32')\n",
        "x_test = x_test.astype('float32')\n",
        "x_train /= 255\n",
        "x_test /= 255"
      ]
    },
    {
      "cell_type": "code",
      "execution_count": 9,
      "metadata": {
        "colab": {
          "base_uri": "https://localhost:8080/"
        },
        "id": "r_1_8m9Q4Yif",
        "outputId": "d0b955b6-3d5b-4e29-dbae-e1561b28e4be"
      },
      "outputs": [
        {
          "output_type": "stream",
          "name": "stdout",
          "text": [
            "Model: \"model_1\"\n",
            "_________________________________________________________________\n",
            " Layer (type)                Output Shape              Param #   \n",
            "=================================================================\n",
            " input_2 (InputLayer)        [(None, 32, 32, 3)]       0         \n",
            "                                                                 \n",
            " conv2d (Conv2D)             (None, 32, 32, 32)        896       \n",
            "                                                                 \n",
            " batch_normalization_3 (Batc  (None, 32, 32, 32)       128       \n",
            " hNormalization)                                                 \n",
            "                                                                 \n",
            " activation_3 (Activation)   (None, 32, 32, 32)        0         \n",
            "                                                                 \n",
            " conv2d_1 (Conv2D)           (None, 32, 32, 32)        9248      \n",
            "                                                                 \n",
            " batch_normalization_4 (Batc  (None, 32, 32, 32)       128       \n",
            " hNormalization)                                                 \n",
            "                                                                 \n",
            " activation_4 (Activation)   (None, 32, 32, 32)        0         \n",
            "                                                                 \n",
            " max_pooling2d (MaxPooling2D  (None, 16, 16, 32)       0         \n",
            " )                                                               \n",
            "                                                                 \n",
            " dropout_3 (Dropout)         (None, 16, 16, 32)        0         \n",
            "                                                                 \n",
            " conv2d_2 (Conv2D)           (None, 16, 16, 64)        18496     \n",
            "                                                                 \n",
            " batch_normalization_5 (Batc  (None, 16, 16, 64)       256       \n",
            " hNormalization)                                                 \n",
            "                                                                 \n",
            " activation_5 (Activation)   (None, 16, 16, 64)        0         \n",
            "                                                                 \n",
            " conv2d_3 (Conv2D)           (None, 16, 16, 64)        36928     \n",
            "                                                                 \n",
            " batch_normalization_6 (Batc  (None, 16, 16, 64)       256       \n",
            " hNormalization)                                                 \n",
            "                                                                 \n",
            " activation_6 (Activation)   (None, 16, 16, 64)        0         \n",
            "                                                                 \n",
            " max_pooling2d_1 (MaxPooling  (None, 8, 8, 64)         0         \n",
            " 2D)                                                             \n",
            "                                                                 \n",
            " dropout_4 (Dropout)         (None, 8, 8, 64)          0         \n",
            "                                                                 \n",
            " flatten (Flatten)           (None, 4096)              0         \n",
            "                                                                 \n",
            " dense_4 (Dense)             (None, 512)               2097664   \n",
            "                                                                 \n",
            " batch_normalization_7 (Batc  (None, 512)              2048      \n",
            " hNormalization)                                                 \n",
            "                                                                 \n",
            " activation_7 (Activation)   (None, 512)               0         \n",
            "                                                                 \n",
            " dropout_5 (Dropout)         (None, 512)               0         \n",
            "                                                                 \n",
            " dense_5 (Dense)             (None, 10)                5130      \n",
            "                                                                 \n",
            "=================================================================\n",
            "Total params: 2,171,178\n",
            "Trainable params: 2,169,770\n",
            "Non-trainable params: 1,408\n",
            "_________________________________________________________________\n"
          ]
        }
      ],
      "source": [
        "input_layer = keras.layers.Input(x_train.shape[1:])\n",
        "\n",
        "x = Conv2D(32, (3, 3), padding='same')(input_layer)\n",
        "x = BatchNormalization()(x)\n",
        "x = Activation(\"relu\")(x)\n",
        "\n",
        "x = Conv2D(32, (3, 3), padding='same')(x)\n",
        "x = BatchNormalization()(x)\n",
        "x = Activation(\"relu\")(x)\n",
        "x = MaxPooling2D(pool_size=(2, 2))(x)\n",
        "x = Dropout(0.2)(x)\n",
        "\n",
        "x = Conv2D(64, (3, 3), padding='same')(x)\n",
        "x = BatchNormalization()(x)\n",
        "x = Activation(\"relu\")(x)\n",
        "\n",
        "x = Conv2D(64, (3, 3), padding='same')(x)\n",
        "x = BatchNormalization()(x)\n",
        "x = Activation(\"relu\")(x)\n",
        "x = MaxPooling2D(pool_size=(2, 2))(x)\n",
        "x = Dropout(0.2)(x)\n",
        "\n",
        "x = Flatten()(x)\n",
        "\n",
        "x = Dense(units=512)(x)\n",
        "x = BatchNormalization()(x)\n",
        "x = Activation(\"relu\")(x)\n",
        "x = Dropout(0.5)(x)\n",
        "\n",
        "out = Dense(units=num_classes, activation=\"softmax\")(x)\n",
        "\n",
        "model = keras.models.Model(inputs=[input_layer], outputs=[out])\n",
        "\n",
        "model.summary()"
      ]
    },
    {
      "cell_type": "code",
      "execution_count": 10,
      "metadata": {
        "scrolled": true,
        "colab": {
          "base_uri": "https://localhost:8080/"
        },
        "id": "wLTW3bOH4Yig",
        "outputId": "c70e05e1-2d1c-4cbd-dd88-c6171195d1d3"
      },
      "outputs": [
        {
          "output_type": "stream",
          "name": "stdout",
          "text": [
            "Epoch 1/10\n",
            "391/391 [==============================] - 15s 34ms/step - loss: 1.4090 - accuracy: 0.5096 - val_loss: 2.0364 - val_accuracy: 0.3510\n",
            "Epoch 2/10\n",
            "391/391 [==============================] - 13s 33ms/step - loss: 0.9520 - accuracy: 0.6634 - val_loss: 0.8951 - val_accuracy: 0.6906\n",
            "Epoch 3/10\n",
            "391/391 [==============================] - 13s 32ms/step - loss: 0.7980 - accuracy: 0.7182 - val_loss: 0.9021 - val_accuracy: 0.6767\n",
            "Epoch 4/10\n",
            "391/391 [==============================] - 13s 33ms/step - loss: 0.7043 - accuracy: 0.7493 - val_loss: 0.8841 - val_accuracy: 0.6915\n",
            "Epoch 5/10\n",
            "391/391 [==============================] - 13s 32ms/step - loss: 0.6348 - accuracy: 0.7760 - val_loss: 0.8752 - val_accuracy: 0.7151\n",
            "Epoch 6/10\n",
            "391/391 [==============================] - 13s 33ms/step - loss: 0.5791 - accuracy: 0.7964 - val_loss: 0.6636 - val_accuracy: 0.7746\n",
            "Epoch 7/10\n",
            "391/391 [==============================] - 13s 32ms/step - loss: 0.5312 - accuracy: 0.8109 - val_loss: 0.7182 - val_accuracy: 0.7570\n",
            "Epoch 8/10\n",
            "391/391 [==============================] - 13s 33ms/step - loss: 0.4864 - accuracy: 0.8286 - val_loss: 0.6660 - val_accuracy: 0.7748\n",
            "Epoch 9/10\n",
            "391/391 [==============================] - 13s 32ms/step - loss: 0.4530 - accuracy: 0.8407 - val_loss: 0.7108 - val_accuracy: 0.7699\n",
            "Epoch 10/10\n",
            "391/391 [==============================] - 13s 32ms/step - loss: 0.4162 - accuracy: 0.8534 - val_loss: 0.6047 - val_accuracy: 0.8009\n",
            "====================\n",
            "Test loss: 0.6047\n",
            "Test accuracy: 0.8009\n",
            "====================\n"
          ]
        }
      ],
      "source": [
        "model.compile(loss='categorical_crossentropy',\n",
        "              optimizer=Adam(),\n",
        "              metrics=['accuracy'])\n",
        "\n",
        "history_cnn = model.fit(x_train, y_train,\n",
        "                        batch_size=batch_size,\n",
        "                        epochs=epochs,\n",
        "                        verbose=1,\n",
        "                        validation_data=(x_test, y_test))\n",
        "score = model.evaluate(x_test, y_test, verbose=0)\n",
        "print(\"====================\")\n",
        "print(f'Test loss: {score[0]:.4f}')\n",
        "print(f'Test accuracy: {score[1]:.4f}')\n",
        "print(\"====================\")"
      ]
    },
    {
      "cell_type": "markdown",
      "metadata": {
        "id": "AHxPqsAs4Yig"
      },
      "source": [
        "## Plot"
      ]
    },
    {
      "cell_type": "code",
      "execution_count": 11,
      "metadata": {
        "colab": {
          "base_uri": "https://localhost:8080/",
          "height": 545
        },
        "id": "TeAXXsRU4Yig",
        "outputId": "6d9421c9-5a6e-4684-c38b-e2c21871c71c"
      },
      "outputs": [
        {
          "output_type": "display_data",
          "data": {
            "text/plain": [
              "<Figure size 432x288 with 1 Axes>"
            ],
            "image/png": "[encoded data removed]"
          },
          "metadata": {
            "needs_background": "light"
          }
        },
        {
          "output_type": "display_data",
          "data": {
            "text/plain": [
              "<Figure size 432x288 with 1 Axes>"
            ],
            "image/png": "[encoded data removed]"
          },
          "metadata": {
            "needs_background": "light"
          }
        }
      ],
      "source": [
        "import matplotlib.pyplot as plt\n",
        "%matplotlib inline\n",
        "\n",
        "plt.figure()\n",
        "\n",
        "plt.plot(range(len(history_mlp.history['loss'])), \n",
        "         history_mlp.history['loss'], \n",
        "         '-', label=\"MLP Train\", color=\"r\")\n",
        "\n",
        "plt.plot(range(len(history_mlp.history['val_loss'])),\n",
        "         history_mlp.history['val_loss'], \n",
        "         '--', label=\"MLP Valid\", color=\"r\")\n",
        "\n",
        "plt.plot(range(len(history_cnn.history['loss'])), \n",
        "         history_cnn.history['loss'], \n",
        "         '-', label=\"CNN Train\", color=\"g\")\n",
        "\n",
        "plt.plot(range(len(history_cnn.history['val_loss'])),\n",
        "         history_cnn.history['val_loss'], \n",
        "         '--', label=\"CNN Valid\", color=\"g\")\n",
        "\n",
        "plt.title(\"Loss\")\n",
        "plt.legend(loc='center left', bbox_to_anchor=(1, 0.5))\n",
        "plt.show()\n",
        "\n",
        "plt.figure()\n",
        "\n",
        "plt.plot(range(len(history_mlp.history['accuracy'])), \n",
        "         history_mlp.history['accuracy'], \n",
        "         '-', label=\"MLP Train\", color=\"r\")\n",
        "\n",
        "plt.plot(range(len(history_mlp.history['val_accuracy'])),\n",
        "         history_mlp.history['val_accuracy'], \n",
        "         '--', label=\"MLP Valid\", color=\"r\")\n",
        "\n",
        "plt.plot(range(len(history_cnn.history['accuracy'])), \n",
        "         history_cnn.history['accuracy'], \n",
        "         '-', label=\"CNN Train\", color=\"g\")\n",
        "\n",
        "plt.plot(range(len(history_cnn.history['val_accuracy'])),\n",
        "         history_cnn.history['val_accuracy'], \n",
        "         '--', label=\"CNN Valid\", color=\"g\")\n",
        "plt.title(\"Accuracy\")\n",
        "plt.legend(loc='center left', bbox_to_anchor=(1, 0.5))\n",
        "plt.show()"
      ]
    },
    {
      "cell_type": "markdown",
      "metadata": {
        "id": "MOijsh_h4Yih"
      },
      "source": [
        "## 作業\n",
        "1. 請試著調整各個超參數，並說明那些超參數對於結果有明顯的影響？\n",
        "2. CNN 與 DNN 哪個模型的參數數量比較多？造成參數的數量不同的原因在哪？"
      ]
    },
    {
      "cell_type": "code",
      "execution_count": 11,
      "metadata": {
        "id": "vQ8JuL3w4Yih"
      },
      "outputs": [],
      "source": [
        ""
      ]
    }
  ],
  "metadata": {
    "kernelspec": {
      "display_name": "Python 3",
      "language": "python",
      "name": "python3"
    },
    "language_info": {
      "codemirror_mode": {
        "name": "ipython",
        "version": 3
      },
      "file_extension": ".py",
      "mimetype": "text/x-python",
      "name": "python",
      "nbconvert_exporter": "python",
      "pygments_lexer": "ipython3",
      "version": "3.8.5"
    },
    "colab": {
      "name": "Day_097_Keras_CNN_vs_DNN.ipynb",
      "provenance": [],
      "collapsed_sections": [],
      "toc_visible": true
    },
    "accelerator": "GPU"
  },
  "nbformat": 4,
  "nbformat_minor": 0
}