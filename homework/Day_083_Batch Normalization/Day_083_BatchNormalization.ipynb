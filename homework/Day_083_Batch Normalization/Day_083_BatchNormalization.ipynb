{
 "cells": [
  {
   "cell_type": "markdown",
   "metadata": {},
   "source": [
    "## 範例重點\n",
    "* 學習如何在 keras 中加入 BatchNorm\n",
    "* 知道有無 BN 對訓練的影響\n",
    "* 比較 BN 在不同 batch size 下的效果"
   ]
  },
  {
   "cell_type": "code",
   "execution_count": 1,
   "metadata": {},
   "outputs": [],
   "source": [
    "import os\n",
    "from tensorflow import keras\n",
    "\n",
    "# 本範例不需使用 GPU, 將 GPU 設定為 \"無\"\n",
    "os.environ[\"CUDA_VISIBLE_DEVICES\"] = \"\""
   ]
  },
  {
   "cell_type": "code",
   "execution_count": 2,
   "metadata": {},
   "outputs": [],
   "source": [
    "train, test = keras.datasets.cifar10.load_data()"
   ]
  },
  {
   "cell_type": "code",
   "execution_count": 3,
   "metadata": {},
   "outputs": [],
   "source": [
    "# 資料前處理\n",
    "def preproc_x(x, flatten=True):\n",
    "    x = x / 255.\n",
    "    if flatten:\n",
    "        x = x.reshape((len(x), -1))\n",
    "    return x\n",
    "\n",
    "def preproc_y(y, num_classes=10):\n",
    "    if y.shape[-1] == 1:\n",
    "        y = keras.utils.to_categorical(y, num_classes)\n",
    "    return y    "
   ]
  },
  {
   "cell_type": "code",
   "execution_count": 4,
   "metadata": {},
   "outputs": [],
   "source": [
    "x_train, y_train = train\n",
    "x_test, y_test = test\n",
    "\n",
    "# 資料前處理 - X 標準化\n",
    "x_train = preproc_x(x_train)\n",
    "x_test = preproc_x(x_test)\n",
    "\n",
    "# 資料前處理 - Y 轉成 onehot\n",
    "y_train = preproc_y(y_train)\n",
    "y_test = preproc_y(y_test)"
   ]
  },
  {
   "cell_type": "code",
   "execution_count": 5,
   "metadata": {},
   "outputs": [
    {
     "name": "stdout",
     "output_type": "stream",
     "text": [
      "Model: \"model\"\n",
      "_________________________________________________________________\n",
      " Layer (type)                Output Shape              Param #   \n",
      "=================================================================\n",
      " input_1 (InputLayer)        [(None, 3072)]            0         \n",
      "                                                                 \n",
      " hidden_layer1 (Dense)       (None, 512)               1573376   \n",
      "                                                                 \n",
      " batch_normalization (BatchN  (None, 512)              2048      \n",
      " ormalization)                                                   \n",
      "                                                                 \n",
      " hidden_layer2 (Dense)       (None, 256)               131328    \n",
      "                                                                 \n",
      " batch_normalization_1 (Batc  (None, 256)              1024      \n",
      " hNormalization)                                                 \n",
      "                                                                 \n",
      " hidden_layer3 (Dense)       (None, 128)               32896     \n",
      "                                                                 \n",
      " batch_normalization_2 (Batc  (None, 128)              512       \n",
      " hNormalization)                                                 \n",
      "                                                                 \n",
      " output (Dense)              (None, 10)                1290      \n",
      "                                                                 \n",
      "=================================================================\n",
      "Total params: 1,742,474\n",
      "Trainable params: 1,740,682\n",
      "Non-trainable params: 1,792\n",
      "_________________________________________________________________\n"
     ]
    }
   ],
   "source": [
    "from keras.layers import BatchNormalization\n",
    "\n",
    "\"\"\"\n",
    "建立神經網路，並加入 BN layer\n",
    "\"\"\"\n",
    "def build_mlp(input_shape, output_units=10, num_neurons=[512, 256, 128]):\n",
    "    input_layer = keras.layers.Input(input_shape)\n",
    "    \n",
    "    for i, n_units in enumerate(num_neurons):\n",
    "        if i == 0:\n",
    "            x = keras.layers.Dense(units=n_units, \n",
    "                                   activation=\"relu\", \n",
    "                                   name=\"hidden_layer\"+str(i+1))(input_layer)\n",
    "            x = BatchNormalization()(x)\n",
    "        else:\n",
    "            x = keras.layers.Dense(units=n_units, \n",
    "                                   activation=\"relu\", \n",
    "                                   name=\"hidden_layer\"+str(i+1))(x)\n",
    "            x = BatchNormalization()(x)\n",
    "    \n",
    "    out = keras.layers.Dense(units=output_units, activation=\"softmax\", name=\"output\")(x)\n",
    "    \n",
    "    model = keras.models.Model(inputs=[input_layer], outputs=[out])\n",
    "    return model\n",
    "\n",
    "model = build_mlp(input_shape=x_train.shape[1:])\n",
    "model.summary()"
   ]
  },
  {
   "cell_type": "code",
   "execution_count": 6,
   "metadata": {},
   "outputs": [],
   "source": [
    "# 超參數設定\n",
    "LEARNING_RATE = 1e-3\n",
    "EPOCHS = 50\n",
    "BATCH_SIZE = 1024\n",
    "MOMENTUM = 0.95"
   ]
  },
  {
   "cell_type": "code",
   "execution_count": 7,
   "metadata": {
    "scrolled": true
   },
   "outputs": [
    {
     "name": "stdout",
     "output_type": "stream",
     "text": [
      "Epoch 1/50\n",
      "49/49 - 5s - loss: 2.2523 - accuracy: 0.2614 - val_loss: 2.1519 - val_accuracy: 0.1917 - 5s/epoch - 98ms/step\n",
      "Epoch 2/50\n",
      "49/49 - 3s - loss: 1.7562 - accuracy: 0.3866 - val_loss: 1.9775 - val_accuracy: 0.2963 - 3s/epoch - 66ms/step\n",
      "Epoch 3/50\n",
      "49/49 - 3s - loss: 1.6291 - accuracy: 0.4286 - val_loss: 1.8300 - val_accuracy: 0.3664 - 3s/epoch - 71ms/step\n",
      "Epoch 4/50\n",
      "49/49 - 3s - loss: 1.5573 - accuracy: 0.4547 - val_loss: 1.7313 - val_accuracy: 0.4034 - 3s/epoch - 70ms/step\n",
      "Epoch 5/50\n",
      "49/49 - 4s - loss: 1.5007 - accuracy: 0.4711 - val_loss: 1.6538 - val_accuracy: 0.4242 - 4s/epoch - 79ms/step\n",
      "Epoch 6/50\n",
      "49/49 - 4s - loss: 1.4538 - accuracy: 0.4908 - val_loss: 1.5923 - val_accuracy: 0.4467 - 4s/epoch - 73ms/step\n",
      "Epoch 7/50\n",
      "49/49 - 3s - loss: 1.4149 - accuracy: 0.5031 - val_loss: 1.5550 - val_accuracy: 0.4565 - 3s/epoch - 69ms/step\n",
      "Epoch 8/50\n",
      "49/49 - 4s - loss: 1.3773 - accuracy: 0.5181 - val_loss: 1.5286 - val_accuracy: 0.4640 - 4s/epoch - 90ms/step\n",
      "Epoch 9/50\n",
      "49/49 - 5s - loss: 1.3446 - accuracy: 0.5298 - val_loss: 1.5149 - val_accuracy: 0.4678 - 5s/epoch - 97ms/step\n",
      "Epoch 10/50\n",
      "49/49 - 3s - loss: 1.3139 - accuracy: 0.5420 - val_loss: 1.5058 - val_accuracy: 0.4665 - 3s/epoch - 71ms/step\n",
      "Epoch 11/50\n",
      "49/49 - 4s - loss: 1.2856 - accuracy: 0.5527 - val_loss: 1.4962 - val_accuracy: 0.4745 - 4s/epoch - 90ms/step\n",
      "Epoch 12/50\n",
      "49/49 - 4s - loss: 1.2585 - accuracy: 0.5634 - val_loss: 1.4933 - val_accuracy: 0.4748 - 4s/epoch - 73ms/step\n",
      "Epoch 13/50\n",
      "49/49 - 5s - loss: 1.2339 - accuracy: 0.5715 - val_loss: 1.4901 - val_accuracy: 0.4835 - 5s/epoch - 96ms/step\n",
      "Epoch 14/50\n",
      "49/49 - 4s - loss: 1.2069 - accuracy: 0.5815 - val_loss: 1.4837 - val_accuracy: 0.4805 - 4s/epoch - 82ms/step\n",
      "Epoch 15/50\n",
      "49/49 - 4s - loss: 1.1824 - accuracy: 0.5908 - val_loss: 1.4702 - val_accuracy: 0.4844 - 4s/epoch - 88ms/step\n",
      "Epoch 16/50\n",
      "49/49 - 4s - loss: 1.1619 - accuracy: 0.5997 - val_loss: 1.4695 - val_accuracy: 0.4896 - 4s/epoch - 84ms/step\n",
      "Epoch 17/50\n",
      "49/49 - 3s - loss: 1.1370 - accuracy: 0.6088 - val_loss: 1.4736 - val_accuracy: 0.4848 - 3s/epoch - 71ms/step\n",
      "Epoch 18/50\n",
      "49/49 - 3s - loss: 1.1166 - accuracy: 0.6170 - val_loss: 1.4678 - val_accuracy: 0.4889 - 3s/epoch - 71ms/step\n",
      "Epoch 19/50\n",
      "49/49 - 4s - loss: 1.0920 - accuracy: 0.6260 - val_loss: 1.4589 - val_accuracy: 0.4889 - 4s/epoch - 73ms/step\n",
      "Epoch 20/50\n",
      "49/49 - 3s - loss: 1.0704 - accuracy: 0.6339 - val_loss: 1.4656 - val_accuracy: 0.4904 - 3s/epoch - 71ms/step\n",
      "Epoch 21/50\n",
      "49/49 - 4s - loss: 1.0483 - accuracy: 0.6425 - val_loss: 1.4595 - val_accuracy: 0.4946 - 4s/epoch - 73ms/step\n",
      "Epoch 22/50\n",
      "49/49 - 4s - loss: 1.0274 - accuracy: 0.6511 - val_loss: 1.4627 - val_accuracy: 0.4909 - 4s/epoch - 75ms/step\n",
      "Epoch 23/50\n",
      "49/49 - 4s - loss: 1.0065 - accuracy: 0.6597 - val_loss: 1.4641 - val_accuracy: 0.4931 - 4s/epoch - 73ms/step\n",
      "Epoch 24/50\n",
      "49/49 - 4s - loss: 0.9882 - accuracy: 0.6664 - val_loss: 1.4713 - val_accuracy: 0.4927 - 4s/epoch - 76ms/step\n",
      "Epoch 25/50\n",
      "49/49 - 4s - loss: 0.9652 - accuracy: 0.6743 - val_loss: 1.4644 - val_accuracy: 0.4987 - 4s/epoch - 75ms/step\n",
      "Epoch 26/50\n",
      "49/49 - 4s - loss: 0.9458 - accuracy: 0.6827 - val_loss: 1.4690 - val_accuracy: 0.4940 - 4s/epoch - 72ms/step\n",
      "Epoch 27/50\n",
      "49/49 - 4s - loss: 0.9245 - accuracy: 0.6901 - val_loss: 1.4847 - val_accuracy: 0.4876 - 4s/epoch - 77ms/step\n",
      "Epoch 28/50\n",
      "49/49 - 3s - loss: 0.9046 - accuracy: 0.6993 - val_loss: 1.4772 - val_accuracy: 0.4961 - 3s/epoch - 71ms/step\n",
      "Epoch 29/50\n",
      "49/49 - 4s - loss: 0.8866 - accuracy: 0.7066 - val_loss: 1.4902 - val_accuracy: 0.4946 - 4s/epoch - 72ms/step\n",
      "Epoch 30/50\n",
      "49/49 - 3s - loss: 0.8661 - accuracy: 0.7127 - val_loss: 1.4840 - val_accuracy: 0.5001 - 3s/epoch - 70ms/step\n",
      "Epoch 31/50\n",
      "49/49 - 3s - loss: 0.8455 - accuracy: 0.7233 - val_loss: 1.5035 - val_accuracy: 0.4883 - 3s/epoch - 71ms/step\n",
      "Epoch 32/50\n",
      "49/49 - 4s - loss: 0.8274 - accuracy: 0.7290 - val_loss: 1.5131 - val_accuracy: 0.4927 - 4s/epoch - 75ms/step\n",
      "Epoch 33/50\n",
      "49/49 - 4s - loss: 0.8096 - accuracy: 0.7361 - val_loss: 1.5097 - val_accuracy: 0.4971 - 4s/epoch - 72ms/step\n",
      "Epoch 34/50\n",
      "49/49 - 4s - loss: 0.7890 - accuracy: 0.7452 - val_loss: 1.5103 - val_accuracy: 0.4984 - 4s/epoch - 81ms/step\n",
      "Epoch 35/50\n",
      "49/49 - 3s - loss: 0.7715 - accuracy: 0.7500 - val_loss: 1.5260 - val_accuracy: 0.4939 - 3s/epoch - 70ms/step\n",
      "Epoch 36/50\n",
      "49/49 - 4s - loss: 0.7511 - accuracy: 0.7590 - val_loss: 1.5308 - val_accuracy: 0.4890 - 4s/epoch - 71ms/step\n",
      "Epoch 37/50\n",
      "49/49 - 4s - loss: 0.7336 - accuracy: 0.7650 - val_loss: 1.5315 - val_accuracy: 0.4922 - 4s/epoch - 73ms/step\n",
      "Epoch 38/50\n",
      "49/49 - 3s - loss: 0.7153 - accuracy: 0.7723 - val_loss: 1.5518 - val_accuracy: 0.4927 - 3s/epoch - 71ms/step\n",
      "Epoch 39/50\n",
      "49/49 - 3s - loss: 0.6967 - accuracy: 0.7789 - val_loss: 1.5479 - val_accuracy: 0.4932 - 3s/epoch - 71ms/step\n",
      "Epoch 40/50\n",
      "49/49 - 3s - loss: 0.6769 - accuracy: 0.7885 - val_loss: 1.5514 - val_accuracy: 0.4934 - 3s/epoch - 71ms/step\n",
      "Epoch 41/50\n",
      "49/49 - 3s - loss: 0.6604 - accuracy: 0.7942 - val_loss: 1.5850 - val_accuracy: 0.4863 - 3s/epoch - 71ms/step\n",
      "Epoch 42/50\n",
      "49/49 - 4s - loss: 0.6399 - accuracy: 0.8038 - val_loss: 1.5701 - val_accuracy: 0.4935 - 4s/epoch - 83ms/step\n",
      "Epoch 43/50\n",
      "49/49 - 4s - loss: 0.6229 - accuracy: 0.8107 - val_loss: 1.5705 - val_accuracy: 0.4954 - 4s/epoch - 76ms/step\n",
      "Epoch 44/50\n",
      "49/49 - 3s - loss: 0.6074 - accuracy: 0.8162 - val_loss: 1.5970 - val_accuracy: 0.4945 - 3s/epoch - 70ms/step\n",
      "Epoch 45/50\n",
      "49/49 - 4s - loss: 0.5895 - accuracy: 0.8221 - val_loss: 1.6245 - val_accuracy: 0.4883 - 4s/epoch - 73ms/step\n",
      "Epoch 46/50\n",
      "49/49 - 3s - loss: 0.5721 - accuracy: 0.8305 - val_loss: 1.6376 - val_accuracy: 0.4875 - 3s/epoch - 70ms/step\n",
      "Epoch 47/50\n",
      "49/49 - 3s - loss: 0.5544 - accuracy: 0.8377 - val_loss: 1.6315 - val_accuracy: 0.4908 - 3s/epoch - 71ms/step\n",
      "Epoch 48/50\n",
      "49/49 - 3s - loss: 0.5356 - accuracy: 0.8444 - val_loss: 1.6346 - val_accuracy: 0.4915 - 3s/epoch - 71ms/step\n",
      "Epoch 49/50\n",
      "49/49 - 3s - loss: 0.5223 - accuracy: 0.8503 - val_loss: 1.6690 - val_accuracy: 0.4914 - 3s/epoch - 70ms/step\n",
      "Epoch 50/50\n",
      "49/49 - 3s - loss: 0.5052 - accuracy: 0.8568 - val_loss: 1.6622 - val_accuracy: 0.4900 - 3s/epoch - 71ms/step\n"
     ]
    }
   ],
   "source": [
    "model = build_mlp(input_shape=x_train.shape[1:])\n",
    "optimizer = keras.optimizers.SGD(learning_rate=LEARNING_RATE, nesterov=True, momentum=MOMENTUM)\n",
    "model.compile(loss=\"categorical_crossentropy\", metrics=[\"accuracy\"], optimizer=optimizer)\n",
    "\n",
    "history = model.fit(x_train, y_train, \n",
    "                    epochs=EPOCHS, \n",
    "                    batch_size=BATCH_SIZE, \n",
    "                    validation_data=(x_test, y_test), \n",
    "                    shuffle=True, \n",
    "                    verbose=2)\n",
    "\n",
    "# Collect results\n",
    "train_loss = model.history.history[\"loss\"]\n",
    "valid_loss = model.history.history[\"val_loss\"]\n",
    "train_acc = model.history.history[\"accuracy\"]\n",
    "valid_acc = model.history.history[\"val_accuracy\"]"
   ]
  },
  {
   "cell_type": "code",
   "execution_count": 8,
   "metadata": {},
   "outputs": [
    {
     "data": {
      "image/png": "[encoded data removed]",
      "text/plain": [
       "<Figure size 432x288 with 1 Axes>"
      ]
     },
     "metadata": {
      "needs_background": "light"
     },
     "output_type": "display_data"
    },
    {
     "data": {
      "image/png": "[encoded data removed]",
      "text/plain": [
       "<Figure size 432x288 with 1 Axes>"
      ]
     },
     "metadata": {
      "needs_background": "light"
     },
     "output_type": "display_data"
    }
   ],
   "source": [
    "import matplotlib.pyplot as plt\n",
    "%matplotlib inline\n",
    "\n",
    "plt.figure()\n",
    "plt.plot(range(len(train_loss)), train_loss, label=\"train loss\")\n",
    "plt.plot(range(len(valid_loss)), valid_loss, label=\"valid loss\")\n",
    "plt.legend()\n",
    "plt.title(\"Loss\")\n",
    "plt.show()\n",
    "\n",
    "plt.figure()\n",
    "plt.plot(range(len(train_acc)), train_acc, label=\"train accuracy\")\n",
    "plt.plot(range(len(valid_acc)), valid_acc, label=\"valid accuracy\")\n",
    "plt.legend()\n",
    "plt.title(\"Accuracy\")\n",
    "plt.show()"
   ]
  },
  {
   "cell_type": "markdown",
   "metadata": {},
   "source": [
    "## Work\n",
    "1. 試比較有 BN 在 Batch_size = 2, 16, 32, 128, 256 下的差異\n",
    "2. 請嘗試將 BN 放在 Activation 之前，並比較訓練結果"
   ]
  }
 ],
 "metadata": {
  "kernelspec": {
   "display_name": "Python 3",
   "language": "python",
   "name": "python3"
  },
  "language_info": {
   "codemirror_mode": {
    "name": "ipython",
    "version": 3
   },
   "file_extension": ".py",
   "mimetype": "text/x-python",
   "name": "python",
   "nbconvert_exporter": "python",
   "pygments_lexer": "ipython3",
   "version": "3.8.5"
  }
 },
 "nbformat": 4,
 "nbformat_minor": 2
}
