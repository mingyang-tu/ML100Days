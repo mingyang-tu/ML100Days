{
 "cells": [
  {
   "cell_type": "markdown",
   "metadata": {},
   "source": [
    "## 範例重點\n",
    "* 學習如何在 keras 中加入 reduce learning rate\n",
    "* 知道如何設定 reduce_lr 的監控目標\n",
    "* 比較使用有無使用 reduce_lr 時的 performance"
   ]
  },
  {
   "cell_type": "code",
   "execution_count": 1,
   "metadata": {},
   "outputs": [],
   "source": [
    "import os\n",
    "from tensorflow import keras\n",
    "\n",
    "# 本範例不需使用 GPU, 將 GPU 設定為 \"無\"\n",
    "os.environ[\"CUDA_VISIBLE_DEVICES\"] = \"\""
   ]
  },
  {
   "cell_type": "code",
   "execution_count": 2,
   "metadata": {},
   "outputs": [],
   "source": [
    "train, test = keras.datasets.cifar10.load_data()"
   ]
  },
  {
   "cell_type": "code",
   "execution_count": 3,
   "metadata": {},
   "outputs": [],
   "source": [
    "# 資料前處理\n",
    "def preproc_x(x, flatten=True):\n",
    "    x = x / 255.\n",
    "    if flatten:\n",
    "        x = x.reshape((len(x), -1))\n",
    "    return x\n",
    "\n",
    "def preproc_y(y, num_classes=10):\n",
    "    if y.shape[-1] == 1:\n",
    "        y = keras.utils.to_categorical(y, num_classes)\n",
    "    return y    "
   ]
  },
  {
   "cell_type": "code",
   "execution_count": 4,
   "metadata": {},
   "outputs": [],
   "source": [
    "x_train, y_train = train\n",
    "x_test, y_test = test\n",
    "\n",
    "# 資料前處理 - X 標準化\n",
    "x_train = preproc_x(x_train)\n",
    "x_test = preproc_x(x_test)\n",
    "\n",
    "# 資料前處理 - Y 轉成 onehot\n",
    "y_train = preproc_y(y_train)\n",
    "y_test = preproc_y(y_test)"
   ]
  },
  {
   "cell_type": "code",
   "execution_count": 5,
   "metadata": {},
   "outputs": [
    {
     "name": "stdout",
     "output_type": "stream",
     "text": [
      "Model: \"model\"\n",
      "_________________________________________________________________\n",
      " Layer (type)                Output Shape              Param #   \n",
      "=================================================================\n",
      " input_1 (InputLayer)        [(None, 3072)]            0         \n",
      "                                                                 \n",
      " hidden_layer1 (Dense)       (None, 512)               1573376   \n",
      "                                                                 \n",
      " batch_normalization (BatchN  (None, 512)              2048      \n",
      " ormalization)                                                   \n",
      "                                                                 \n",
      " hidden_layer2 (Dense)       (None, 256)               131328    \n",
      "                                                                 \n",
      " batch_normalization_1 (Batc  (None, 256)              1024      \n",
      " hNormalization)                                                 \n",
      "                                                                 \n",
      " hidden_layer3 (Dense)       (None, 128)               32896     \n",
      "                                                                 \n",
      " batch_normalization_2 (Batc  (None, 128)              512       \n",
      " hNormalization)                                                 \n",
      "                                                                 \n",
      " output (Dense)              (None, 10)                1290      \n",
      "                                                                 \n",
      "=================================================================\n",
      "Total params: 1,742,474\n",
      "Trainable params: 1,740,682\n",
      "Non-trainable params: 1,792\n",
      "_________________________________________________________________\n"
     ]
    }
   ],
   "source": [
    "from keras.layers import BatchNormalization\n",
    "\n",
    "\"\"\"\n",
    "建立神經網路，並加入 BN layer\n",
    "\"\"\"\n",
    "def build_mlp(input_shape, output_units=10, num_neurons=[512, 256, 128]):\n",
    "    input_layer = keras.layers.Input(input_shape)\n",
    "    \n",
    "    for i, n_units in enumerate(num_neurons):\n",
    "        if i == 0:\n",
    "            x = keras.layers.Dense(units=n_units, \n",
    "                                   activation=\"relu\", \n",
    "                                   name=\"hidden_layer\"+str(i+1))(input_layer)\n",
    "            x = BatchNormalization()(x)\n",
    "        else:\n",
    "            x = keras.layers.Dense(units=n_units, \n",
    "                                   activation=\"relu\", \n",
    "                                   name=\"hidden_layer\"+str(i+1))(x)\n",
    "            x = BatchNormalization()(x)\n",
    "    \n",
    "    out = keras.layers.Dense(units=output_units, activation=\"softmax\", name=\"output\")(x)\n",
    "    \n",
    "    model = keras.models.Model(inputs=[input_layer], outputs=[out])\n",
    "    return model\n",
    "\n",
    "model = build_mlp(input_shape=x_train.shape[1:])\n",
    "model.summary()"
   ]
  },
  {
   "cell_type": "code",
   "execution_count": 6,
   "metadata": {},
   "outputs": [],
   "source": [
    "## 超參數設定\n",
    "LEARNING_RATE = 1e-3\n",
    "EPOCHS = 50\n",
    "BATCH_SIZE = 1024\n",
    "MOMENTUM = 0.95"
   ]
  },
  {
   "cell_type": "code",
   "execution_count": 7,
   "metadata": {},
   "outputs": [],
   "source": [
    "\"\"\"\n",
    "# 載入 Callbacks, 並設定監控目標為 validation loss\n",
    "\n",
    "參數說明：\n",
    "monitor: 監控目標\n",
    "min_lr: 最低下降至多少學習率\n",
    "factor: 每次學習率要下降多少\n",
    "patience: 經過多少 Epoch 後模型沒有改善時會使用該功能\n",
    "\n",
    "\"\"\"\n",
    "from keras.callbacks import ReduceLROnPlateau\n",
    "\n",
    "reduce_lr = ReduceLROnPlateau(factor=0.5, \n",
    "                              min_lr=1e-12, \n",
    "                              monitor='val_loss', \n",
    "                              patience=5, \n",
    "                              verbose=1)"
   ]
  },
  {
   "cell_type": "code",
   "execution_count": 8,
   "metadata": {
    "scrolled": true
   },
   "outputs": [
    {
     "name": "stdout",
     "output_type": "stream",
     "text": [
      "Epoch 1/50\n",
      "49/49 [==============================] - 6s 108ms/step - loss: 1.7852 - accuracy: 0.3818 - val_loss: 2.5963 - val_accuracy: 0.1976 - lr: 0.0010\n",
      "Epoch 2/50\n",
      "49/49 [==============================] - 4s 76ms/step - loss: 1.5038 - accuracy: 0.4700 - val_loss: 1.9317 - val_accuracy: 0.3130 - lr: 0.0010\n",
      "Epoch 3/50\n",
      "49/49 [==============================] - 4s 77ms/step - loss: 1.4064 - accuracy: 0.5038 - val_loss: 1.7317 - val_accuracy: 0.3814 - lr: 0.0010\n",
      "Epoch 4/50\n",
      "49/49 [==============================] - 4s 75ms/step - loss: 1.3232 - accuracy: 0.5351 - val_loss: 1.9351 - val_accuracy: 0.3406 - lr: 0.0010\n",
      "Epoch 5/50\n",
      "49/49 [==============================] - 4s 85ms/step - loss: 1.2557 - accuracy: 0.5603 - val_loss: 1.6425 - val_accuracy: 0.4212 - lr: 0.0010\n",
      "Epoch 6/50\n",
      "49/49 [==============================] - 4s 86ms/step - loss: 1.1963 - accuracy: 0.5812 - val_loss: 1.7810 - val_accuracy: 0.3716 - lr: 0.0010\n",
      "Epoch 7/50\n",
      "49/49 [==============================] - 4s 78ms/step - loss: 1.1532 - accuracy: 0.5952 - val_loss: 1.7048 - val_accuracy: 0.4101 - lr: 0.0010\n",
      "Epoch 8/50\n",
      "49/49 [==============================] - 4s 80ms/step - loss: 1.1104 - accuracy: 0.6073 - val_loss: 1.8885 - val_accuracy: 0.3987 - lr: 0.0010\n",
      "Epoch 9/50\n",
      "49/49 [==============================] - 4s 77ms/step - loss: 1.0632 - accuracy: 0.6277 - val_loss: 1.8968 - val_accuracy: 0.3665 - lr: 0.0010\n",
      "Epoch 10/50\n",
      "49/49 [==============================] - ETA: 0s - loss: 1.0180 - accuracy: 0.6433\n",
      "Epoch 10: ReduceLROnPlateau reducing learning rate to 0.0005000000237487257.\n",
      "49/49 [==============================] - 4s 81ms/step - loss: 1.0180 - accuracy: 0.6433 - val_loss: 2.0563 - val_accuracy: 0.3399 - lr: 0.0010\n",
      "Epoch 11/50\n",
      "49/49 [==============================] - 4s 88ms/step - loss: 0.9196 - accuracy: 0.6825 - val_loss: 1.5311 - val_accuracy: 0.4726 - lr: 5.0000e-04\n",
      "Epoch 12/50\n",
      "49/49 [==============================] - 4s 84ms/step - loss: 0.8653 - accuracy: 0.7022 - val_loss: 1.5616 - val_accuracy: 0.4728 - lr: 5.0000e-04\n",
      "Epoch 13/50\n",
      "49/49 [==============================] - 4s 83ms/step - loss: 0.8273 - accuracy: 0.7159 - val_loss: 1.6451 - val_accuracy: 0.4511 - lr: 5.0000e-04\n",
      "Epoch 14/50\n",
      "49/49 [==============================] - 4s 81ms/step - loss: 0.7955 - accuracy: 0.7272 - val_loss: 1.5447 - val_accuracy: 0.4853 - lr: 5.0000e-04\n",
      "Epoch 15/50\n",
      "49/49 [==============================] - 4s 84ms/step - loss: 0.7618 - accuracy: 0.7404 - val_loss: 1.5472 - val_accuracy: 0.4769 - lr: 5.0000e-04\n",
      "Epoch 16/50\n",
      "49/49 [==============================] - ETA: 0s - loss: 0.7305 - accuracy: 0.7532\n",
      "Epoch 16: ReduceLROnPlateau reducing learning rate to 0.0002500000118743628.\n",
      "49/49 [==============================] - 4s 82ms/step - loss: 0.7305 - accuracy: 0.7532 - val_loss: 1.5978 - val_accuracy: 0.4789 - lr: 5.0000e-04\n",
      "Epoch 17/50\n",
      "49/49 [==============================] - 4s 83ms/step - loss: 0.6446 - accuracy: 0.7895 - val_loss: 1.4688 - val_accuracy: 0.5132 - lr: 2.5000e-04\n",
      "Epoch 18/50\n",
      "49/49 [==============================] - 4s 90ms/step - loss: 0.6070 - accuracy: 0.8081 - val_loss: 1.5397 - val_accuracy: 0.5049 - lr: 2.5000e-04\n",
      "Epoch 19/50\n",
      "49/49 [==============================] - 5s 94ms/step - loss: 0.5834 - accuracy: 0.8136 - val_loss: 1.5504 - val_accuracy: 0.4945 - lr: 2.5000e-04\n",
      "Epoch 20/50\n",
      "49/49 [==============================] - 4s 83ms/step - loss: 0.5582 - accuracy: 0.8235 - val_loss: 1.5549 - val_accuracy: 0.5048 - lr: 2.5000e-04\n",
      "Epoch 21/50\n",
      "49/49 [==============================] - 4s 82ms/step - loss: 0.5365 - accuracy: 0.8334 - val_loss: 1.5987 - val_accuracy: 0.5027 - lr: 2.5000e-04\n",
      "Epoch 22/50\n",
      "49/49 [==============================] - ETA: 0s - loss: 0.5155 - accuracy: 0.8409\n",
      "Epoch 22: ReduceLROnPlateau reducing learning rate to 0.0001250000059371814.\n",
      "49/49 [==============================] - 4s 86ms/step - loss: 0.5155 - accuracy: 0.8409 - val_loss: 1.5835 - val_accuracy: 0.5026 - lr: 2.5000e-04\n",
      "Epoch 23/50\n",
      "49/49 [==============================] - 4s 84ms/step - loss: 0.4634 - accuracy: 0.8652 - val_loss: 1.5316 - val_accuracy: 0.5224 - lr: 1.2500e-04\n",
      "Epoch 24/50\n",
      "49/49 [==============================] - 4s 84ms/step - loss: 0.4438 - accuracy: 0.8738 - val_loss: 1.6056 - val_accuracy: 0.5119 - lr: 1.2500e-04\n",
      "Epoch 25/50\n",
      "49/49 [==============================] - 4s 84ms/step - loss: 0.4298 - accuracy: 0.8809 - val_loss: 1.5677 - val_accuracy: 0.5182 - lr: 1.2500e-04\n",
      "Epoch 26/50\n",
      "49/49 [==============================] - 4s 83ms/step - loss: 0.4173 - accuracy: 0.8850 - val_loss: 1.5772 - val_accuracy: 0.5136 - lr: 1.2500e-04\n",
      "Epoch 27/50\n",
      "49/49 [==============================] - ETA: 0s - loss: 0.4052 - accuracy: 0.8887\n",
      "Epoch 27: ReduceLROnPlateau reducing learning rate to 6.25000029685907e-05.\n",
      "49/49 [==============================] - 4s 87ms/step - loss: 0.4052 - accuracy: 0.8887 - val_loss: 1.5661 - val_accuracy: 0.5176 - lr: 1.2500e-04\n",
      "Epoch 28/50\n",
      "49/49 [==============================] - 4s 85ms/step - loss: 0.3791 - accuracy: 0.9020 - val_loss: 1.5733 - val_accuracy: 0.5275 - lr: 6.2500e-05\n",
      "Epoch 29/50\n",
      "49/49 [==============================] - 5s 96ms/step - loss: 0.3704 - accuracy: 0.9055 - val_loss: 1.5919 - val_accuracy: 0.5221 - lr: 6.2500e-05\n",
      "Epoch 30/50\n",
      "49/49 [==============================] - 4s 91ms/step - loss: 0.3634 - accuracy: 0.9091 - val_loss: 1.5897 - val_accuracy: 0.5247 - lr: 6.2500e-05\n",
      "Epoch 31/50\n",
      "49/49 [==============================] - 4s 85ms/step - loss: 0.3568 - accuracy: 0.9108 - val_loss: 1.5967 - val_accuracy: 0.5271 - lr: 6.2500e-05\n",
      "Epoch 32/50\n",
      "49/49 [==============================] - ETA: 0s - loss: 0.3493 - accuracy: 0.9146\n",
      "Epoch 32: ReduceLROnPlateau reducing learning rate to 3.125000148429535e-05.\n",
      "49/49 [==============================] - 4s 84ms/step - loss: 0.3493 - accuracy: 0.9146 - val_loss: 1.6143 - val_accuracy: 0.5246 - lr: 6.2500e-05\n",
      "Epoch 33/50\n",
      "49/49 [==============================] - 4s 87ms/step - loss: 0.3374 - accuracy: 0.9194 - val_loss: 1.6041 - val_accuracy: 0.5259 - lr: 3.1250e-05\n",
      "Epoch 34/50\n",
      "49/49 [==============================] - 5s 104ms/step - loss: 0.3327 - accuracy: 0.9218 - val_loss: 1.6093 - val_accuracy: 0.5259 - lr: 3.1250e-05\n",
      "Epoch 35/50\n",
      "49/49 [==============================] - 5s 99ms/step - loss: 0.3292 - accuracy: 0.9238 - val_loss: 1.6120 - val_accuracy: 0.5263 - lr: 3.1250e-05\n",
      "Epoch 36/50\n",
      "49/49 [==============================] - 4s 81ms/step - loss: 0.3267 - accuracy: 0.9232 - val_loss: 1.6232 - val_accuracy: 0.5303 - lr: 3.1250e-05\n",
      "Epoch 37/50\n",
      "49/49 [==============================] - ETA: 0s - loss: 0.3223 - accuracy: 0.9266\n",
      "Epoch 37: ReduceLROnPlateau reducing learning rate to 1.5625000742147677e-05.\n",
      "49/49 [==============================] - 5s 97ms/step - loss: 0.3223 - accuracy: 0.9266 - val_loss: 1.6281 - val_accuracy: 0.5253 - lr: 3.1250e-05\n",
      "Epoch 38/50\n",
      "49/49 [==============================] - 4s 84ms/step - loss: 0.3166 - accuracy: 0.9287 - val_loss: 1.6226 - val_accuracy: 0.5279 - lr: 1.5625e-05\n",
      "Epoch 39/50\n",
      "49/49 [==============================] - 4s 88ms/step - loss: 0.3149 - accuracy: 0.9290 - val_loss: 1.6272 - val_accuracy: 0.5259 - lr: 1.5625e-05\n",
      "Epoch 40/50\n",
      "49/49 [==============================] - 5s 96ms/step - loss: 0.3128 - accuracy: 0.9297 - val_loss: 1.6337 - val_accuracy: 0.5249 - lr: 1.5625e-05\n",
      "Epoch 41/50\n",
      "49/49 [==============================] - 4s 86ms/step - loss: 0.3111 - accuracy: 0.9292 - val_loss: 1.6339 - val_accuracy: 0.5303 - lr: 1.5625e-05\n",
      "Epoch 42/50\n",
      "49/49 [==============================] - ETA: 0s - loss: 0.3098 - accuracy: 0.9303\n",
      "Epoch 42: ReduceLROnPlateau reducing learning rate to 7.812500371073838e-06.\n",
      "49/49 [==============================] - 4s 84ms/step - loss: 0.3098 - accuracy: 0.9303 - val_loss: 1.6308 - val_accuracy: 0.5307 - lr: 1.5625e-05\n",
      "Epoch 43/50\n",
      "49/49 [==============================] - 4s 83ms/step - loss: 0.3070 - accuracy: 0.9328 - val_loss: 1.6351 - val_accuracy: 0.5285 - lr: 7.8125e-06\n",
      "Epoch 44/50\n",
      "49/49 [==============================] - 4s 84ms/step - loss: 0.3048 - accuracy: 0.9336 - val_loss: 1.6384 - val_accuracy: 0.5277 - lr: 7.8125e-06\n",
      "Epoch 45/50\n",
      "49/49 [==============================] - 4s 86ms/step - loss: 0.3043 - accuracy: 0.9328 - val_loss: 1.6375 - val_accuracy: 0.5283 - lr: 7.8125e-06\n"
     ]
    },
    {
     "name": "stdout",
     "output_type": "stream",
     "text": [
      "Epoch 46/50\n",
      "49/49 [==============================] - 4s 78ms/step - loss: 0.3031 - accuracy: 0.9331 - val_loss: 1.6380 - val_accuracy: 0.5295 - lr: 7.8125e-06\n",
      "Epoch 47/50\n",
      "49/49 [==============================] - ETA: 0s - loss: 0.3027 - accuracy: 0.9332\n",
      "Epoch 47: ReduceLROnPlateau reducing learning rate to 3.906250185536919e-06.\n",
      "49/49 [==============================] - 4s 77ms/step - loss: 0.3027 - accuracy: 0.9332 - val_loss: 1.6427 - val_accuracy: 0.5289 - lr: 7.8125e-06\n",
      "Epoch 48/50\n",
      "49/49 [==============================] - 4s 76ms/step - loss: 0.3011 - accuracy: 0.9347 - val_loss: 1.6416 - val_accuracy: 0.5290 - lr: 3.9063e-06\n",
      "Epoch 49/50\n",
      "49/49 [==============================] - 4s 80ms/step - loss: 0.3009 - accuracy: 0.9347 - val_loss: 1.6427 - val_accuracy: 0.5279 - lr: 3.9063e-06\n",
      "Epoch 50/50\n",
      "49/49 [==============================] - 4s 75ms/step - loss: 0.2996 - accuracy: 0.9351 - val_loss: 1.6434 - val_accuracy: 0.5286 - lr: 3.9063e-06\n"
     ]
    }
   ],
   "source": [
    "optimizer = keras.optimizers.Adam(learning_rate=LEARNING_RATE)\n",
    "model.compile(loss=\"categorical_crossentropy\", metrics=[\"accuracy\"], optimizer=optimizer)\n",
    "\n",
    "history = model.fit(x_train, y_train, \n",
    "                    epochs=EPOCHS, \n",
    "                    batch_size=BATCH_SIZE, \n",
    "                    validation_data=(x_test, y_test), \n",
    "                    shuffle=True,\n",
    "                    callbacks=[reduce_lr], \n",
    "                    verbose=1)\n",
    "\n",
    "# Collect results\n",
    "train_loss = model.history.history[\"loss\"]\n",
    "valid_loss = model.history.history[\"val_loss\"]\n",
    "train_acc = model.history.history[\"accuracy\"]\n",
    "valid_acc = model.history.history[\"val_accuracy\"]"
   ]
  },
  {
   "cell_type": "code",
   "execution_count": 9,
   "metadata": {},
   "outputs": [
    {
     "data": {
      "image/png": "[encoded data removed]",
      "text/plain": [
       "<Figure size 432x288 with 1 Axes>"
      ]
     },
     "metadata": {
      "needs_background": "light"
     },
     "output_type": "display_data"
    },
    {
     "data": {
      "image/png": "[encoded data removed]",
      "text/plain": [
       "<Figure size 432x288 with 1 Axes>"
      ]
     },
     "metadata": {
      "needs_background": "light"
     },
     "output_type": "display_data"
    }
   ],
   "source": [
    "import matplotlib.pyplot as plt\n",
    "%matplotlib inline\n",
    "\n",
    "plt.figure()\n",
    "plt.plot(range(len(train_loss)), train_loss, label=\"train loss\")\n",
    "plt.plot(range(len(valid_loss)), valid_loss, label=\"valid loss\")\n",
    "plt.legend()\n",
    "plt.title(\"Loss\")\n",
    "plt.show()\n",
    "\n",
    "plt.figure()\n",
    "plt.plot(range(len(train_acc)), train_acc, label=\"train accuracy\")\n",
    "plt.plot(range(len(valid_acc)), valid_acc, label=\"valid accuracy\")\n",
    "plt.legend()\n",
    "plt.title(\"Accuracy\")\n",
    "plt.show()"
   ]
  },
  {
   "cell_type": "markdown",
   "metadata": {},
   "source": [
    "## Work\n",
    "1. 請改變 reduce_lr 的 patience 和 factor 並比較不同設定下，對訓練/驗證集的影響\n",
    "2. 請將 optimizer 換成 Adam、RMSprop 搭配 reduce_lr 並比較訓練結果"
   ]
  }
 ],
 "metadata": {
  "kernelspec": {
   "display_name": "Python 3",
   "language": "python",
   "name": "python3"
  },
  "language_info": {
   "codemirror_mode": {
    "name": "ipython",
    "version": 3
   },
   "file_extension": ".py",
   "mimetype": "text/x-python",
   "name": "python",
   "nbconvert_exporter": "python",
   "pygments_lexer": "ipython3",
   "version": "3.8.5"
  }
 },
 "nbformat": 4,
 "nbformat_minor": 2
}
