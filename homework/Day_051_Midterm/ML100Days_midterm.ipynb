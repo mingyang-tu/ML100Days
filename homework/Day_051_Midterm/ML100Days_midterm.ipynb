{
 "cells": [
  {
   "cell_type": "markdown",
   "metadata": {},
   "source": [
    "# ML100Days_Midterm"
   ]
  },
  {
   "cell_type": "markdown",
   "metadata": {
    "id": "rBec8DeIttj3"
   },
   "source": [
    "## Import Packages"
   ]
  },
  {
   "cell_type": "code",
   "execution_count": 1,
   "metadata": {
    "id": "B-rLE2mDpByw"
   },
   "outputs": [],
   "source": [
    "import pandas as pd\n",
    "import numpy as np\n",
    "import matplotlib.pyplot as plt\n",
    "from IPython.display import display\n",
    "from sklearn.preprocessing import MinMaxScaler\n",
    "from sklearn.linear_model import LogisticRegression"
   ]
  },
  {
   "cell_type": "markdown",
   "metadata": {
    "id": "AumA8Z-Wty2r"
   },
   "source": [
    "## Import Data"
   ]
  },
  {
   "cell_type": "code",
   "execution_count": 2,
   "metadata": {
    "colab": {
     "base_uri": "https://localhost:8080/",
     "height": 343
    },
    "id": "cj8TZA-Lu4t0",
    "outputId": "277518da-51ff-4bdf-e14e-7006e6041d82"
   },
   "outputs": [
    {
     "name": "stdout",
     "output_type": "stream",
     "text": [
      "The size of training data is (113, 22)\n",
      "The size of testing data is (33, 21)\n"
     ]
    },
    {
     "data": {
      "text/html": [
       "<div>\n",
       "<style scoped>\n",
       "    .dataframe tbody tr th:only-of-type {\n",
       "        vertical-align: middle;\n",
       "    }\n",
       "\n",
       "    .dataframe tbody tr th {\n",
       "        vertical-align: top;\n",
       "    }\n",
       "\n",
       "    .dataframe thead th {\n",
       "        text-align: right;\n",
       "    }\n",
       "</style>\n",
       "<table border=\"1\" class=\"dataframe\">\n",
       "  <thead>\n",
       "    <tr style=\"text-align: right;\">\n",
       "      <th></th>\n",
       "      <th>name</th>\n",
       "      <th>bonus</th>\n",
       "      <th>deferral_payments</th>\n",
       "      <th>deferred_income</th>\n",
       "      <th>director_fees</th>\n",
       "      <th>email_address</th>\n",
       "      <th>exercised_stock_options</th>\n",
       "      <th>expenses</th>\n",
       "      <th>from_messages</th>\n",
       "      <th>from_poi_to_this_person</th>\n",
       "      <th>...</th>\n",
       "      <th>long_term_incentive</th>\n",
       "      <th>other</th>\n",
       "      <th>poi</th>\n",
       "      <th>restricted_stock</th>\n",
       "      <th>restricted_stock_deferred</th>\n",
       "      <th>salary</th>\n",
       "      <th>shared_receipt_with_poi</th>\n",
       "      <th>to_messages</th>\n",
       "      <th>total_payments</th>\n",
       "      <th>total_stock_value</th>\n",
       "    </tr>\n",
       "  </thead>\n",
       "  <tbody>\n",
       "    <tr>\n",
       "      <th>0</th>\n",
       "      <td>RICE KENNETH D</td>\n",
       "      <td>1750000.0</td>\n",
       "      <td>NaN</td>\n",
       "      <td>-3504386.0</td>\n",
       "      <td>NaN</td>\n",
       "      <td>ken.rice@enron.com</td>\n",
       "      <td>19794175.0</td>\n",
       "      <td>46950.0</td>\n",
       "      <td>18.0</td>\n",
       "      <td>42.0</td>\n",
       "      <td>...</td>\n",
       "      <td>1617011.0</td>\n",
       "      <td>174839.0</td>\n",
       "      <td>True</td>\n",
       "      <td>2748364.0</td>\n",
       "      <td>NaN</td>\n",
       "      <td>420636.0</td>\n",
       "      <td>864.0</td>\n",
       "      <td>905.0</td>\n",
       "      <td>505050.0</td>\n",
       "      <td>22542539.0</td>\n",
       "    </tr>\n",
       "    <tr>\n",
       "      <th>1</th>\n",
       "      <td>SKILLING JEFFREY K</td>\n",
       "      <td>5600000.0</td>\n",
       "      <td>NaN</td>\n",
       "      <td>NaN</td>\n",
       "      <td>NaN</td>\n",
       "      <td>jeff.skilling@enron.com</td>\n",
       "      <td>19250000.0</td>\n",
       "      <td>29336.0</td>\n",
       "      <td>108.0</td>\n",
       "      <td>88.0</td>\n",
       "      <td>...</td>\n",
       "      <td>1920000.0</td>\n",
       "      <td>22122.0</td>\n",
       "      <td>True</td>\n",
       "      <td>6843672.0</td>\n",
       "      <td>NaN</td>\n",
       "      <td>1111258.0</td>\n",
       "      <td>2042.0</td>\n",
       "      <td>3627.0</td>\n",
       "      <td>8682716.0</td>\n",
       "      <td>26093672.0</td>\n",
       "    </tr>\n",
       "    <tr>\n",
       "      <th>2</th>\n",
       "      <td>SHELBY REX</td>\n",
       "      <td>200000.0</td>\n",
       "      <td>NaN</td>\n",
       "      <td>-4167.0</td>\n",
       "      <td>NaN</td>\n",
       "      <td>rex.shelby@enron.com</td>\n",
       "      <td>1624396.0</td>\n",
       "      <td>22884.0</td>\n",
       "      <td>39.0</td>\n",
       "      <td>13.0</td>\n",
       "      <td>...</td>\n",
       "      <td>NaN</td>\n",
       "      <td>1573324.0</td>\n",
       "      <td>True</td>\n",
       "      <td>869220.0</td>\n",
       "      <td>NaN</td>\n",
       "      <td>211844.0</td>\n",
       "      <td>91.0</td>\n",
       "      <td>225.0</td>\n",
       "      <td>2003885.0</td>\n",
       "      <td>2493616.0</td>\n",
       "    </tr>\n",
       "    <tr>\n",
       "      <th>3</th>\n",
       "      <td>KOPPER MICHAEL J</td>\n",
       "      <td>800000.0</td>\n",
       "      <td>NaN</td>\n",
       "      <td>NaN</td>\n",
       "      <td>NaN</td>\n",
       "      <td>michael.kopper@enron.com</td>\n",
       "      <td>NaN</td>\n",
       "      <td>118134.0</td>\n",
       "      <td>NaN</td>\n",
       "      <td>NaN</td>\n",
       "      <td>...</td>\n",
       "      <td>602671.0</td>\n",
       "      <td>907502.0</td>\n",
       "      <td>True</td>\n",
       "      <td>985032.0</td>\n",
       "      <td>NaN</td>\n",
       "      <td>224305.0</td>\n",
       "      <td>NaN</td>\n",
       "      <td>NaN</td>\n",
       "      <td>2652612.0</td>\n",
       "      <td>985032.0</td>\n",
       "    </tr>\n",
       "    <tr>\n",
       "      <th>4</th>\n",
       "      <td>CALGER CHRISTOPHER F</td>\n",
       "      <td>1250000.0</td>\n",
       "      <td>NaN</td>\n",
       "      <td>-262500.0</td>\n",
       "      <td>NaN</td>\n",
       "      <td>christopher.calger@enron.com</td>\n",
       "      <td>NaN</td>\n",
       "      <td>35818.0</td>\n",
       "      <td>144.0</td>\n",
       "      <td>199.0</td>\n",
       "      <td>...</td>\n",
       "      <td>375304.0</td>\n",
       "      <td>486.0</td>\n",
       "      <td>True</td>\n",
       "      <td>126027.0</td>\n",
       "      <td>NaN</td>\n",
       "      <td>240189.0</td>\n",
       "      <td>2188.0</td>\n",
       "      <td>2598.0</td>\n",
       "      <td>1639297.0</td>\n",
       "      <td>126027.0</td>\n",
       "    </tr>\n",
       "  </tbody>\n",
       "</table>\n",
       "<p>5 rows × 22 columns</p>\n",
       "</div>"
      ],
      "text/plain": [
       "                   name      bonus  deferral_payments  deferred_income  \\\n",
       "0        RICE KENNETH D  1750000.0                NaN       -3504386.0   \n",
       "1    SKILLING JEFFREY K  5600000.0                NaN              NaN   \n",
       "2            SHELBY REX   200000.0                NaN          -4167.0   \n",
       "3      KOPPER MICHAEL J   800000.0                NaN              NaN   \n",
       "4  CALGER CHRISTOPHER F  1250000.0                NaN        -262500.0   \n",
       "\n",
       "   director_fees                 email_address  exercised_stock_options  \\\n",
       "0            NaN            ken.rice@enron.com               19794175.0   \n",
       "1            NaN       jeff.skilling@enron.com               19250000.0   \n",
       "2            NaN          rex.shelby@enron.com                1624396.0   \n",
       "3            NaN      michael.kopper@enron.com                      NaN   \n",
       "4            NaN  christopher.calger@enron.com                      NaN   \n",
       "\n",
       "   expenses  from_messages  from_poi_to_this_person  ...  long_term_incentive  \\\n",
       "0   46950.0           18.0                     42.0  ...            1617011.0   \n",
       "1   29336.0          108.0                     88.0  ...            1920000.0   \n",
       "2   22884.0           39.0                     13.0  ...                  NaN   \n",
       "3  118134.0            NaN                      NaN  ...             602671.0   \n",
       "4   35818.0          144.0                    199.0  ...             375304.0   \n",
       "\n",
       "       other   poi  restricted_stock  restricted_stock_deferred     salary  \\\n",
       "0   174839.0  True         2748364.0                        NaN   420636.0   \n",
       "1    22122.0  True         6843672.0                        NaN  1111258.0   \n",
       "2  1573324.0  True          869220.0                        NaN   211844.0   \n",
       "3   907502.0  True          985032.0                        NaN   224305.0   \n",
       "4      486.0  True          126027.0                        NaN   240189.0   \n",
       "\n",
       "   shared_receipt_with_poi  to_messages  total_payments  total_stock_value  \n",
       "0                    864.0        905.0        505050.0         22542539.0  \n",
       "1                   2042.0       3627.0       8682716.0         26093672.0  \n",
       "2                     91.0        225.0       2003885.0          2493616.0  \n",
       "3                      NaN          NaN       2652612.0           985032.0  \n",
       "4                   2188.0       2598.0       1639297.0           126027.0  \n",
       "\n",
       "[5 rows x 22 columns]"
      ]
     },
     "execution_count": 2,
     "metadata": {},
     "output_type": "execute_result"
    }
   ],
   "source": [
    "data_root = './ml100_midterm/'\n",
    "\n",
    "data_train = pd.read_csv(data_root + 'train_data.csv')\n",
    "data_test = pd.read_csv(data_root + 'test_features.csv')\n",
    "\n",
    "train_shape = data_train.shape\n",
    "test_shape = data_test.shape\n",
    "print(f\"The size of training data is {train_shape}\")\n",
    "print(f\"The size of testing data is {test_shape}\")\n",
    "data_train.head()"
   ]
  },
  {
   "cell_type": "markdown",
   "metadata": {
    "id": "xPrv_MAYuCbi"
   },
   "source": [
    "## Preprocess"
   ]
  },
  {
   "cell_type": "code",
   "execution_count": 3,
   "metadata": {
    "colab": {
     "base_uri": "https://localhost:8080/"
    },
    "id": "6Ol_J6dLuslI",
    "outputId": "a52de1dc-f894-457b-f23c-973d9d9c45f6"
   },
   "outputs": [
    {
     "name": "stdout",
     "output_type": "stream",
     "text": [
      "Numeric Features: 19\n",
      "Others: 1\n"
     ]
    }
   ],
   "source": [
    "train_Y = data_train['poi'].map({False: 0, True: 1})\n",
    "name_test = data_test['name']\n",
    "\n",
    "df_train = data_train.drop(['name', 'poi'], axis=1)\n",
    "df_test = data_test.drop(['name'], axis=1)\n",
    "\n",
    "df = pd.concat([df_train, df_test])\n",
    "numeric_feature = 0\n",
    "non_numeric_feature = 0\n",
    "for dtype in df.dtypes:\n",
    "    if dtype == 'float64' or dtype == 'int64':\n",
    "        numeric_feature += 1\n",
    "    else:\n",
    "        non_numeric_feature += 1\n",
    "print(f'Numeric Features: {numeric_feature}')\n",
    "print(f'Others: {non_numeric_feature}')"
   ]
  },
  {
   "cell_type": "code",
   "execution_count": 4,
   "metadata": {
    "colab": {
     "base_uri": "https://localhost:8080/",
     "height": 224
    },
    "id": "la_xxDGgwL81",
    "outputId": "ef31f8f5-ea6e-42ed-a780-564e89165d02"
   },
   "outputs": [
    {
     "data": {
      "text/html": [
       "<div>\n",
       "<style scoped>\n",
       "    .dataframe tbody tr th:only-of-type {\n",
       "        vertical-align: middle;\n",
       "    }\n",
       "\n",
       "    .dataframe tbody tr th {\n",
       "        vertical-align: top;\n",
       "    }\n",
       "\n",
       "    .dataframe thead th {\n",
       "        text-align: right;\n",
       "    }\n",
       "</style>\n",
       "<table border=\"1\" class=\"dataframe\">\n",
       "  <thead>\n",
       "    <tr style=\"text-align: right;\">\n",
       "      <th></th>\n",
       "      <th>Missing Ratio</th>\n",
       "    </tr>\n",
       "  </thead>\n",
       "  <tbody>\n",
       "    <tr>\n",
       "      <th>loan_advances</th>\n",
       "      <td>97.260274</td>\n",
       "    </tr>\n",
       "    <tr>\n",
       "      <th>director_fees</th>\n",
       "      <td>88.356164</td>\n",
       "    </tr>\n",
       "    <tr>\n",
       "      <th>restricted_stock_deferred</th>\n",
       "      <td>87.671233</td>\n",
       "    </tr>\n",
       "    <tr>\n",
       "      <th>deferral_payments</th>\n",
       "      <td>73.287671</td>\n",
       "    </tr>\n",
       "    <tr>\n",
       "      <th>deferred_income</th>\n",
       "      <td>66.438356</td>\n",
       "    </tr>\n",
       "  </tbody>\n",
       "</table>\n",
       "</div>"
      ],
      "text/plain": [
       "                           Missing Ratio\n",
       "loan_advances                  97.260274\n",
       "director_fees                  88.356164\n",
       "restricted_stock_deferred      87.671233\n",
       "deferral_payments              73.287671\n",
       "deferred_income                66.438356"
      ]
     },
     "metadata": {},
     "output_type": "display_data"
    }
   ],
   "source": [
    "def na_check(df_data):\n",
    "    data_na = (df_data.isnull().sum() / len(df_data)) * 100\n",
    "    data_na = data_na.drop(data_na[data_na == 0].index).sort_values(ascending=False)\n",
    "    missing_data = pd.DataFrame({'Missing Ratio' :data_na})\n",
    "    display(missing_data.head())\n",
    "na_check(df)"
   ]
  },
  {
   "cell_type": "code",
   "execution_count": 5,
   "metadata": {},
   "outputs": [],
   "source": [
    "df[\"email_address\"] = df[\"email_address\"].notna().map({False: 0, True: 1})"
   ]
  },
  {
   "cell_type": "code",
   "execution_count": 6,
   "metadata": {
    "scrolled": true
   },
   "outputs": [
    {
     "name": "stdout",
     "output_type": "stream",
     "text": [
      "Column: bonus\n"
     ]
    },
    {
     "data": {
      "image/png": "[encoded data removed]",
      "text/plain": [
       "<Figure size 1080x72 with 2 Axes>"
      ]
     },
     "metadata": {
      "needs_background": "light"
     },
     "output_type": "display_data"
    },
    {
     "name": "stdout",
     "output_type": "stream",
     "text": [
      "Column: deferral_payments\n"
     ]
    },
    {
     "data": {
      "image/png": "[encoded data removed]",
      "text/plain": [
       "<Figure size 1080x72 with 2 Axes>"
      ]
     },
     "metadata": {
      "needs_background": "light"
     },
     "output_type": "display_data"
    },
    {
     "name": "stdout",
     "output_type": "stream",
     "text": [
      "Column: deferred_income\n"
     ]
    },
    {
     "data": {
      "image/png": "[encoded data removed]",
      "text/plain": [
       "<Figure size 1080x72 with 2 Axes>"
      ]
     },
     "metadata": {
      "needs_background": "light"
     },
     "output_type": "display_data"
    },
    {
     "name": "stdout",
     "output_type": "stream",
     "text": [
      "Column: director_fees\n"
     ]
    },
    {
     "data": {
      "image/png": "[encoded data removed]",
      "text/plain": [
       "<Figure size 1080x72 with 2 Axes>"
      ]
     },
     "metadata": {
      "needs_background": "light"
     },
     "output_type": "display_data"
    },
    {
     "name": "stdout",
     "output_type": "stream",
     "text": [
      "Column: email_address\n"
     ]
    },
    {
     "data": {
      "image/png": "[encoded data removed]",
      "text/plain": [
       "<Figure size 1080x72 with 2 Axes>"
      ]
     },
     "metadata": {
      "needs_background": "light"
     },
     "output_type": "display_data"
    },
    {
     "name": "stdout",
     "output_type": "stream",
     "text": [
      "Column: exercised_stock_options\n"
     ]
    },
    {
     "data": {
      "image/png": "[encoded data removed]",
      "text/plain": [
       "<Figure size 1080x72 with 2 Axes>"
      ]
     },
     "metadata": {
      "needs_background": "light"
     },
     "output_type": "display_data"
    },
    {
     "name": "stdout",
     "output_type": "stream",
     "text": [
      "Column: expenses\n"
     ]
    },
    {
     "data": {
      "image/png": "[encoded data removed]",
      "text/plain": [
       "<Figure size 1080x72 with 2 Axes>"
      ]
     },
     "metadata": {
      "needs_background": "light"
     },
     "output_type": "display_data"
    },
    {
     "name": "stdout",
     "output_type": "stream",
     "text": [
      "Column: from_messages\n"
     ]
    },
    {
     "data": {
      "image/png": "[encoded data removed]",
      "text/plain": [
       "<Figure size 1080x72 with 2 Axes>"
      ]
     },
     "metadata": {
      "needs_background": "light"
     },
     "output_type": "display_data"
    },
    {
     "name": "stdout",
     "output_type": "stream",
     "text": [
      "Column: from_poi_to_this_person\n"
     ]
    },
    {
     "data": {
      "image/png": "[encoded data removed]",
      "text/plain": [
       "<Figure size 1080x72 with 2 Axes>"
      ]
     },
     "metadata": {
      "needs_background": "light"
     },
     "output_type": "display_data"
    },
    {
     "name": "stdout",
     "output_type": "stream",
     "text": [
      "Column: from_this_person_to_poi\n"
     ]
    },
    {
     "data": {
      "image/png": "[encoded data removed]",
      "text/plain": [
       "<Figure size 1080x72 with 2 Axes>"
      ]
     },
     "metadata": {
      "needs_background": "light"
     },
     "output_type": "display_data"
    },
    {
     "name": "stdout",
     "output_type": "stream",
     "text": [
      "Column: loan_advances\n"
     ]
    },
    {
     "data": {
      "image/png": "[encoded data removed]",
      "text/plain": [
       "<Figure size 1080x72 with 2 Axes>"
      ]
     },
     "metadata": {
      "needs_background": "light"
     },
     "output_type": "display_data"
    },
    {
     "name": "stdout",
     "output_type": "stream",
     "text": [
      "Column: long_term_incentive\n"
     ]
    },
    {
     "data": {
      "image/png": "[encoded data removed]",
      "text/plain": [
       "<Figure size 1080x72 with 2 Axes>"
      ]
     },
     "metadata": {
      "needs_background": "light"
     },
     "output_type": "display_data"
    },
    {
     "name": "stdout",
     "output_type": "stream",
     "text": [
      "Column: other\n"
     ]
    },
    {
     "data": {
      "image/png": "[encoded data removed]",
      "text/plain": [
       "<Figure size 1080x72 with 2 Axes>"
      ]
     },
     "metadata": {
      "needs_background": "light"
     },
     "output_type": "display_data"
    },
    {
     "name": "stdout",
     "output_type": "stream",
     "text": [
      "Column: restricted_stock\n"
     ]
    },
    {
     "data": {
      "image/png": "[encoded data removed]",
      "text/plain": [
       "<Figure size 1080x72 with 2 Axes>"
      ]
     },
     "metadata": {
      "needs_background": "light"
     },
     "output_type": "display_data"
    },
    {
     "name": "stdout",
     "output_type": "stream",
     "text": [
      "Column: restricted_stock_deferred\n"
     ]
    },
    {
     "data": {
      "image/png": "[encoded data removed]",
      "text/plain": [
       "<Figure size 1080x72 with 2 Axes>"
      ]
     },
     "metadata": {
      "needs_background": "light"
     },
     "output_type": "display_data"
    },
    {
     "name": "stdout",
     "output_type": "stream",
     "text": [
      "Column: salary\n"
     ]
    },
    {
     "data": {
      "image/png": "[encoded data removed]",
      "text/plain": [
       "<Figure size 1080x72 with 2 Axes>"
      ]
     },
     "metadata": {
      "needs_background": "light"
     },
     "output_type": "display_data"
    },
    {
     "name": "stdout",
     "output_type": "stream",
     "text": [
      "Column: shared_receipt_with_poi\n"
     ]
    },
    {
     "data": {
      "image/png": "[encoded data removed]",
      "text/plain": [
       "<Figure size 1080x72 with 2 Axes>"
      ]
     },
     "metadata": {
      "needs_background": "light"
     },
     "output_type": "display_data"
    },
    {
     "name": "stdout",
     "output_type": "stream",
     "text": [
      "Column: to_messages\n"
     ]
    },
    {
     "data": {
      "image/png": "[encoded data removed]",
      "text/plain": [
       "<Figure size 1080x72 with 2 Axes>"
      ]
     },
     "metadata": {
      "needs_background": "light"
     },
     "output_type": "display_data"
    },
    {
     "name": "stdout",
     "output_type": "stream",
     "text": [
      "Column: total_payments\n"
     ]
    },
    {
     "data": {
      "image/png": "[encoded data removed]",
      "text/plain": [
       "<Figure size 1080x72 with 2 Axes>"
      ]
     },
     "metadata": {
      "needs_background": "light"
     },
     "output_type": "display_data"
    },
    {
     "name": "stdout",
     "output_type": "stream",
     "text": [
      "Column: total_stock_value\n"
     ]
    },
    {
     "data": {
      "image/png": "[encoded data removed]",
      "text/plain": [
       "<Figure size 1080x72 with 2 Axes>"
      ]
     },
     "metadata": {
      "needs_background": "light"
     },
     "output_type": "display_data"
    }
   ],
   "source": [
    "for col in df.columns:\n",
    "    print(f\"Column: {col}\")\n",
    "    datas1 = df[col][df[col].notnull()]\n",
    "    datas2 = abs(datas1)\n",
    "    datas2 = datas2[datas2 != 0]\n",
    "    \n",
    "    fig, ax = plt.subplots(1 ,2, figsize=(15, 1))\n",
    "    hist1 = ax[0].hist(datas1, bins=30)\n",
    "    hist2 = ax[1].hist(datas2, bins=30)\n",
    "    ax[0].set_title(f\"Data Size: {len(datas1)}\")\n",
    "    ax[1].set_title(f\"(Log Scale)Data Size: {len(datas2)}\")\n",
    "    ax[1].set_xscale('log')\n",
    "    plt.show()"
   ]
  },
  {
   "cell_type": "code",
   "execution_count": 7,
   "metadata": {},
   "outputs": [],
   "source": [
    "# fillna\n",
    "df[\"from_poi_to_this_person\"] = df[\"from_poi_to_this_person\"].fillna(df['from_poi_to_this_person'].median())\n",
    "df[\"from_this_person_to_poi\"] = df[\"from_this_person_to_poi\"].fillna(df['from_this_person_to_poi'].median())\n",
    "df = df.fillna(0)\n",
    "for col in df.columns:\n",
    "    if col != \"email_address\":\n",
    "        df[col] = df[col].map(lambda i: np.log(abs(i)) if i != 0 else 0)"
   ]
  },
  {
   "cell_type": "code",
   "execution_count": 8,
   "metadata": {},
   "outputs": [
    {
     "data": {
      "text/html": [
       "<div>\n",
       "<style scoped>\n",
       "    .dataframe tbody tr th:only-of-type {\n",
       "        vertical-align: middle;\n",
       "    }\n",
       "\n",
       "    .dataframe tbody tr th {\n",
       "        vertical-align: top;\n",
       "    }\n",
       "\n",
       "    .dataframe thead th {\n",
       "        text-align: right;\n",
       "    }\n",
       "</style>\n",
       "<table border=\"1\" class=\"dataframe\">\n",
       "  <thead>\n",
       "    <tr style=\"text-align: right;\">\n",
       "      <th></th>\n",
       "      <th>Missing Ratio</th>\n",
       "    </tr>\n",
       "  </thead>\n",
       "  <tbody>\n",
       "  </tbody>\n",
       "</table>\n",
       "</div>"
      ],
      "text/plain": [
       "Empty DataFrame\n",
       "Columns: [Missing Ratio]\n",
       "Index: []"
      ]
     },
     "metadata": {},
     "output_type": "display_data"
    },
    {
     "data": {
      "text/html": [
       "<div>\n",
       "<style scoped>\n",
       "    .dataframe tbody tr th:only-of-type {\n",
       "        vertical-align: middle;\n",
       "    }\n",
       "\n",
       "    .dataframe tbody tr th {\n",
       "        vertical-align: top;\n",
       "    }\n",
       "\n",
       "    .dataframe thead th {\n",
       "        text-align: right;\n",
       "    }\n",
       "</style>\n",
       "<table border=\"1\" class=\"dataframe\">\n",
       "  <thead>\n",
       "    <tr style=\"text-align: right;\">\n",
       "      <th></th>\n",
       "      <th>bonus</th>\n",
       "      <th>deferral_payments</th>\n",
       "      <th>deferred_income</th>\n",
       "      <th>director_fees</th>\n",
       "      <th>email_address</th>\n",
       "      <th>exercised_stock_options</th>\n",
       "      <th>expenses</th>\n",
       "      <th>from_messages</th>\n",
       "      <th>from_poi_to_this_person</th>\n",
       "      <th>from_this_person_to_poi</th>\n",
       "      <th>loan_advances</th>\n",
       "      <th>long_term_incentive</th>\n",
       "      <th>other</th>\n",
       "      <th>restricted_stock</th>\n",
       "      <th>restricted_stock_deferred</th>\n",
       "      <th>salary</th>\n",
       "      <th>shared_receipt_with_poi</th>\n",
       "      <th>to_messages</th>\n",
       "      <th>total_payments</th>\n",
       "      <th>total_stock_value</th>\n",
       "    </tr>\n",
       "  </thead>\n",
       "  <tbody>\n",
       "    <tr>\n",
       "      <th>0</th>\n",
       "      <td>14.375126</td>\n",
       "      <td>0.0</td>\n",
       "      <td>15.069526</td>\n",
       "      <td>0.0</td>\n",
       "      <td>1</td>\n",
       "      <td>16.800898</td>\n",
       "      <td>10.756838</td>\n",
       "      <td>2.890372</td>\n",
       "      <td>3.737670</td>\n",
       "      <td>1.386294</td>\n",
       "      <td>0.0</td>\n",
       "      <td>14.296090</td>\n",
       "      <td>12.071621</td>\n",
       "      <td>14.826516</td>\n",
       "      <td>0.0</td>\n",
       "      <td>12.949523</td>\n",
       "      <td>6.761573</td>\n",
       "      <td>6.807935</td>\n",
       "      <td>13.132413</td>\n",
       "      <td>16.930915</td>\n",
       "    </tr>\n",
       "    <tr>\n",
       "      <th>1</th>\n",
       "      <td>15.538277</td>\n",
       "      <td>0.0</td>\n",
       "      <td>0.000000</td>\n",
       "      <td>0.0</td>\n",
       "      <td>1</td>\n",
       "      <td>16.773022</td>\n",
       "      <td>10.286571</td>\n",
       "      <td>4.682131</td>\n",
       "      <td>4.477337</td>\n",
       "      <td>3.401197</td>\n",
       "      <td>0.0</td>\n",
       "      <td>14.467836</td>\n",
       "      <td>10.004328</td>\n",
       "      <td>15.738835</td>\n",
       "      <td>0.0</td>\n",
       "      <td>13.921003</td>\n",
       "      <td>7.621685</td>\n",
       "      <td>8.196161</td>\n",
       "      <td>15.976845</td>\n",
       "      <td>17.077203</td>\n",
       "    </tr>\n",
       "    <tr>\n",
       "      <th>2</th>\n",
       "      <td>12.206073</td>\n",
       "      <td>0.0</td>\n",
       "      <td>8.334952</td>\n",
       "      <td>0.0</td>\n",
       "      <td>1</td>\n",
       "      <td>14.300647</td>\n",
       "      <td>10.038193</td>\n",
       "      <td>3.663562</td>\n",
       "      <td>2.564949</td>\n",
       "      <td>2.639057</td>\n",
       "      <td>0.0</td>\n",
       "      <td>0.000000</td>\n",
       "      <td>14.268701</td>\n",
       "      <td>13.675352</td>\n",
       "      <td>0.0</td>\n",
       "      <td>12.263605</td>\n",
       "      <td>4.510860</td>\n",
       "      <td>5.416100</td>\n",
       "      <td>14.510598</td>\n",
       "      <td>14.729244</td>\n",
       "    </tr>\n",
       "    <tr>\n",
       "      <th>3</th>\n",
       "      <td>13.592367</td>\n",
       "      <td>0.0</td>\n",
       "      <td>0.000000</td>\n",
       "      <td>0.0</td>\n",
       "      <td>1</td>\n",
       "      <td>0.000000</td>\n",
       "      <td>11.679575</td>\n",
       "      <td>0.000000</td>\n",
       "      <td>3.555348</td>\n",
       "      <td>2.079442</td>\n",
       "      <td>0.0</td>\n",
       "      <td>13.309127</td>\n",
       "      <td>13.718451</td>\n",
       "      <td>13.800429</td>\n",
       "      <td>0.0</td>\n",
       "      <td>12.320762</td>\n",
       "      <td>0.000000</td>\n",
       "      <td>0.000000</td>\n",
       "      <td>14.791055</td>\n",
       "      <td>13.800429</td>\n",
       "    </tr>\n",
       "    <tr>\n",
       "      <th>4</th>\n",
       "      <td>14.038654</td>\n",
       "      <td>0.0</td>\n",
       "      <td>12.478006</td>\n",
       "      <td>0.0</td>\n",
       "      <td>1</td>\n",
       "      <td>0.000000</td>\n",
       "      <td>10.486206</td>\n",
       "      <td>4.969813</td>\n",
       "      <td>5.293305</td>\n",
       "      <td>3.218876</td>\n",
       "      <td>0.0</td>\n",
       "      <td>12.835492</td>\n",
       "      <td>6.186209</td>\n",
       "      <td>11.744251</td>\n",
       "      <td>0.0</td>\n",
       "      <td>12.389181</td>\n",
       "      <td>7.690743</td>\n",
       "      <td>7.862497</td>\n",
       "      <td>14.309778</td>\n",
       "      <td>11.744251</td>\n",
       "    </tr>\n",
       "  </tbody>\n",
       "</table>\n",
       "</div>"
      ],
      "text/plain": [
       "       bonus  deferral_payments  deferred_income  director_fees  \\\n",
       "0  14.375126                0.0        15.069526            0.0   \n",
       "1  15.538277                0.0         0.000000            0.0   \n",
       "2  12.206073                0.0         8.334952            0.0   \n",
       "3  13.592367                0.0         0.000000            0.0   \n",
       "4  14.038654                0.0        12.478006            0.0   \n",
       "\n",
       "   email_address  exercised_stock_options   expenses  from_messages  \\\n",
       "0              1                16.800898  10.756838       2.890372   \n",
       "1              1                16.773022  10.286571       4.682131   \n",
       "2              1                14.300647  10.038193       3.663562   \n",
       "3              1                 0.000000  11.679575       0.000000   \n",
       "4              1                 0.000000  10.486206       4.969813   \n",
       "\n",
       "   from_poi_to_this_person  from_this_person_to_poi  loan_advances  \\\n",
       "0                 3.737670                 1.386294            0.0   \n",
       "1                 4.477337                 3.401197            0.0   \n",
       "2                 2.564949                 2.639057            0.0   \n",
       "3                 3.555348                 2.079442            0.0   \n",
       "4                 5.293305                 3.218876            0.0   \n",
       "\n",
       "   long_term_incentive      other  restricted_stock  \\\n",
       "0            14.296090  12.071621         14.826516   \n",
       "1            14.467836  10.004328         15.738835   \n",
       "2             0.000000  14.268701         13.675352   \n",
       "3            13.309127  13.718451         13.800429   \n",
       "4            12.835492   6.186209         11.744251   \n",
       "\n",
       "   restricted_stock_deferred     salary  shared_receipt_with_poi  to_messages  \\\n",
       "0                        0.0  12.949523                 6.761573     6.807935   \n",
       "1                        0.0  13.921003                 7.621685     8.196161   \n",
       "2                        0.0  12.263605                 4.510860     5.416100   \n",
       "3                        0.0  12.320762                 0.000000     0.000000   \n",
       "4                        0.0  12.389181                 7.690743     7.862497   \n",
       "\n",
       "   total_payments  total_stock_value  \n",
       "0       13.132413          16.930915  \n",
       "1       15.976845          17.077203  \n",
       "2       14.510598          14.729244  \n",
       "3       14.791055          13.800429  \n",
       "4       14.309778          11.744251  "
      ]
     },
     "execution_count": 8,
     "metadata": {},
     "output_type": "execute_result"
    }
   ],
   "source": [
    "na_check(df)\n",
    "df.head()"
   ]
  },
  {
   "cell_type": "code",
   "execution_count": 9,
   "metadata": {
    "id": "33mCw7ZHk9M-"
   },
   "outputs": [],
   "source": [
    "# 切分訓練及測試資料集\n",
    "train_X = df[:train_shape[0]]\n",
    "test_X = df[train_shape[0]:]"
   ]
  },
  {
   "cell_type": "markdown",
   "metadata": {},
   "source": [
    "## Prediction"
   ]
  },
  {
   "cell_type": "code",
   "execution_count": 10,
   "metadata": {},
   "outputs": [],
   "source": [
    "# 使用邏輯斯迴歸作預測\n",
    "lr = LogisticRegression(tol=0.001, penalty='l2', fit_intercept=True, C=1.0, solver='lbfgs', max_iter=1000)"
   ]
  },
  {
   "cell_type": "code",
   "execution_count": 11,
   "metadata": {},
   "outputs": [],
   "source": [
    "lr.fit(train_X, train_Y)\n",
    "lr_pred = lr.predict_proba(test_X)[:,1]\n",
    "sub = pd.DataFrame({'name': name_test, 'poi': lr_pred})\n",
    "sub.to_csv('Prediction_lr.csv', index=False)"
   ]
  },
  {
   "cell_type": "code",
   "execution_count": null,
   "metadata": {},
   "outputs": [],
   "source": []
  }
 ],
 "metadata": {
  "colab": {
   "collapsed_sections": [],
   "name": "ML100Days_midterm.ipynb",
   "provenance": [],
   "toc_visible": true
  },
  "kernelspec": {
   "display_name": "Python 3",
   "language": "python",
   "name": "python3"
  },
  "language_info": {
   "codemirror_mode": {
    "name": "ipython",
    "version": 3
   },
   "file_extension": ".py",
   "mimetype": "text/x-python",
   "name": "python",
   "nbconvert_exporter": "python",
   "pygments_lexer": "ipython3",
   "version": "3.8.5"
  }
 },
 "nbformat": 4,
 "nbformat_minor": 1
}
