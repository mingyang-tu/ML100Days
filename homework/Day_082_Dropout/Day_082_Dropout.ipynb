{
 "cells": [
  {
   "cell_type": "markdown",
   "metadata": {},
   "source": [
    "## 範例重點\n",
    "* 知道如何在 keras 中加入 dropout\n",
    "* 了解 dropout 中 ratio 的意義與對訓練的影響"
   ]
  },
  {
   "cell_type": "code",
   "execution_count": 1,
   "metadata": {},
   "outputs": [],
   "source": [
    "import os\n",
    "from tensorflow import keras\n",
    "\n",
    "# 本範例不需使用 GPU, 將 GPU 設定為 \"無\"\n",
    "os.environ[\"CUDA_VISIBLE_DEVICES\"] = \"\""
   ]
  },
  {
   "cell_type": "code",
   "execution_count": 2,
   "metadata": {},
   "outputs": [],
   "source": [
    "train, test = keras.datasets.cifar10.load_data()"
   ]
  },
  {
   "cell_type": "code",
   "execution_count": 3,
   "metadata": {},
   "outputs": [],
   "source": [
    "# 資料前處理\n",
    "def preproc_x(x, flatten=True):\n",
    "    x = x / 255.\n",
    "    if flatten:\n",
    "        x = x.reshape((len(x), -1))\n",
    "    return x\n",
    "\n",
    "def preproc_y(y, num_classes=10):\n",
    "    if y.shape[-1] == 1:\n",
    "        y = keras.utils.to_categorical(y, num_classes)\n",
    "    return y    "
   ]
  },
  {
   "cell_type": "code",
   "execution_count": 4,
   "metadata": {},
   "outputs": [],
   "source": [
    "x_train, y_train = train\n",
    "x_test, y_test = test\n",
    "\n",
    "# 資料前處理 - X 標準化\n",
    "x_train = preproc_x(x_train)\n",
    "x_test = preproc_x(x_test)\n",
    "\n",
    "# 資料前處理 - Y 轉成 onehot\n",
    "y_train = preproc_y(y_train)\n",
    "y_test = preproc_y(y_test)"
   ]
  },
  {
   "cell_type": "code",
   "execution_count": 5,
   "metadata": {},
   "outputs": [
    {
     "name": "stdout",
     "output_type": "stream",
     "text": [
      "Model: \"model\"\n",
      "_________________________________________________________________\n",
      " Layer (type)                Output Shape              Param #   \n",
      "=================================================================\n",
      " input_1 (InputLayer)        [(None, 3072)]            0         \n",
      "                                                                 \n",
      " hidden_layer1 (Dense)       (None, 512)               1573376   \n",
      "                                                                 \n",
      " dropout (Dropout)           (None, 512)               0         \n",
      "                                                                 \n",
      " hidden_layer2 (Dense)       (None, 256)               131328    \n",
      "                                                                 \n",
      " dropout_1 (Dropout)         (None, 256)               0         \n",
      "                                                                 \n",
      " hidden_layer3 (Dense)       (None, 128)               32896     \n",
      "                                                                 \n",
      " dropout_2 (Dropout)         (None, 128)               0         \n",
      "                                                                 \n",
      " output (Dense)              (None, 10)                1290      \n",
      "                                                                 \n",
      "=================================================================\n",
      "Total params: 1,738,890\n",
      "Trainable params: 1,738,890\n",
      "Non-trainable params: 0\n",
      "_________________________________________________________________\n"
     ]
    }
   ],
   "source": [
    "from keras.layers import Dropout\n",
    "\n",
    "\"\"\"\n",
    "建立神經網路，並加入 dropout layer\n",
    "\"\"\"\n",
    "def build_mlp(input_shape, output_units=10, num_neurons=[512, 256, 128], drp_ratio=0.2):\n",
    "    input_layer = keras.layers.Input(input_shape)\n",
    "    \n",
    "    for i, n_units in enumerate(num_neurons):\n",
    "        if i == 0:\n",
    "            x = keras.layers.Dense(units=n_units, \n",
    "                                   activation=\"relu\", \n",
    "                                   name=\"hidden_layer\"+str(i+1))(input_layer)\n",
    "            x = Dropout(drp_ratio)(x)\n",
    "        else:\n",
    "            x = keras.layers.Dense(units=n_units, \n",
    "                                   activation=\"relu\", \n",
    "                                   name=\"hidden_layer\"+str(i+1))(x)\n",
    "            x = Dropout(drp_ratio)(x)\n",
    "    \n",
    "    out = keras.layers.Dense(units=output_units, activation=\"softmax\", name=\"output\")(x)\n",
    "    \n",
    "    model = keras.models.Model(inputs=[input_layer], outputs=[out])\n",
    "    return model\n",
    "\n",
    "model = build_mlp(input_shape=x_train.shape[1:])\n",
    "model.summary()"
   ]
  },
  {
   "cell_type": "code",
   "execution_count": 6,
   "metadata": {},
   "outputs": [],
   "source": [
    "# 超參數設定\n",
    "LEARNING_RATE = 1e-3\n",
    "EPOCHS = 50\n",
    "BATCH_SIZE = 256\n",
    "MOMENTUM = 0.95\n",
    "Dropout_EXP = 0.25"
   ]
  },
  {
   "cell_type": "code",
   "execution_count": 7,
   "metadata": {
    "scrolled": true
   },
   "outputs": [
    {
     "name": "stdout",
     "output_type": "stream",
     "text": [
      "Epoch 1/50\n",
      "196/196 - 4s - loss: 2.1826 - accuracy: 0.1886 - val_loss: 1.9895 - val_accuracy: 0.3015 - 4s/epoch - 21ms/step\n",
      "Epoch 2/50\n",
      "196/196 - 4s - loss: 1.9943 - accuracy: 0.2685 - val_loss: 1.8685 - val_accuracy: 0.3423 - 4s/epoch - 19ms/step\n",
      "Epoch 3/50\n",
      "196/196 - 4s - loss: 1.9094 - accuracy: 0.3050 - val_loss: 1.7980 - val_accuracy: 0.3635 - 4s/epoch - 19ms/step\n",
      "Epoch 4/50\n",
      "196/196 - 4s - loss: 1.8509 - accuracy: 0.3304 - val_loss: 1.7427 - val_accuracy: 0.3811 - 4s/epoch - 19ms/step\n",
      "Epoch 5/50\n",
      "196/196 - 4s - loss: 1.8102 - accuracy: 0.3472 - val_loss: 1.6981 - val_accuracy: 0.3967 - 4s/epoch - 19ms/step\n",
      "Epoch 6/50\n",
      "196/196 - 4s - loss: 1.7754 - accuracy: 0.3622 - val_loss: 1.6722 - val_accuracy: 0.4066 - 4s/epoch - 19ms/step\n",
      "Epoch 7/50\n",
      "196/196 - 4s - loss: 1.7461 - accuracy: 0.3733 - val_loss: 1.6419 - val_accuracy: 0.4161 - 4s/epoch - 20ms/step\n",
      "Epoch 8/50\n",
      "196/196 - 4s - loss: 1.7199 - accuracy: 0.3841 - val_loss: 1.6150 - val_accuracy: 0.4254 - 4s/epoch - 20ms/step\n",
      "Epoch 9/50\n",
      "196/196 - 4s - loss: 1.6923 - accuracy: 0.3910 - val_loss: 1.5970 - val_accuracy: 0.4341 - 4s/epoch - 20ms/step\n",
      "Epoch 10/50\n",
      "196/196 - 4s - loss: 1.6768 - accuracy: 0.4009 - val_loss: 1.5792 - val_accuracy: 0.4376 - 4s/epoch - 20ms/step\n",
      "Epoch 11/50\n",
      "196/196 - 4s - loss: 1.6539 - accuracy: 0.4111 - val_loss: 1.5627 - val_accuracy: 0.4496 - 4s/epoch - 20ms/step\n",
      "Epoch 12/50\n",
      "196/196 - 4s - loss: 1.6368 - accuracy: 0.4151 - val_loss: 1.5411 - val_accuracy: 0.4546 - 4s/epoch - 20ms/step\n",
      "Epoch 13/50\n",
      "196/196 - 4s - loss: 1.6205 - accuracy: 0.4224 - val_loss: 1.5282 - val_accuracy: 0.4529 - 4s/epoch - 20ms/step\n",
      "Epoch 14/50\n",
      "196/196 - 4s - loss: 1.6074 - accuracy: 0.4258 - val_loss: 1.5133 - val_accuracy: 0.4589 - 4s/epoch - 20ms/step\n",
      "Epoch 15/50\n",
      "196/196 - 4s - loss: 1.5909 - accuracy: 0.4355 - val_loss: 1.5041 - val_accuracy: 0.4655 - 4s/epoch - 20ms/step\n",
      "Epoch 16/50\n",
      "196/196 - 4s - loss: 1.5757 - accuracy: 0.4383 - val_loss: 1.4925 - val_accuracy: 0.4680 - 4s/epoch - 20ms/step\n",
      "Epoch 17/50\n",
      "196/196 - 4s - loss: 1.5652 - accuracy: 0.4427 - val_loss: 1.4803 - val_accuracy: 0.4724 - 4s/epoch - 20ms/step\n",
      "Epoch 18/50\n",
      "196/196 - 4s - loss: 1.5512 - accuracy: 0.4485 - val_loss: 1.4711 - val_accuracy: 0.4772 - 4s/epoch - 20ms/step\n",
      "Epoch 19/50\n",
      "196/196 - 4s - loss: 1.5423 - accuracy: 0.4547 - val_loss: 1.4638 - val_accuracy: 0.4804 - 4s/epoch - 20ms/step\n",
      "Epoch 20/50\n",
      "196/196 - 4s - loss: 1.5259 - accuracy: 0.4548 - val_loss: 1.4474 - val_accuracy: 0.4827 - 4s/epoch - 20ms/step\n",
      "Epoch 21/50\n",
      "196/196 - 4s - loss: 1.5184 - accuracy: 0.4590 - val_loss: 1.4410 - val_accuracy: 0.4868 - 4s/epoch - 20ms/step\n",
      "Epoch 22/50\n",
      "196/196 - 4s - loss: 1.5017 - accuracy: 0.4648 - val_loss: 1.4332 - val_accuracy: 0.4884 - 4s/epoch - 20ms/step\n",
      "Epoch 23/50\n",
      "196/196 - 4s - loss: 1.4938 - accuracy: 0.4668 - val_loss: 1.4268 - val_accuracy: 0.4915 - 4s/epoch - 20ms/step\n",
      "Epoch 24/50\n",
      "196/196 - 4s - loss: 1.4861 - accuracy: 0.4707 - val_loss: 1.4160 - val_accuracy: 0.4987 - 4s/epoch - 20ms/step\n",
      "Epoch 25/50\n",
      "196/196 - 4s - loss: 1.4764 - accuracy: 0.4743 - val_loss: 1.4123 - val_accuracy: 0.4990 - 4s/epoch - 20ms/step\n",
      "Epoch 26/50\n",
      "196/196 - 4s - loss: 1.4664 - accuracy: 0.4775 - val_loss: 1.4090 - val_accuracy: 0.4957 - 4s/epoch - 20ms/step\n",
      "Epoch 27/50\n",
      "196/196 - 4s - loss: 1.4583 - accuracy: 0.4792 - val_loss: 1.3948 - val_accuracy: 0.5014 - 4s/epoch - 20ms/step\n",
      "Epoch 28/50\n",
      "196/196 - 4s - loss: 1.4482 - accuracy: 0.4843 - val_loss: 1.3966 - val_accuracy: 0.4988 - 4s/epoch - 20ms/step\n",
      "Epoch 29/50\n",
      "196/196 - 4s - loss: 1.4368 - accuracy: 0.4870 - val_loss: 1.3902 - val_accuracy: 0.5034 - 4s/epoch - 20ms/step\n",
      "Epoch 30/50\n",
      "196/196 - 4s - loss: 1.4305 - accuracy: 0.4899 - val_loss: 1.3764 - val_accuracy: 0.5051 - 4s/epoch - 21ms/step\n",
      "Epoch 31/50\n",
      "196/196 - 4s - loss: 1.4205 - accuracy: 0.4946 - val_loss: 1.3767 - val_accuracy: 0.5036 - 4s/epoch - 20ms/step\n",
      "Epoch 32/50\n",
      "196/196 - 4s - loss: 1.4075 - accuracy: 0.4998 - val_loss: 1.3662 - val_accuracy: 0.5148 - 4s/epoch - 20ms/step\n",
      "Epoch 33/50\n",
      "196/196 - 5s - loss: 1.4053 - accuracy: 0.4998 - val_loss: 1.3695 - val_accuracy: 0.5083 - 5s/epoch - 23ms/step\n",
      "Epoch 34/50\n",
      "196/196 - 4s - loss: 1.3960 - accuracy: 0.5026 - val_loss: 1.3570 - val_accuracy: 0.5119 - 4s/epoch - 22ms/step\n",
      "Epoch 35/50\n",
      "196/196 - 4s - loss: 1.3914 - accuracy: 0.5042 - val_loss: 1.3571 - val_accuracy: 0.5114 - 4s/epoch - 21ms/step\n",
      "Epoch 36/50\n",
      "196/196 - 4s - loss: 1.3822 - accuracy: 0.5085 - val_loss: 1.3513 - val_accuracy: 0.5180 - 4s/epoch - 19ms/step\n",
      "Epoch 37/50\n",
      "196/196 - 4s - loss: 1.3749 - accuracy: 0.5067 - val_loss: 1.3513 - val_accuracy: 0.5196 - 4s/epoch - 20ms/step\n",
      "Epoch 38/50\n",
      "196/196 - 4s - loss: 1.3677 - accuracy: 0.5105 - val_loss: 1.3397 - val_accuracy: 0.5204 - 4s/epoch - 20ms/step\n",
      "Epoch 39/50\n",
      "196/196 - 4s - loss: 1.3612 - accuracy: 0.5135 - val_loss: 1.3459 - val_accuracy: 0.5188 - 4s/epoch - 20ms/step\n",
      "Epoch 40/50\n",
      "196/196 - 4s - loss: 1.3594 - accuracy: 0.5149 - val_loss: 1.3464 - val_accuracy: 0.5156 - 4s/epoch - 20ms/step\n",
      "Epoch 41/50\n",
      "196/196 - 4s - loss: 1.3523 - accuracy: 0.5193 - val_loss: 1.3475 - val_accuracy: 0.5170 - 4s/epoch - 20ms/step\n",
      "Epoch 42/50\n",
      "196/196 - 4s - loss: 1.3447 - accuracy: 0.5190 - val_loss: 1.3398 - val_accuracy: 0.5249 - 4s/epoch - 20ms/step\n",
      "Epoch 43/50\n",
      "196/196 - 4s - loss: 1.3398 - accuracy: 0.5193 - val_loss: 1.3354 - val_accuracy: 0.5235 - 4s/epoch - 20ms/step\n",
      "Epoch 44/50\n",
      "196/196 - 4s - loss: 1.3278 - accuracy: 0.5248 - val_loss: 1.3350 - val_accuracy: 0.5230 - 4s/epoch - 20ms/step\n",
      "Epoch 45/50\n",
      "196/196 - 4s - loss: 1.3205 - accuracy: 0.5284 - val_loss: 1.3228 - val_accuracy: 0.5282 - 4s/epoch - 20ms/step\n",
      "Epoch 46/50\n",
      "196/196 - 4s - loss: 1.3155 - accuracy: 0.5294 - val_loss: 1.3341 - val_accuracy: 0.5184 - 4s/epoch - 20ms/step\n",
      "Epoch 47/50\n",
      "196/196 - 4s - loss: 1.3096 - accuracy: 0.5362 - val_loss: 1.3207 - val_accuracy: 0.5253 - 4s/epoch - 20ms/step\n",
      "Epoch 48/50\n",
      "196/196 - 4s - loss: 1.2971 - accuracy: 0.5380 - val_loss: 1.3282 - val_accuracy: 0.5284 - 4s/epoch - 20ms/step\n",
      "Epoch 49/50\n",
      "196/196 - 4s - loss: 1.2946 - accuracy: 0.5390 - val_loss: 1.3107 - val_accuracy: 0.5339 - 4s/epoch - 21ms/step\n",
      "Epoch 50/50\n",
      "196/196 - 4s - loss: 1.2933 - accuracy: 0.5402 - val_loss: 1.3071 - val_accuracy: 0.5280 - 4s/epoch - 20ms/step\n"
     ]
    }
   ],
   "source": [
    "model = build_mlp(input_shape=x_train.shape[1:], drp_ratio=Dropout_EXP)\n",
    "optimizer = keras.optimizers.SGD(learning_rate=LEARNING_RATE, nesterov=True, momentum=MOMENTUM)\n",
    "model.compile(loss=\"categorical_crossentropy\", metrics=[\"accuracy\"], optimizer=optimizer)\n",
    "\n",
    "history = model.fit(x_train, y_train, \n",
    "                    epochs=EPOCHS, \n",
    "                    batch_size=BATCH_SIZE, \n",
    "                    validation_data=(x_test, y_test), \n",
    "                    shuffle=True, \n",
    "                    verbose=2)\n",
    "\n",
    "# Collect results\n",
    "train_loss = model.history.history[\"loss\"]\n",
    "valid_loss = model.history.history[\"val_loss\"]\n",
    "train_acc = model.history.history[\"accuracy\"]\n",
    "valid_acc = model.history.history[\"val_accuracy\"]"
   ]
  },
  {
   "cell_type": "code",
   "execution_count": 8,
   "metadata": {},
   "outputs": [
    {
     "data": {
      "image/png": "[encoded data removed]",
      "text/plain": [
       "<Figure size 432x288 with 1 Axes>"
      ]
     },
     "metadata": {
      "needs_background": "light"
     },
     "output_type": "display_data"
    },
    {
     "data": {
      "image/png": "[encoded data removed]",
      "text/plain": [
       "<Figure size 432x288 with 1 Axes>"
      ]
     },
     "metadata": {
      "needs_background": "light"
     },
     "output_type": "display_data"
    }
   ],
   "source": [
    "import matplotlib.pyplot as plt\n",
    "%matplotlib inline\n",
    "\n",
    "plt.figure()\n",
    "plt.plot(range(len(train_loss)), train_loss, label=\"train loss\")\n",
    "plt.plot(range(len(valid_loss)), valid_loss, label=\"valid loss\")\n",
    "plt.legend()\n",
    "plt.title(\"Loss\")\n",
    "plt.show()\n",
    "\n",
    "plt.figure()\n",
    "plt.plot(range(len(train_acc)), train_acc, label=\"train accuracy\")\n",
    "plt.plot(range(len(valid_acc)), valid_acc, label=\"valid accuracy\")\n",
    "plt.legend()\n",
    "plt.title(\"Accuracy\")\n",
    "plt.show()"
   ]
  },
  {
   "cell_type": "markdown",
   "metadata": {},
   "source": [
    "## Work\n",
    "1. 請比較使用不同層數以及不同 Dropout rate 對訓練的效果\n",
    "2. 將 optimizer 改成使用 Adam 並加上適當的 dropout rate 檢視結果"
   ]
  }
 ],
 "metadata": {
  "kernelspec": {
   "display_name": "Python 3",
   "language": "python",
   "name": "python3"
  },
  "language_info": {
   "codemirror_mode": {
    "name": "ipython",
    "version": 3
   },
   "file_extension": ".py",
   "mimetype": "text/x-python",
   "name": "python",
   "nbconvert_exporter": "python",
   "pygments_lexer": "ipython3",
   "version": "3.8.5"
  }
 },
 "nbformat": 4,
 "nbformat_minor": 2
}
