{
 "cells": [
  {
   "cell_type": "markdown",
   "metadata": {},
   "source": [
    "# 作業重點:\n",
    "\n",
    "(1) 以 Adam 為例, 調整 batch_size, epoch, 觀察 accuracy, loss 的變化\n",
    "\n",
    "(2) 以同一模型, 分別驗證 SGD, Adam, RMSprop 的 accuracy"
   ]
  },
  {
   "cell_type": "markdown",
   "metadata": {},
   "source": [
    "# 作業目標:\n",
    "    \n",
    "    取得各種優化器的運算結果"
   ]
  },
  {
   "cell_type": "code",
   "execution_count": 1,
   "metadata": {},
   "outputs": [],
   "source": [
    "from __future__ import print_function\n",
    "import keras\n",
    "from keras.datasets import cifar10\n",
    "from keras.preprocessing.image import ImageDataGenerator\n",
    "from keras.models import Sequential\n",
    "from keras.layers import Dense, Dropout, Activation, Flatten\n",
    "from keras.layers import Conv2D, MaxPooling2D\n",
    "import os\n",
    "from tensorflow.keras import optimizers\n",
    "import matplotlib.pyplot as plt"
   ]
  },
  {
   "cell_type": "code",
   "execution_count": 2,
   "metadata": {},
   "outputs": [],
   "source": [
    "# Blas GEMM launch failed, 避免動態分配 GPU / CPU, 出現問題\n",
    "import tensorflow as tf\n",
    "gpu_options = tf.compat.v1.GPUOptions(per_process_gpu_memory_fraction=0.333)\n",
    "sess = tf.compat.v1.Session(config=tf.compat.v1.ConfigProto(gpu_options=gpu_options))"
   ]
  },
  {
   "cell_type": "code",
   "execution_count": 3,
   "metadata": {},
   "outputs": [],
   "source": [
    "batch_size = 32\n",
    "num_classes = 10\n",
    "epochs = 10\n",
    "data_augmentation = True\n",
    "num_predictions = 20\n",
    "# save_dir = os.path.join(os.getcwd(), 'saved_models')"
   ]
  },
  {
   "cell_type": "code",
   "execution_count": 4,
   "metadata": {},
   "outputs": [
    {
     "name": "stdout",
     "output_type": "stream",
     "text": [
      "x_train shape: (50000, 32, 32, 3)\n",
      "50000 training samples\n",
      "10000 testing samples\n"
     ]
    }
   ],
   "source": [
    "# split data to training and testing sets:\n",
    "(x_train, y_train), (x_test, y_test) = cifar10.load_data()\n",
    "print('x_train shape:', x_train.shape)\n",
    "print(x_train.shape[0], 'training samples')\n",
    "print(x_test.shape[0], 'testing samples')\n",
    "\n",
    "# Convert class vectors to binary class matrices\n",
    "y_train = keras.utils.np_utils.to_categorical(y_train, num_classes)\n",
    "y_test = keras.utils.np_utils.to_categorical(y_test, num_classes)"
   ]
  },
  {
   "cell_type": "code",
   "execution_count": 5,
   "metadata": {},
   "outputs": [],
   "source": [
    "# 資料正規化\n",
    "x_train = x_train.astype('float32')\n",
    "x_test = x_test.astype('float32')\n",
    "x_train /= 255\n",
    "x_test /= 255"
   ]
  },
  {
   "cell_type": "code",
   "execution_count": 6,
   "metadata": {},
   "outputs": [],
   "source": [
    "def Create_Model():\n",
    "    # 第一步：選擇模型, 順序模型是多個網絡層的線性堆疊\n",
    "    model = Sequential()\n",
    "\n",
    "    # 第二步：構建網絡層\n",
    "    model.add(Conv2D(32, (3, 3), padding='same',\n",
    "                     input_shape=x_train.shape[1:]))\n",
    "    model.add(Activation('relu'))\n",
    "    model.add(Conv2D(32, (3, 3)))\n",
    "    model.add(Activation('relu'))\n",
    "    model.add(MaxPooling2D(pool_size=(2, 2)))\n",
    "\n",
    "    model.add(Conv2D(64, (3, 3), padding='same'))\n",
    "    model.add(Activation('relu'))\n",
    "    model.add(Conv2D(64, (3, 3)))\n",
    "    model.add(Activation('relu'))\n",
    "    model.add(MaxPooling2D(pool_size=(2, 2)))\n",
    "\n",
    "    model.add(Flatten())\n",
    "    model.add(Dense(512))\n",
    "    model.add(Activation('relu'))\n",
    "\n",
    "    # 輸出結果是 10 個類別，所以維度是 10\n",
    "    model.add(Dense(10))\n",
    "    # 最後一層用 softmax 作為啟動函數\n",
    "    model.add(Activation('softmax'))\n",
    "    \n",
    "    return model"
   ]
  },
  {
   "cell_type": "code",
   "execution_count": 7,
   "metadata": {},
   "outputs": [
    {
     "name": "stdout",
     "output_type": "stream",
     "text": [
      "Total Parameters：1250858\n"
     ]
    }
   ],
   "source": [
    "model = Create_Model()\n",
    "# 模型建立完成後，統計參數總量\n",
    "print(\"Total Parameters：%d\" % model.count_params())"
   ]
  },
  {
   "cell_type": "code",
   "execution_count": 8,
   "metadata": {},
   "outputs": [
    {
     "name": "stdout",
     "output_type": "stream",
     "text": [
      "Model: \"sequential\"\n",
      "_________________________________________________________________\n",
      " Layer (type)                Output Shape              Param #   \n",
      "=================================================================\n",
      " conv2d (Conv2D)             (None, 32, 32, 32)        896       \n",
      "                                                                 \n",
      " activation (Activation)     (None, 32, 32, 32)        0         \n",
      "                                                                 \n",
      " conv2d_1 (Conv2D)           (None, 30, 30, 32)        9248      \n",
      "                                                                 \n",
      " activation_1 (Activation)   (None, 30, 30, 32)        0         \n",
      "                                                                 \n",
      " max_pooling2d (MaxPooling2D  (None, 15, 15, 32)       0         \n",
      " )                                                               \n",
      "                                                                 \n",
      " conv2d_2 (Conv2D)           (None, 15, 15, 64)        18496     \n",
      "                                                                 \n",
      " activation_2 (Activation)   (None, 15, 15, 64)        0         \n",
      "                                                                 \n",
      " conv2d_3 (Conv2D)           (None, 13, 13, 64)        36928     \n",
      "                                                                 \n",
      " activation_3 (Activation)   (None, 13, 13, 64)        0         \n",
      "                                                                 \n",
      " max_pooling2d_1 (MaxPooling  (None, 6, 6, 64)         0         \n",
      " 2D)                                                             \n",
      "                                                                 \n",
      " flatten (Flatten)           (None, 2304)              0         \n",
      "                                                                 \n",
      " dense (Dense)               (None, 512)               1180160   \n",
      "                                                                 \n",
      " activation_4 (Activation)   (None, 512)               0         \n",
      "                                                                 \n",
      " dense_1 (Dense)             (None, 10)                5130      \n",
      "                                                                 \n",
      " activation_5 (Activation)   (None, 10)                0         \n",
      "                                                                 \n",
      "=================================================================\n",
      "Total params: 1,250,858\n",
      "Trainable params: 1,250,858\n",
      "Non-trainable params: 0\n",
      "_________________________________________________________________\n"
     ]
    }
   ],
   "source": [
    "# 輸出模型摘要資訊\n",
    "model.summary()"
   ]
  },
  {
   "cell_type": "code",
   "execution_count": 9,
   "metadata": {},
   "outputs": [],
   "source": [
    "def Train(model, opt, data_augmentation, \n",
    "          x_train, y_train, \n",
    "          x_test, y_test, \n",
    "          batch_size, epochs):\n",
    "    \n",
    "    model.compile(optimizer=opt, loss='categorical_crossentropy', metrics=['accuracy'])\n",
    "    \n",
    "    # 是否要做資料處理\n",
    "    if not data_augmentation:\n",
    "        print('Not using data augmentation.')\n",
    "        history = model.fit(x_train, y_train,\n",
    "                            batch_size=batch_size,\n",
    "                            epochs=epochs,\n",
    "                            validation_data=(x_test, y_test),\n",
    "                            shuffle=True)\n",
    "    else:\n",
    "        print('Using real-time data augmentation.')\n",
    "\n",
    "        # This will do preprocessing and realtime data augmentation:\n",
    "        datagen = ImageDataGenerator(\n",
    "            # set input mean to 0 over the dataset\n",
    "            featurewise_center=False,\n",
    "            # set each sample mean to 0\n",
    "            samplewise_center=False,\n",
    "            # divide inputs by std of the dataset\n",
    "            featurewise_std_normalization=False,\n",
    "            # divide each input by its std\n",
    "            samplewise_std_normalization=False,\n",
    "            # apply ZCA whitening\n",
    "            zca_whitening=False,\n",
    "            # epsilon for ZCA whitening\n",
    "            zca_epsilon=1e-06,\n",
    "            # randomly rotate images in the range (degrees, 0 to 180)\n",
    "            rotation_range=0,\n",
    "            # randomly shift images horizontally (fraction of total width)\n",
    "            width_shift_range=0.1,\n",
    "            # randomly shift images vertically (fraction of total height)\n",
    "            height_shift_range=0.1,\n",
    "            # set range for random shear\n",
    "            shear_range=0.,\n",
    "            # set range for random zoom\n",
    "            zoom_range=0.,\n",
    "            # set range for random channel shifts\n",
    "            channel_shift_range=0.,\n",
    "            # set mode for filling points outside the input boundaries\n",
    "            fill_mode='nearest',\n",
    "            # value used for fill_mode = \"constant\"\n",
    "            cval=0.,\n",
    "            # randomly flip images\n",
    "            horizontal_flip=True,\n",
    "            vertical_flip=False,\n",
    "            # set rescaling factor (applied before any other transformation)\n",
    "            rescale=None,\n",
    "            # set function that will be applied on each input\n",
    "            preprocessing_function=None,\n",
    "            # image data format, either \"channels_first\" or \"channels_last\"\n",
    "            data_format=None,\n",
    "            # fraction of images reserved for validation (strictly between 0 and 1)\n",
    "            validation_split=0.0)\n",
    "\n",
    "        # Compute quantities required for feature-wise normalization\n",
    "        # (std, mean, and principal components if ZCA whitening is applied).\n",
    "        datagen.fit(x_train)\n",
    "        \n",
    "        history = model.fit(datagen.flow(x_train, y_train, batch_size=batch_size),\n",
    "                            steps_per_epoch=len(x_train) / batch_size, \n",
    "                            epochs=epochs, \n",
    "                            validation_data=(x_test, y_test),\n",
    "                            shuffle=True, \n",
    "                            verbose=1)\n",
    "\n",
    "    #    第四步：訓練\n",
    "    #    .fit的一些參數\n",
    "    #    batch_size：對總的樣本數進行分組，每組包含的樣本數量\n",
    "    #    epochs ：訓練次數\n",
    "    #    shuffle：是否把數據隨機打亂之後再進行訓練\n",
    "    #    validation_split：拿出百分之多少用來做交叉驗證\n",
    "    #    verbose：屏顯模式 - 0：不輸出, 1：輸出進度, 2：輸出每次的訓練結果\n",
    "    \n",
    "    return model, history"
   ]
  },
  {
   "cell_type": "markdown",
   "metadata": {},
   "source": [
    "## SGD"
   ]
  },
  {
   "cell_type": "code",
   "execution_count": 10,
   "metadata": {
    "scrolled": true
   },
   "outputs": [
    {
     "name": "stdout",
     "output_type": "stream",
     "text": [
      "Using real-time data augmentation.\n",
      "Epoch 1/10\n",
      "1562/1562 [==============================] - 123s 78ms/step - loss: 1.7513 - accuracy: 0.3539 - val_loss: 1.3979 - val_accuracy: 0.5059\n",
      "Epoch 2/10\n",
      "1562/1562 [==============================] - 114s 73ms/step - loss: 1.3267 - accuracy: 0.5215 - val_loss: 1.1277 - val_accuracy: 0.5956\n",
      "Epoch 3/10\n",
      "1562/1562 [==============================] - 114s 73ms/step - loss: 1.1258 - accuracy: 0.5995 - val_loss: 1.0294 - val_accuracy: 0.6441\n",
      "Epoch 4/10\n",
      "1562/1562 [==============================] - 113s 73ms/step - loss: 0.9911 - accuracy: 0.6475 - val_loss: 0.8913 - val_accuracy: 0.6891\n",
      "Epoch 5/10\n",
      "1562/1562 [==============================] - 114s 73ms/step - loss: 0.9001 - accuracy: 0.6856 - val_loss: 0.8945 - val_accuracy: 0.6920\n",
      "Epoch 6/10\n",
      "1562/1562 [==============================] - 114s 73ms/step - loss: 0.8269 - accuracy: 0.7093 - val_loss: 0.7726 - val_accuracy: 0.7363\n",
      "Epoch 7/10\n",
      "1562/1562 [==============================] - 116s 74ms/step - loss: 0.7803 - accuracy: 0.7261 - val_loss: 0.7429 - val_accuracy: 0.7480\n",
      "Epoch 8/10\n",
      "1562/1562 [==============================] - 118s 75ms/step - loss: 0.7358 - accuracy: 0.7442 - val_loss: 0.7468 - val_accuracy: 0.7446\n",
      "Epoch 9/10\n",
      "1562/1562 [==============================] - 116s 74ms/step - loss: 0.7073 - accuracy: 0.7535 - val_loss: 0.7424 - val_accuracy: 0.7492\n",
      "Epoch 10/10\n",
      "1562/1562 [==============================] - 118s 75ms/step - loss: 0.6820 - accuracy: 0.7643 - val_loss: 0.6697 - val_accuracy: 0.7763\n"
     ]
    }
   ],
   "source": [
    "model = Create_Model()\n",
    "opt = optimizers.SGD(learning_rate=0.01, momentum=0.9, nesterov=False)\n",
    "model, history = Train(model, opt, data_augmentation, x_train, y_train, \n",
    "                       x_test, y_test, batch_size, epochs)"
   ]
  },
  {
   "cell_type": "code",
   "execution_count": 11,
   "metadata": {
    "scrolled": true
   },
   "outputs": [
    {
     "name": "stdout",
     "output_type": "stream",
     "text": [
      "313/313 [==============================] - 5s 15ms/step - loss: 0.6697 - accuracy: 0.7763\n",
      "Test loss: 0.6697\n",
      "Test accuracy: 0.7763\n"
     ]
    }
   ],
   "source": [
    "# model_name = 'keras_cifar10_model_SGD.h5'\n",
    "# if not os.path.isdir(save_dir):\n",
    "#     os.makedirs(save_dir)\n",
    "# model_path = os.path.join(save_dir, model_name)\n",
    "# model.save(model_path)\n",
    "# print('Saved trained model at %s ' % model_path)\n",
    "\n",
    "# Score trained model\n",
    "scores = model.evaluate(x_test, y_test, verbose=1)\n",
    "print(f'Test loss: {scores[0]:.4f}')\n",
    "print(f'Test accuracy: {scores[1]:.4f}')"
   ]
  },
  {
   "cell_type": "code",
   "execution_count": 12,
   "metadata": {},
   "outputs": [
    {
     "data": {
      "image/png": "[encoded data removed]",
      "text/plain": [
       "<Figure size 432x288 with 1 Axes>"
      ]
     },
     "metadata": {
      "needs_background": "light"
     },
     "output_type": "display_data"
    },
    {
     "data": {
      "image/png": "[encoded data removed]",
      "text/plain": [
       "<Figure size 432x288 with 1 Axes>"
      ]
     },
     "metadata": {
      "needs_background": "light"
     },
     "output_type": "display_data"
    }
   ],
   "source": [
    "plt.figure()\n",
    "# Plot training & validation accuracy values\n",
    "plt.plot(history.history['accuracy'])\n",
    "plt.plot(history.history['val_accuracy'])\n",
    "plt.title('Model accuracy')\n",
    "plt.ylabel('Accuracy')\n",
    "plt.xlabel('Epoch')\n",
    "plt.legend(['Train', 'Validation'], loc='upper left')\n",
    "plt.show()\n",
    "\n",
    "plt.figure()\n",
    "# Plot training & validation loss values\n",
    "plt.plot(history.history['loss'])\n",
    "plt.plot(history.history['val_loss'])\n",
    "plt.title('Model loss')\n",
    "plt.ylabel('Loss')\n",
    "plt.xlabel('Epoch')\n",
    "plt.legend(['Train', 'Validation'], loc='upper left')\n",
    "plt.show()"
   ]
  },
  {
   "cell_type": "markdown",
   "metadata": {},
   "source": [
    "## RMSprop"
   ]
  },
  {
   "cell_type": "code",
   "execution_count": 13,
   "metadata": {
    "scrolled": true
   },
   "outputs": [
    {
     "name": "stdout",
     "output_type": "stream",
     "text": [
      "Using real-time data augmentation.\n",
      "Epoch 1/10\n",
      "1562/1562 [==============================] - 119s 76ms/step - loss: 1.5352 - accuracy: 0.4490 - val_loss: 1.2293 - val_accuracy: 0.5700\n",
      "Epoch 2/10\n",
      "1562/1562 [==============================] - 122s 78ms/step - loss: 1.1172 - accuracy: 0.6060 - val_loss: 0.9984 - val_accuracy: 0.6597\n",
      "Epoch 3/10\n",
      "1562/1562 [==============================] - 119s 76ms/step - loss: 0.9642 - accuracy: 0.6655 - val_loss: 0.9461 - val_accuracy: 0.6756\n",
      "Epoch 4/10\n",
      "1562/1562 [==============================] - 118s 76ms/step - loss: 0.8936 - accuracy: 0.6948 - val_loss: 0.9018 - val_accuracy: 0.7041\n",
      "Epoch 5/10\n",
      "1562/1562 [==============================] - 125s 80ms/step - loss: 0.8818 - accuracy: 0.7034 - val_loss: 0.8404 - val_accuracy: 0.7246\n",
      "Epoch 6/10\n",
      "1562/1562 [==============================] - 125s 80ms/step - loss: 0.8739 - accuracy: 0.7050 - val_loss: 0.7299 - val_accuracy: 0.7593\n",
      "Epoch 7/10\n",
      "1562/1562 [==============================] - 132s 84ms/step - loss: 0.8660 - accuracy: 0.7074 - val_loss: 0.9695 - val_accuracy: 0.7126\n",
      "Epoch 8/10\n",
      "1562/1562 [==============================] - 141s 90ms/step - loss: 0.8692 - accuracy: 0.7104 - val_loss: 0.8219 - val_accuracy: 0.7384\n",
      "Epoch 9/10\n",
      "1562/1562 [==============================] - 142s 91ms/step - loss: 0.8764 - accuracy: 0.7090 - val_loss: 0.8445 - val_accuracy: 0.7335\n",
      "Epoch 10/10\n",
      "1562/1562 [==============================] - 143s 91ms/step - loss: 0.8800 - accuracy: 0.7052 - val_loss: 0.8246 - val_accuracy: 0.7306\n"
     ]
    }
   ],
   "source": [
    "model = Create_Model()\n",
    "opt = optimizers.RMSprop(learning_rate=0.001, rho=0.9, momentum=0.0, epsilon=1e-07)\n",
    "model, history = Train(model, opt, data_augmentation, x_train, y_train, \n",
    "                       x_test, y_test, batch_size, epochs)"
   ]
  },
  {
   "cell_type": "code",
   "execution_count": 14,
   "metadata": {},
   "outputs": [
    {
     "name": "stdout",
     "output_type": "stream",
     "text": [
      "313/313 [==============================] - 5s 17ms/step - loss: 0.8246 - accuracy: 0.7306\n",
      "Test loss: 0.8246\n",
      "Test accuracy: 0.7306\n"
     ]
    }
   ],
   "source": [
    "# model_name = 'keras_cifar10_model_RMSprop.h5'\n",
    "# if not os.path.isdir(save_dir):\n",
    "#     os.makedirs(save_dir)\n",
    "# model_path = os.path.join(save_dir, model_name)\n",
    "# model.save(model_path)\n",
    "# print('Saved trained model at %s ' % model_path)\n",
    "\n",
    "# Score trained model.\n",
    "scores = model.evaluate(x_test, y_test, verbose=1)\n",
    "print(f'Test loss: {scores[0]:.4f}')\n",
    "print(f'Test accuracy: {scores[1]:.4f}')"
   ]
  },
  {
   "cell_type": "code",
   "execution_count": 15,
   "metadata": {},
   "outputs": [
    {
     "data": {
      "image/png": "[encoded data removed]",
      "text/plain": [
       "<Figure size 432x288 with 1 Axes>"
      ]
     },
     "metadata": {
      "needs_background": "light"
     },
     "output_type": "display_data"
    },
    {
     "data": {
      "image/png": "[encoded data removed]",
      "text/plain": [
       "<Figure size 432x288 with 1 Axes>"
      ]
     },
     "metadata": {
      "needs_background": "light"
     },
     "output_type": "display_data"
    }
   ],
   "source": [
    "plt.figure()\n",
    "# Plot training & validation accuracy values\n",
    "plt.plot(history.history['accuracy'])\n",
    "plt.plot(history.history['val_accuracy'])\n",
    "plt.title('Model accuracy')\n",
    "plt.ylabel('Accuracy')\n",
    "plt.xlabel('Epoch')\n",
    "plt.legend(['Train', 'Validation'], loc='upper left')\n",
    "plt.show()\n",
    "\n",
    "plt.figure()\n",
    "# Plot training & validation loss values\n",
    "plt.plot(history.history['loss'])\n",
    "plt.plot(history.history['val_loss'])\n",
    "plt.title('Model loss')\n",
    "plt.ylabel('Loss')\n",
    "plt.xlabel('Epoch')\n",
    "plt.legend(['Train', 'Validation'], loc='upper left')\n",
    "plt.show()"
   ]
  },
  {
   "cell_type": "markdown",
   "metadata": {},
   "source": [
    "## Adam"
   ]
  },
  {
   "cell_type": "code",
   "execution_count": 16,
   "metadata": {
    "scrolled": true
   },
   "outputs": [
    {
     "name": "stdout",
     "output_type": "stream",
     "text": [
      "Using real-time data augmentation.\n",
      "Epoch 1/10\n",
      "1562/1562 [==============================] - 139s 88ms/step - loss: 1.4814 - accuracy: 0.4593 - val_loss: 1.1272 - val_accuracy: 0.5983\n",
      "Epoch 2/10\n",
      "1562/1562 [==============================] - 135s 86ms/step - loss: 1.0531 - accuracy: 0.6265 - val_loss: 0.9873 - val_accuracy: 0.6445\n",
      "Epoch 3/10\n",
      "1562/1562 [==============================] - 122s 78ms/step - loss: 0.8895 - accuracy: 0.6887 - val_loss: 0.7981 - val_accuracy: 0.7219\n",
      "Epoch 4/10\n",
      "1562/1562 [==============================] - 140s 90ms/step - loss: 0.7990 - accuracy: 0.7210 - val_loss: 0.7654 - val_accuracy: 0.7367\n",
      "Epoch 5/10\n",
      "1562/1562 [==============================] - 137s 87ms/step - loss: 0.7444 - accuracy: 0.7397 - val_loss: 0.7525 - val_accuracy: 0.7519\n",
      "Epoch 6/10\n",
      "1562/1562 [==============================] - 137s 88ms/step - loss: 0.6883 - accuracy: 0.7602 - val_loss: 0.7156 - val_accuracy: 0.7574\n",
      "Epoch 7/10\n",
      "1562/1562 [==============================] - 141s 90ms/step - loss: 0.6568 - accuracy: 0.7697 - val_loss: 0.6381 - val_accuracy: 0.7844\n",
      "Epoch 8/10\n",
      "1562/1562 [==============================] - 136s 87ms/step - loss: 0.6290 - accuracy: 0.7810 - val_loss: 0.6906 - val_accuracy: 0.7698\n",
      "Epoch 9/10\n",
      "1562/1562 [==============================] - 144s 92ms/step - loss: 0.6054 - accuracy: 0.7884 - val_loss: 0.7439 - val_accuracy: 0.7634\n",
      "Epoch 10/10\n",
      "1562/1562 [==============================] - 130s 83ms/step - loss: 0.5838 - accuracy: 0.7960 - val_loss: 0.6579 - val_accuracy: 0.7805\n"
     ]
    }
   ],
   "source": [
    "model = Create_Model()\n",
    "opt = optimizers.Adam(learning_rate=0.001, beta_1=0.9, beta_2=0.999, epsilon=1e-07)\n",
    "model, history = Train(model, opt, data_augmentation, x_train, y_train, \n",
    "                       x_test, y_test, batch_size, epochs)"
   ]
  },
  {
   "cell_type": "code",
   "execution_count": 17,
   "metadata": {},
   "outputs": [
    {
     "name": "stdout",
     "output_type": "stream",
     "text": [
      "313/313 [==============================] - 5s 16ms/step - loss: 0.6579 - accuracy: 0.7805\n",
      "Test loss: 0.6579\n",
      "Test accuracy: 0.7805\n"
     ]
    }
   ],
   "source": [
    "# model_name = 'keras_cifar10_model_Adam.h5'\n",
    "# if not os.path.isdir(save_dir):\n",
    "#     os.makedirs(save_dir)\n",
    "# model_path = os.path.join(save_dir, model_name)\n",
    "# model.save(model_path)\n",
    "# print('Saved trained model at %s ' % model_path)\n",
    "\n",
    "# Score trained model\n",
    "scores = model.evaluate(x_test, y_test, verbose=1)\n",
    "print(f'Test loss: {scores[0]:.4f}')\n",
    "print(f'Test accuracy: {scores[1]:.4f}')"
   ]
  },
  {
   "cell_type": "code",
   "execution_count": 18,
   "metadata": {},
   "outputs": [
    {
     "data": {
      "image/png": "[encoded data removed]",
      "text/plain": [
       "<Figure size 432x288 with 1 Axes>"
      ]
     },
     "metadata": {
      "needs_background": "light"
     },
     "output_type": "display_data"
    },
    {
     "data": {
      "image/png": "[encoded data removed]",
      "text/plain": [
       "<Figure size 432x288 with 1 Axes>"
      ]
     },
     "metadata": {
      "needs_background": "light"
     },
     "output_type": "display_data"
    }
   ],
   "source": [
    "plt.figure()\n",
    "# Plot training & validation accuracy values\n",
    "plt.plot(history.history['accuracy'])\n",
    "plt.plot(history.history['val_accuracy'])\n",
    "plt.title('Model accuracy')\n",
    "plt.ylabel('Accuracy')\n",
    "plt.xlabel('Epoch')\n",
    "plt.legend(['Train', 'Validation'], loc='upper left')\n",
    "plt.show()\n",
    "\n",
    "plt.figure()\n",
    "# Plot training & validation loss values\n",
    "plt.plot(history.history['loss'])\n",
    "plt.plot(history.history['val_loss'])\n",
    "plt.title('Model loss')\n",
    "plt.ylabel('Loss')\n",
    "plt.xlabel('Epoch')\n",
    "plt.legend(['Train', 'Validation'], loc='upper left')\n",
    "plt.show()"
   ]
  },
  {
   "cell_type": "code",
   "execution_count": null,
   "metadata": {},
   "outputs": [],
   "source": []
  }
 ],
 "metadata": {
  "kernelspec": {
   "display_name": "Python 3",
   "language": "python",
   "name": "python3"
  },
  "language_info": {
   "codemirror_mode": {
    "name": "ipython",
    "version": 3
   },
   "file_extension": ".py",
   "mimetype": "text/x-python",
   "name": "python",
   "nbconvert_exporter": "python",
   "pygments_lexer": "ipython3",
   "version": "3.8.5"
  }
 },
 "nbformat": 4,
 "nbformat_minor": 2
}
