{
 "cells": [
  {
   "cell_type": "markdown",
   "metadata": {},
   "source": [
    "## 範例重點\n",
    "* 學習如何在 keras 中加入 model checkpoint\n",
    "* 知道如何設定監控目標\n",
    "* 比較使用最佳與非最佳參數時的 performance"
   ]
  },
  {
   "cell_type": "code",
   "execution_count": 1,
   "metadata": {},
   "outputs": [],
   "source": [
    "import os\n",
    "from tensorflow import keras\n",
    "\n",
    "# 本範例不需使用 GPU, 將 GPU 設定為 \"無\"\n",
    "os.environ[\"CUDA_VISIBLE_DEVICES\"] = \"\""
   ]
  },
  {
   "cell_type": "code",
   "execution_count": 2,
   "metadata": {},
   "outputs": [],
   "source": [
    "train, test = keras.datasets.cifar10.load_data()"
   ]
  },
  {
   "cell_type": "code",
   "execution_count": 3,
   "metadata": {},
   "outputs": [],
   "source": [
    "# 資料前處理\n",
    "def preproc_x(x, flatten=True):\n",
    "    x = x / 255.\n",
    "    if flatten:\n",
    "        x = x.reshape((len(x), -1))\n",
    "    return x\n",
    "\n",
    "def preproc_y(y, num_classes=10):\n",
    "    if y.shape[-1] == 1:\n",
    "        y = keras.utils.to_categorical(y, num_classes)\n",
    "    return y    "
   ]
  },
  {
   "cell_type": "code",
   "execution_count": 4,
   "metadata": {},
   "outputs": [],
   "source": [
    "x_train, y_train = train\n",
    "x_test, y_test = test\n",
    "\n",
    "# 資料前處理 - X 標準化\n",
    "x_train = preproc_x(x_train)\n",
    "x_test = preproc_x(x_test)\n",
    "\n",
    "# 資料前處理 - Y 轉成 onehot\n",
    "y_train = preproc_y(y_train)\n",
    "y_test = preproc_y(y_test)"
   ]
  },
  {
   "cell_type": "code",
   "execution_count": 5,
   "metadata": {},
   "outputs": [
    {
     "name": "stdout",
     "output_type": "stream",
     "text": [
      "Model: \"model\"\n",
      "_________________________________________________________________\n",
      " Layer (type)                Output Shape              Param #   \n",
      "=================================================================\n",
      " input_1 (InputLayer)        [(None, 3072)]            0         \n",
      "                                                                 \n",
      " hidden_layer1 (Dense)       (None, 512)               1573376   \n",
      "                                                                 \n",
      " batch_normalization (BatchN  (None, 512)              2048      \n",
      " ormalization)                                                   \n",
      "                                                                 \n",
      " hidden_layer2 (Dense)       (None, 256)               131328    \n",
      "                                                                 \n",
      " batch_normalization_1 (Batc  (None, 256)              1024      \n",
      " hNormalization)                                                 \n",
      "                                                                 \n",
      " hidden_layer3 (Dense)       (None, 128)               32896     \n",
      "                                                                 \n",
      " batch_normalization_2 (Batc  (None, 128)              512       \n",
      " hNormalization)                                                 \n",
      "                                                                 \n",
      " output (Dense)              (None, 10)                1290      \n",
      "                                                                 \n",
      "=================================================================\n",
      "Total params: 1,742,474\n",
      "Trainable params: 1,740,682\n",
      "Non-trainable params: 1,792\n",
      "_________________________________________________________________\n"
     ]
    }
   ],
   "source": [
    "from keras.layers import BatchNormalization\n",
    "\n",
    "\"\"\"\n",
    "建立神經網路，並加入 BN layer\n",
    "\"\"\"\n",
    "def build_mlp(input_shape, output_units=10, num_neurons=[512, 256, 128]):\n",
    "    input_layer = keras.layers.Input(input_shape)\n",
    "    \n",
    "    for i, n_units in enumerate(num_neurons):\n",
    "        if i == 0:\n",
    "            x = keras.layers.Dense(units=n_units, \n",
    "                                   activation=\"relu\", \n",
    "                                   name=\"hidden_layer\"+str(i+1))(input_layer)\n",
    "            x = BatchNormalization()(x)\n",
    "        else:\n",
    "            x = keras.layers.Dense(units=n_units, \n",
    "                                   activation=\"relu\", \n",
    "                                   name=\"hidden_layer\"+str(i+1))(x)\n",
    "            x = BatchNormalization()(x)\n",
    "    \n",
    "    out = keras.layers.Dense(units=output_units, activation=\"softmax\", name=\"output\")(x)\n",
    "    \n",
    "    model = keras.models.Model(inputs=[input_layer], outputs=[out])\n",
    "    return model\n",
    "\n",
    "model = build_mlp(input_shape=x_train.shape[1:])\n",
    "model.summary()"
   ]
  },
  {
   "cell_type": "code",
   "execution_count": 6,
   "metadata": {},
   "outputs": [],
   "source": [
    "# 超參數設定\n",
    "LEARNING_RATE = 1e-3\n",
    "EPOCHS = 50\n",
    "BATCH_SIZE = 1024\n",
    "MOMENTUM = 0.95"
   ]
  },
  {
   "cell_type": "code",
   "execution_count": 7,
   "metadata": {},
   "outputs": [],
   "source": [
    "\"\"\"\n",
    "# 載入 Callbacks, 並將監控目標設為 validation loss, 且只存最佳參數時的模型\n",
    "\n",
    "參數說明：\n",
    "filepath: 儲存模型的路徑與檔名\n",
    "mointor: 以什麼指標作為判斷標準\n",
    "save_best_only: 是否只要儲存最好的\n",
    "\n",
    "\n",
    "\"\"\"\n",
    "from keras.callbacks import ModelCheckpoint\n",
    "\n",
    "save_dir = \"./checkpoint\"\n",
    "file_name = save_dir + \"/D86.h5\"\n",
    "\n",
    "if not os.path.exists(save_dir):\n",
    "    os.makedirs(save_dir)\n",
    "\n",
    "model_ckpt = ModelCheckpoint(filepath=file_name, \n",
    "                             monitor=\"val_loss\", \n",
    "                             save_best_only=True)"
   ]
  },
  {
   "cell_type": "code",
   "execution_count": 8,
   "metadata": {
    "scrolled": true
   },
   "outputs": [
    {
     "name": "stdout",
     "output_type": "stream",
     "text": [
      "Epoch 1/50\n",
      "49/49 - 5s - loss: 2.2398 - accuracy: 0.2691 - val_loss: 2.1792 - val_accuracy: 0.1813 - 5s/epoch - 107ms/step\n",
      "Epoch 2/50\n",
      "49/49 - 3s - loss: 1.7509 - accuracy: 0.3943 - val_loss: 2.0022 - val_accuracy: 0.2778 - 3s/epoch - 70ms/step\n",
      "Epoch 3/50\n",
      "49/49 - 4s - loss: 1.6233 - accuracy: 0.4345 - val_loss: 1.8480 - val_accuracy: 0.3584 - 4s/epoch - 74ms/step\n",
      "Epoch 4/50\n",
      "49/49 - 3s - loss: 1.5479 - accuracy: 0.4616 - val_loss: 1.7243 - val_accuracy: 0.4087 - 3s/epoch - 69ms/step\n",
      "Epoch 5/50\n",
      "49/49 - 4s - loss: 1.4926 - accuracy: 0.4809 - val_loss: 1.6369 - val_accuracy: 0.4363 - 4s/epoch - 72ms/step\n",
      "Epoch 6/50\n",
      "49/49 - 4s - loss: 1.4463 - accuracy: 0.4988 - val_loss: 1.5841 - val_accuracy: 0.4474 - 4s/epoch - 77ms/step\n",
      "Epoch 7/50\n",
      "49/49 - 4s - loss: 1.4092 - accuracy: 0.5105 - val_loss: 1.5506 - val_accuracy: 0.4545 - 4s/epoch - 75ms/step\n",
      "Epoch 8/50\n",
      "49/49 - 4s - loss: 1.3724 - accuracy: 0.5238 - val_loss: 1.5158 - val_accuracy: 0.4723 - 4s/epoch - 77ms/step\n",
      "Epoch 9/50\n",
      "49/49 - 4s - loss: 1.3413 - accuracy: 0.5342 - val_loss: 1.5008 - val_accuracy: 0.4704 - 4s/epoch - 81ms/step\n",
      "Epoch 10/50\n",
      "49/49 - 4s - loss: 1.3113 - accuracy: 0.5455 - val_loss: 1.5028 - val_accuracy: 0.4669 - 4s/epoch - 75ms/step\n",
      "Epoch 11/50\n",
      "49/49 - 4s - loss: 1.2805 - accuracy: 0.5574 - val_loss: 1.4857 - val_accuracy: 0.4766 - 4s/epoch - 79ms/step\n",
      "Epoch 12/50\n",
      "49/49 - 5s - loss: 1.2554 - accuracy: 0.5673 - val_loss: 1.4835 - val_accuracy: 0.4790 - 5s/epoch - 94ms/step\n",
      "Epoch 13/50\n",
      "49/49 - 4s - loss: 1.2308 - accuracy: 0.5757 - val_loss: 1.4804 - val_accuracy: 0.4829 - 4s/epoch - 84ms/step\n",
      "Epoch 14/50\n",
      "49/49 - 4s - loss: 1.2050 - accuracy: 0.5864 - val_loss: 1.4806 - val_accuracy: 0.4837 - 4s/epoch - 79ms/step\n",
      "Epoch 15/50\n",
      "49/49 - 4s - loss: 1.1813 - accuracy: 0.5926 - val_loss: 1.4631 - val_accuracy: 0.4842 - 4s/epoch - 81ms/step\n",
      "Epoch 16/50\n",
      "49/49 - 4s - loss: 1.1587 - accuracy: 0.6006 - val_loss: 1.4546 - val_accuracy: 0.4853 - 4s/epoch - 74ms/step\n",
      "Epoch 17/50\n",
      "49/49 - 4s - loss: 1.1352 - accuracy: 0.6101 - val_loss: 1.4637 - val_accuracy: 0.4855 - 4s/epoch - 73ms/step\n",
      "Epoch 18/50\n",
      "49/49 - 3s - loss: 1.1131 - accuracy: 0.6188 - val_loss: 1.4594 - val_accuracy: 0.4903 - 3s/epoch - 70ms/step\n",
      "Epoch 19/50\n",
      "49/49 - 3s - loss: 1.0914 - accuracy: 0.6273 - val_loss: 1.4605 - val_accuracy: 0.4885 - 3s/epoch - 69ms/step\n",
      "Epoch 20/50\n",
      "49/49 - 4s - loss: 1.0687 - accuracy: 0.6360 - val_loss: 1.4506 - val_accuracy: 0.4984 - 4s/epoch - 71ms/step\n",
      "Epoch 21/50\n",
      "49/49 - 4s - loss: 1.0488 - accuracy: 0.6450 - val_loss: 1.4548 - val_accuracy: 0.4916 - 4s/epoch - 77ms/step\n",
      "Epoch 22/50\n",
      "49/49 - 4s - loss: 1.0297 - accuracy: 0.6515 - val_loss: 1.4507 - val_accuracy: 0.4966 - 4s/epoch - 78ms/step\n",
      "Epoch 23/50\n",
      "49/49 - 4s - loss: 1.0068 - accuracy: 0.6591 - val_loss: 1.4595 - val_accuracy: 0.4935 - 4s/epoch - 81ms/step\n",
      "Epoch 24/50\n",
      "49/49 - 4s - loss: 0.9867 - accuracy: 0.6678 - val_loss: 1.4562 - val_accuracy: 0.4961 - 4s/epoch - 77ms/step\n",
      "Epoch 25/50\n",
      "49/49 - 4s - loss: 0.9669 - accuracy: 0.6755 - val_loss: 1.4630 - val_accuracy: 0.4964 - 4s/epoch - 83ms/step\n",
      "Epoch 26/50\n",
      "49/49 - 4s - loss: 0.9479 - accuracy: 0.6817 - val_loss: 1.4773 - val_accuracy: 0.4926 - 4s/epoch - 79ms/step\n",
      "Epoch 27/50\n",
      "49/49 - 4s - loss: 0.9266 - accuracy: 0.6912 - val_loss: 1.4674 - val_accuracy: 0.4965 - 4s/epoch - 74ms/step\n",
      "Epoch 28/50\n",
      "49/49 - 4s - loss: 0.9049 - accuracy: 0.6991 - val_loss: 1.4786 - val_accuracy: 0.4927 - 4s/epoch - 80ms/step\n",
      "Epoch 29/50\n",
      "49/49 - 4s - loss: 0.8868 - accuracy: 0.7057 - val_loss: 1.4883 - val_accuracy: 0.4931 - 4s/epoch - 81ms/step\n",
      "Epoch 30/50\n",
      "49/49 - 4s - loss: 0.8678 - accuracy: 0.7145 - val_loss: 1.4802 - val_accuracy: 0.4994 - 4s/epoch - 79ms/step\n",
      "Epoch 31/50\n",
      "49/49 - 4s - loss: 0.8476 - accuracy: 0.7198 - val_loss: 1.4765 - val_accuracy: 0.5000 - 4s/epoch - 74ms/step\n",
      "Epoch 32/50\n",
      "49/49 - 4s - loss: 0.8278 - accuracy: 0.7304 - val_loss: 1.4920 - val_accuracy: 0.4960 - 4s/epoch - 76ms/step\n",
      "Epoch 33/50\n",
      "49/49 - 4s - loss: 0.8094 - accuracy: 0.7375 - val_loss: 1.5018 - val_accuracy: 0.4942 - 4s/epoch - 73ms/step\n",
      "Epoch 34/50\n",
      "49/49 - 4s - loss: 0.7891 - accuracy: 0.7437 - val_loss: 1.5207 - val_accuracy: 0.4920 - 4s/epoch - 74ms/step\n",
      "Epoch 35/50\n",
      "49/49 - 4s - loss: 0.7706 - accuracy: 0.7522 - val_loss: 1.5087 - val_accuracy: 0.4984 - 4s/epoch - 76ms/step\n",
      "Epoch 36/50\n",
      "49/49 - 4s - loss: 0.7518 - accuracy: 0.7600 - val_loss: 1.5144 - val_accuracy: 0.4988 - 4s/epoch - 73ms/step\n",
      "Epoch 37/50\n",
      "49/49 - 3s - loss: 0.7348 - accuracy: 0.7655 - val_loss: 1.5629 - val_accuracy: 0.4887 - 3s/epoch - 71ms/step\n",
      "Epoch 38/50\n",
      "49/49 - 4s - loss: 0.7139 - accuracy: 0.7757 - val_loss: 1.5401 - val_accuracy: 0.4955 - 4s/epoch - 72ms/step\n",
      "Epoch 39/50\n",
      "49/49 - 3s - loss: 0.6983 - accuracy: 0.7803 - val_loss: 1.5487 - val_accuracy: 0.4958 - 3s/epoch - 71ms/step\n",
      "Epoch 40/50\n",
      "49/49 - 4s - loss: 0.6779 - accuracy: 0.7894 - val_loss: 1.5721 - val_accuracy: 0.4870 - 4s/epoch - 72ms/step\n",
      "Epoch 41/50\n",
      "49/49 - 4s - loss: 0.6612 - accuracy: 0.7944 - val_loss: 1.5619 - val_accuracy: 0.4969 - 4s/epoch - 74ms/step\n",
      "Epoch 42/50\n",
      "49/49 - 4s - loss: 0.6421 - accuracy: 0.8031 - val_loss: 1.5801 - val_accuracy: 0.4979 - 4s/epoch - 72ms/step\n",
      "Epoch 43/50\n",
      "49/49 - 4s - loss: 0.6246 - accuracy: 0.8099 - val_loss: 1.5850 - val_accuracy: 0.4964 - 4s/epoch - 73ms/step\n",
      "Epoch 44/50\n",
      "49/49 - 4s - loss: 0.6075 - accuracy: 0.8158 - val_loss: 1.6011 - val_accuracy: 0.4916 - 4s/epoch - 75ms/step\n",
      "Epoch 45/50\n",
      "49/49 - 4s - loss: 0.5896 - accuracy: 0.8230 - val_loss: 1.6304 - val_accuracy: 0.4913 - 4s/epoch - 72ms/step\n",
      "Epoch 46/50\n",
      "49/49 - 4s - loss: 0.5748 - accuracy: 0.8271 - val_loss: 1.6168 - val_accuracy: 0.4908 - 4s/epoch - 72ms/step\n",
      "Epoch 47/50\n",
      "49/49 - 4s - loss: 0.5574 - accuracy: 0.8365 - val_loss: 1.6619 - val_accuracy: 0.4870 - 4s/epoch - 73ms/step\n",
      "Epoch 48/50\n",
      "49/49 - 3s - loss: 0.5377 - accuracy: 0.8437 - val_loss: 1.6598 - val_accuracy: 0.4861 - 3s/epoch - 71ms/step\n",
      "Epoch 49/50\n",
      "49/49 - 4s - loss: 0.5243 - accuracy: 0.8484 - val_loss: 1.6565 - val_accuracy: 0.4908 - 4s/epoch - 72ms/step\n",
      "Epoch 50/50\n",
      "49/49 - 4s - loss: 0.5065 - accuracy: 0.8567 - val_loss: 1.6805 - val_accuracy: 0.4888 - 4s/epoch - 72ms/step\n",
      "313/313 [==============================] - 1s 3ms/step - loss: 1.4506 - accuracy: 0.4984\n"
     ]
    }
   ],
   "source": [
    "optimizer = keras.optimizers.SGD(learning_rate=LEARNING_RATE, nesterov=True, momentum=MOMENTUM)\n",
    "model.compile(loss=\"categorical_crossentropy\", metrics=[\"accuracy\"], optimizer=optimizer)\n",
    "\n",
    "history = model.fit(x_train, y_train, \n",
    "                    epochs=EPOCHS, \n",
    "                    batch_size=BATCH_SIZE, \n",
    "                    validation_data=(x_test, y_test), \n",
    "                    shuffle=True,\n",
    "                    callbacks=[model_ckpt], \n",
    "                    verbose=2)\n",
    "\n",
    "# Collect results\n",
    "train_loss = model.history.history[\"loss\"]\n",
    "valid_loss = model.history.history[\"val_loss\"]\n",
    "train_acc = model.history.history[\"accuracy\"]\n",
    "valid_acc = model.history.history[\"val_accuracy\"]\n",
    "\n",
    "# Load back\n",
    "model = keras.models.load_model(file_name)\n",
    "loss_loadback, acc_loadback = model.evaluate(x_test, y_test)"
   ]
  },
  {
   "cell_type": "code",
   "execution_count": 9,
   "metadata": {},
   "outputs": [
    {
     "data": {
      "image/png": "[encoded data removed]",
      "text/plain": [
       "<Figure size 432x288 with 1 Axes>"
      ]
     },
     "metadata": {
      "needs_background": "light"
     },
     "output_type": "display_data"
    },
    {
     "data": {
      "image/png": "[encoded data removed]",
      "text/plain": [
       "<Figure size 432x288 with 1 Axes>"
      ]
     },
     "metadata": {
      "needs_background": "light"
     },
     "output_type": "display_data"
    }
   ],
   "source": [
    "import matplotlib.pyplot as plt\n",
    "%matplotlib inline\n",
    "\n",
    "plt.figure()\n",
    "plt.plot(range(len(train_loss)), train_loss, label=\"train loss\")\n",
    "plt.plot(range(len(valid_loss)), valid_loss, label=\"valid loss\")\n",
    "plt.hlines(y=loss_loadback, xmin=0, xmax=len(train_loss), colors='r', linestyles='--')\n",
    "plt.legend()\n",
    "plt.title(\"Loss\")\n",
    "plt.show()\n",
    "\n",
    "plt.figure()\n",
    "plt.plot(range(len(train_acc)), train_acc, label=\"train accuracy\")\n",
    "plt.plot(range(len(valid_acc)), valid_acc, label=\"valid accuracy\")\n",
    "plt.hlines(y=acc_loadback, xmin=0, xmax=len(train_loss), colors='r', linestyles='--')\n",
    "plt.legend()\n",
    "plt.title(\"Accuracy\")\n",
    "plt.show()"
   ]
  },
  {
   "cell_type": "markdown",
   "metadata": {},
   "source": [
    "## Work\n",
    "1. 試比較 save_best_only 與否的差異\n",
    "2. 請僅存入將 save_weights_only 設定為 True, 並嘗試 reset ipynb 並將模型與權重重新建回並預測 x_test"
   ]
  }
 ],
 "metadata": {
  "kernelspec": {
   "display_name": "Python 3",
   "language": "python",
   "name": "python3"
  },
  "language_info": {
   "codemirror_mode": {
    "name": "ipython",
    "version": 3
   },
   "file_extension": ".py",
   "mimetype": "text/x-python",
   "name": "python",
   "nbconvert_exporter": "python",
   "pygments_lexer": "ipython3",
   "version": "3.8.5"
  }
 },
 "nbformat": 4,
 "nbformat_minor": 2
}
