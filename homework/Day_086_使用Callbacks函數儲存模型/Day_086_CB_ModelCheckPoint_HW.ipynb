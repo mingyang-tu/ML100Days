{
 "cells": [
  {
   "cell_type": "markdown",
   "metadata": {},
   "source": [
    "## Work\n",
    "1. 試比較 save_best_only 與否的差異\n",
    "2. 請僅存入將 save_weights_only 設定為 True, 並嘗試 reset ipynb 並將模型與權重重新建回並預測 x_test"
   ]
  },
  {
   "cell_type": "code",
   "execution_count": 1,
   "metadata": {},
   "outputs": [],
   "source": [
    "import os\n",
    "from tensorflow import keras\n",
    "\n",
    "# Disable GPU\n",
    "os.environ[\"CUDA_VISIBLE_DEVICES\"] = \"\""
   ]
  },
  {
   "cell_type": "code",
   "execution_count": 2,
   "metadata": {},
   "outputs": [],
   "source": [
    "train, test = keras.datasets.cifar10.load_data()"
   ]
  },
  {
   "cell_type": "code",
   "execution_count": 3,
   "metadata": {},
   "outputs": [],
   "source": [
    "# 資料前處理\n",
    "def preproc_x(x, flatten=True):\n",
    "    x = x / 255.\n",
    "    if flatten:\n",
    "        x = x.reshape((len(x), -1))\n",
    "    return x\n",
    "\n",
    "def preproc_y(y, num_classes=10):\n",
    "    if y.shape[-1] == 1:\n",
    "        y = keras.utils.to_categorical(y, num_classes)\n",
    "    return y    "
   ]
  },
  {
   "cell_type": "code",
   "execution_count": 4,
   "metadata": {},
   "outputs": [],
   "source": [
    "x_train, y_train = train\n",
    "x_test, y_test = test\n",
    "\n",
    "# Preproc the inputs\n",
    "x_train = preproc_x(x_train)\n",
    "x_test = preproc_x(x_test)\n",
    "\n",
    "# Preproc the outputs\n",
    "y_train = preproc_y(y_train)\n",
    "y_test = preproc_y(y_test)"
   ]
  },
  {
   "cell_type": "code",
   "execution_count": 5,
   "metadata": {},
   "outputs": [
    {
     "name": "stdout",
     "output_type": "stream",
     "text": [
      "Model: \"model\"\n",
      "_________________________________________________________________\n",
      " Layer (type)                Output Shape              Param #   \n",
      "=================================================================\n",
      " input_1 (InputLayer)        [(None, 3072)]            0         \n",
      "                                                                 \n",
      " hidden_layer1 (Dense)       (None, 512)               1573376   \n",
      "                                                                 \n",
      " batch_normalization (BatchN  (None, 512)              2048      \n",
      " ormalization)                                                   \n",
      "                                                                 \n",
      " hidden_layer2 (Dense)       (None, 256)               131328    \n",
      "                                                                 \n",
      " batch_normalization_1 (Batc  (None, 256)              1024      \n",
      " hNormalization)                                                 \n",
      "                                                                 \n",
      " hidden_layer3 (Dense)       (None, 128)               32896     \n",
      "                                                                 \n",
      " batch_normalization_2 (Batc  (None, 128)              512       \n",
      " hNormalization)                                                 \n",
      "                                                                 \n",
      " output (Dense)              (None, 10)                1290      \n",
      "                                                                 \n",
      "=================================================================\n",
      "Total params: 1,742,474\n",
      "Trainable params: 1,740,682\n",
      "Non-trainable params: 1,792\n",
      "_________________________________________________________________\n"
     ]
    }
   ],
   "source": [
    "from keras.layers import BatchNormalization\n",
    "\n",
    "def build_mlp(input_shape, output_units=10, num_neurons=[512, 256, 128]):\n",
    "    input_layer = keras.layers.Input(input_shape)\n",
    "    \n",
    "    for i, n_units in enumerate(num_neurons):\n",
    "        if i == 0:\n",
    "            x = keras.layers.Dense(units=n_units, \n",
    "                                   activation=\"relu\", \n",
    "                                   name=\"hidden_layer\"+str(i+1))(input_layer)\n",
    "            x = BatchNormalization()(x)\n",
    "        else:\n",
    "            x = keras.layers.Dense(units=n_units, \n",
    "                                   activation=\"relu\", \n",
    "                                   name=\"hidden_layer\"+str(i+1))(x)\n",
    "            x = BatchNormalization()(x)\n",
    "    \n",
    "    out = keras.layers.Dense(units=output_units, activation=\"softmax\", name=\"output\")(x)\n",
    "    \n",
    "    model = keras.models.Model(inputs=[input_layer], outputs=[out])\n",
    "    return model\n",
    "\n",
    "model = build_mlp(input_shape=x_train.shape[1:])\n",
    "model.summary()"
   ]
  },
  {
   "cell_type": "code",
   "execution_count": 6,
   "metadata": {},
   "outputs": [],
   "source": [
    "# 超參數設定\n",
    "LEARNING_RATE = 1e-3\n",
    "EPOCHS = 50\n",
    "BATCH_SIZE = 1024\n",
    "MOMENTUM = 0.95"
   ]
  },
  {
   "cell_type": "code",
   "execution_count": 7,
   "metadata": {},
   "outputs": [],
   "source": [
    "# 載入 Callbacks\n",
    "from keras.callbacks import ModelCheckpoint\n",
    "\n",
    "save_dir = \"./checkpoint\"\n",
    "file_name = save_dir + \"/D86_HW.h5\"\n",
    "\n",
    "if not os.path.exists(save_dir):\n",
    "    os.makedirs(save_dir)"
   ]
  },
  {
   "cell_type": "markdown",
   "metadata": {},
   "source": [
    "## save_best_only = False"
   ]
  },
  {
   "cell_type": "code",
   "execution_count": 8,
   "metadata": {
    "scrolled": true
   },
   "outputs": [
    {
     "name": "stdout",
     "output_type": "stream",
     "text": [
      "Epoch 1/50\n",
      "49/49 - 6s - loss: 2.2017 - accuracy: 0.2756 - val_loss: 2.0958 - val_accuracy: 0.2359 - 6s/epoch - 127ms/step\n",
      "Epoch 2/50\n",
      "49/49 - 4s - loss: 1.7502 - accuracy: 0.3925 - val_loss: 1.9401 - val_accuracy: 0.3149 - 4s/epoch - 80ms/step\n",
      "Epoch 3/50\n",
      "49/49 - 4s - loss: 1.6183 - accuracy: 0.4353 - val_loss: 1.8109 - val_accuracy: 0.3693 - 4s/epoch - 84ms/step\n",
      "Epoch 4/50\n",
      "49/49 - 4s - loss: 1.5431 - accuracy: 0.4596 - val_loss: 1.7178 - val_accuracy: 0.4035 - 4s/epoch - 92ms/step\n",
      "Epoch 5/50\n",
      "49/49 - 4s - loss: 1.4854 - accuracy: 0.4813 - val_loss: 1.6539 - val_accuracy: 0.4214 - 4s/epoch - 87ms/step\n",
      "Epoch 6/50\n",
      "49/49 - 4s - loss: 1.4401 - accuracy: 0.4972 - val_loss: 1.5841 - val_accuracy: 0.4443 - 4s/epoch - 80ms/step\n",
      "Epoch 7/50\n",
      "49/49 - 4s - loss: 1.3995 - accuracy: 0.5104 - val_loss: 1.5502 - val_accuracy: 0.4528 - 4s/epoch - 86ms/step\n",
      "Epoch 8/50\n",
      "49/49 - 4s - loss: 1.3633 - accuracy: 0.5253 - val_loss: 1.5371 - val_accuracy: 0.4574 - 4s/epoch - 78ms/step\n",
      "Epoch 9/50\n",
      "49/49 - 5s - loss: 1.3334 - accuracy: 0.5337 - val_loss: 1.5140 - val_accuracy: 0.4657 - 5s/epoch - 100ms/step\n",
      "Epoch 10/50\n",
      "49/49 - 4s - loss: 1.3022 - accuracy: 0.5468 - val_loss: 1.5013 - val_accuracy: 0.4722 - 4s/epoch - 92ms/step\n",
      "Epoch 11/50\n",
      "49/49 - 6s - loss: 1.2729 - accuracy: 0.5562 - val_loss: 1.4967 - val_accuracy: 0.4722 - 6s/epoch - 122ms/step\n",
      "Epoch 12/50\n",
      "49/49 - 5s - loss: 1.2454 - accuracy: 0.5685 - val_loss: 1.4863 - val_accuracy: 0.4749 - 5s/epoch - 109ms/step\n",
      "Epoch 13/50\n",
      "49/49 - 4s - loss: 1.2209 - accuracy: 0.5782 - val_loss: 1.4825 - val_accuracy: 0.4762 - 4s/epoch - 82ms/step\n",
      "Epoch 14/50\n",
      "49/49 - 5s - loss: 1.1971 - accuracy: 0.5868 - val_loss: 1.4860 - val_accuracy: 0.4749 - 5s/epoch - 96ms/step\n",
      "Epoch 15/50\n",
      "49/49 - 4s - loss: 1.1722 - accuracy: 0.5972 - val_loss: 1.4761 - val_accuracy: 0.4827 - 4s/epoch - 89ms/step\n",
      "Epoch 16/50\n",
      "49/49 - 4s - loss: 1.1496 - accuracy: 0.6049 - val_loss: 1.4749 - val_accuracy: 0.4845 - 4s/epoch - 84ms/step\n",
      "Epoch 17/50\n",
      "49/49 - 5s - loss: 1.1253 - accuracy: 0.6145 - val_loss: 1.4820 - val_accuracy: 0.4755 - 5s/epoch - 98ms/step\n",
      "Epoch 18/50\n",
      "49/49 - 5s - loss: 1.1033 - accuracy: 0.6226 - val_loss: 1.4708 - val_accuracy: 0.4861 - 5s/epoch - 92ms/step\n",
      "Epoch 19/50\n",
      "49/49 - 4s - loss: 1.0831 - accuracy: 0.6300 - val_loss: 1.4696 - val_accuracy: 0.4872 - 4s/epoch - 85ms/step\n",
      "Epoch 20/50\n",
      "49/49 - 4s - loss: 1.0593 - accuracy: 0.6384 - val_loss: 1.4795 - val_accuracy: 0.4877 - 4s/epoch - 84ms/step\n",
      "Epoch 21/50\n",
      "49/49 - 5s - loss: 1.0408 - accuracy: 0.6458 - val_loss: 1.4731 - val_accuracy: 0.4910 - 5s/epoch - 102ms/step\n",
      "Epoch 22/50\n",
      "49/49 - 4s - loss: 1.0186 - accuracy: 0.6556 - val_loss: 1.4746 - val_accuracy: 0.4895 - 4s/epoch - 77ms/step\n",
      "Epoch 23/50\n",
      "49/49 - 4s - loss: 0.9975 - accuracy: 0.6627 - val_loss: 1.4881 - val_accuracy: 0.4830 - 4s/epoch - 75ms/step\n",
      "Epoch 24/50\n",
      "49/49 - 5s - loss: 0.9785 - accuracy: 0.6706 - val_loss: 1.4807 - val_accuracy: 0.4906 - 5s/epoch - 102ms/step\n",
      "Epoch 25/50\n",
      "49/49 - 4s - loss: 0.9573 - accuracy: 0.6789 - val_loss: 1.4886 - val_accuracy: 0.4900 - 4s/epoch - 85ms/step\n",
      "Epoch 26/50\n",
      "49/49 - 5s - loss: 0.9364 - accuracy: 0.6867 - val_loss: 1.4964 - val_accuracy: 0.4878 - 5s/epoch - 95ms/step\n",
      "Epoch 27/50\n",
      "49/49 - 4s - loss: 0.9153 - accuracy: 0.6940 - val_loss: 1.4879 - val_accuracy: 0.4881 - 4s/epoch - 85ms/step\n",
      "Epoch 28/50\n",
      "49/49 - 4s - loss: 0.8971 - accuracy: 0.7021 - val_loss: 1.5042 - val_accuracy: 0.4895 - 4s/epoch - 80ms/step\n",
      "Epoch 29/50\n",
      "49/49 - 4s - loss: 0.8768 - accuracy: 0.7085 - val_loss: 1.5213 - val_accuracy: 0.4877 - 4s/epoch - 76ms/step\n",
      "Epoch 30/50\n",
      "49/49 - 5s - loss: 0.8583 - accuracy: 0.7168 - val_loss: 1.4983 - val_accuracy: 0.4904 - 5s/epoch - 106ms/step\n",
      "Epoch 31/50\n",
      "49/49 - 5s - loss: 0.8366 - accuracy: 0.7252 - val_loss: 1.5129 - val_accuracy: 0.4911 - 5s/epoch - 101ms/step\n",
      "Epoch 32/50\n",
      "49/49 - 5s - loss: 0.8181 - accuracy: 0.7327 - val_loss: 1.5222 - val_accuracy: 0.4924 - 5s/epoch - 93ms/step\n",
      "Epoch 33/50\n",
      "49/49 - 4s - loss: 0.7988 - accuracy: 0.7400 - val_loss: 1.5234 - val_accuracy: 0.4908 - 4s/epoch - 81ms/step\n",
      "Epoch 34/50\n",
      "49/49 - 5s - loss: 0.7807 - accuracy: 0.7475 - val_loss: 1.5310 - val_accuracy: 0.4919 - 5s/epoch - 97ms/step\n",
      "Epoch 35/50\n",
      "49/49 - 4s - loss: 0.7610 - accuracy: 0.7559 - val_loss: 1.5352 - val_accuracy: 0.4915 - 4s/epoch - 81ms/step\n",
      "Epoch 36/50\n",
      "49/49 - 5s - loss: 0.7432 - accuracy: 0.7613 - val_loss: 1.5485 - val_accuracy: 0.4880 - 5s/epoch - 98ms/step\n",
      "Epoch 37/50\n",
      "49/49 - 5s - loss: 0.7255 - accuracy: 0.7679 - val_loss: 1.5430 - val_accuracy: 0.4909 - 5s/epoch - 97ms/step\n",
      "Epoch 38/50\n",
      "49/49 - 4s - loss: 0.7051 - accuracy: 0.7766 - val_loss: 1.5647 - val_accuracy: 0.4886 - 4s/epoch - 88ms/step\n",
      "Epoch 39/50\n",
      "49/49 - 4s - loss: 0.6881 - accuracy: 0.7821 - val_loss: 1.5883 - val_accuracy: 0.4859 - 4s/epoch - 87ms/step\n",
      "Epoch 40/50\n",
      "49/49 - 4s - loss: 0.6700 - accuracy: 0.7900 - val_loss: 1.5955 - val_accuracy: 0.4842 - 4s/epoch - 80ms/step\n",
      "Epoch 41/50\n",
      "49/49 - 4s - loss: 0.6495 - accuracy: 0.7995 - val_loss: 1.5996 - val_accuracy: 0.4876 - 4s/epoch - 75ms/step\n",
      "Epoch 42/50\n",
      "49/49 - 4s - loss: 0.6328 - accuracy: 0.8046 - val_loss: 1.6066 - val_accuracy: 0.4824 - 4s/epoch - 75ms/step\n",
      "Epoch 43/50\n",
      "49/49 - 4s - loss: 0.6156 - accuracy: 0.8125 - val_loss: 1.6071 - val_accuracy: 0.4849 - 4s/epoch - 79ms/step\n",
      "Epoch 44/50\n",
      "49/49 - 4s - loss: 0.5985 - accuracy: 0.8203 - val_loss: 1.6244 - val_accuracy: 0.4874 - 4s/epoch - 77ms/step\n",
      "Epoch 45/50\n",
      "49/49 - 4s - loss: 0.5801 - accuracy: 0.8266 - val_loss: 1.6422 - val_accuracy: 0.4798 - 4s/epoch - 90ms/step\n",
      "Epoch 46/50\n",
      "49/49 - 4s - loss: 0.5645 - accuracy: 0.8321 - val_loss: 1.6523 - val_accuracy: 0.4829 - 4s/epoch - 85ms/step\n",
      "Epoch 47/50\n",
      "49/49 - 4s - loss: 0.5470 - accuracy: 0.8390 - val_loss: 1.6603 - val_accuracy: 0.4857 - 4s/epoch - 80ms/step\n",
      "Epoch 48/50\n",
      "49/49 - 4s - loss: 0.5315 - accuracy: 0.8452 - val_loss: 1.6732 - val_accuracy: 0.4804 - 4s/epoch - 79ms/step\n",
      "Epoch 49/50\n",
      "49/49 - 4s - loss: 0.5153 - accuracy: 0.8524 - val_loss: 1.6816 - val_accuracy: 0.4860 - 4s/epoch - 85ms/step\n",
      "Epoch 50/50\n",
      "49/49 - 4s - loss: 0.4991 - accuracy: 0.8584 - val_loss: 1.7004 - val_accuracy: 0.4816 - 4s/epoch - 82ms/step\n"
     ]
    }
   ],
   "source": [
    "model_ckpt = ModelCheckpoint(filepath=file_name, \n",
    "                             monitor=\"val_loss\", \n",
    "                             save_best_only=False)\n",
    "\n",
    "optimizer = keras.optimizers.SGD(learning_rate=LEARNING_RATE, nesterov=True, momentum=MOMENTUM)\n",
    "model.compile(loss=\"categorical_crossentropy\", metrics=[\"accuracy\"], optimizer=optimizer)\n",
    "\n",
    "history = model.fit(x_train, y_train, \n",
    "                    epochs=EPOCHS, \n",
    "                    batch_size=BATCH_SIZE, \n",
    "                    validation_data=(x_test, y_test), \n",
    "                    shuffle=True,\n",
    "                    callbacks=[model_ckpt], \n",
    "                    verbose=2)\n",
    "\n",
    "# Collect results\n",
    "train_loss = model.history.history[\"loss\"]\n",
    "valid_loss = model.history.history[\"val_loss\"]\n",
    "train_acc = model.history.history[\"accuracy\"]\n",
    "valid_acc = model.history.history[\"val_accuracy\"]"
   ]
  },
  {
   "cell_type": "code",
   "execution_count": 9,
   "metadata": {},
   "outputs": [
    {
     "name": "stdout",
     "output_type": "stream",
     "text": [
      "313/313 [==============================] - 1s 3ms/step - loss: 1.7004 - accuracy: 0.4816\n"
     ]
    }
   ],
   "source": [
    "model = keras.models.load_model(file_name)\n",
    "loss_loadback, acc_loadback = model.evaluate(x_test, y_test)"
   ]
  },
  {
   "cell_type": "code",
   "execution_count": 10,
   "metadata": {
    "scrolled": true
   },
   "outputs": [
    {
     "data": {
      "image/png": "[encoded data removed]",
      "text/plain": [
       "<Figure size 432x288 with 1 Axes>"
      ]
     },
     "metadata": {
      "needs_background": "light"
     },
     "output_type": "display_data"
    },
    {
     "data": {
      "image/png": "[encoded data removed]",
      "text/plain": [
       "<Figure size 432x288 with 1 Axes>"
      ]
     },
     "metadata": {
      "needs_background": "light"
     },
     "output_type": "display_data"
    }
   ],
   "source": [
    "import matplotlib.pyplot as plt\n",
    "%matplotlib inline\n",
    "\n",
    "plt.figure()\n",
    "plt.plot(range(len(train_loss)), train_loss, label=\"train loss\")\n",
    "plt.plot(range(len(valid_loss)), valid_loss, label=\"valid loss\")\n",
    "plt.hlines(y=loss_loadback, xmin=0, xmax=len(train_loss), colors='r', linestyles='--')\n",
    "plt.legend()\n",
    "plt.title(\"Loss\")\n",
    "plt.show()\n",
    "\n",
    "plt.figure()\n",
    "plt.plot(range(len(train_acc)), train_acc, label=\"train accuracy\")\n",
    "plt.plot(range(len(valid_acc)), valid_acc, label=\"valid accuracy\")\n",
    "plt.hlines(y=acc_loadback, xmin=0, xmax=len(train_loss), colors='r', linestyles='--')\n",
    "plt.legend()\n",
    "plt.title(\"Accuracy\")\n",
    "plt.show()"
   ]
  },
  {
   "cell_type": "markdown",
   "metadata": {},
   "source": [
    "## save_best_only = True, save_weights_only = True"
   ]
  },
  {
   "cell_type": "code",
   "execution_count": 11,
   "metadata": {
    "scrolled": true
   },
   "outputs": [
    {
     "name": "stdout",
     "output_type": "stream",
     "text": [
      "Epoch 1/50\n",
      "49/49 - 5s - loss: 2.1624 - accuracy: 0.2814 - val_loss: 2.1185 - val_accuracy: 0.2311 - 5s/epoch - 111ms/step\n",
      "Epoch 2/50\n",
      "49/49 - 4s - loss: 1.7335 - accuracy: 0.3962 - val_loss: 1.9348 - val_accuracy: 0.3270 - 4s/epoch - 73ms/step\n",
      "Epoch 3/50\n",
      "49/49 - 4s - loss: 1.6124 - accuracy: 0.4360 - val_loss: 1.8137 - val_accuracy: 0.3706 - 4s/epoch - 92ms/step\n",
      "Epoch 4/50\n",
      "49/49 - 4s - loss: 1.5421 - accuracy: 0.4616 - val_loss: 1.7165 - val_accuracy: 0.3978 - 4s/epoch - 85ms/step\n",
      "Epoch 5/50\n",
      "49/49 - 4s - loss: 1.4898 - accuracy: 0.4795 - val_loss: 1.6494 - val_accuracy: 0.4175 - 4s/epoch - 89ms/step\n",
      "Epoch 6/50\n",
      "49/49 - 4s - loss: 1.4446 - accuracy: 0.4948 - val_loss: 1.5901 - val_accuracy: 0.4367 - 4s/epoch - 78ms/step\n",
      "Epoch 7/50\n",
      "49/49 - 4s - loss: 1.4046 - accuracy: 0.5097 - val_loss: 1.5638 - val_accuracy: 0.4416 - 4s/epoch - 75ms/step\n",
      "Epoch 8/50\n",
      "49/49 - 4s - loss: 1.3701 - accuracy: 0.5218 - val_loss: 1.5304 - val_accuracy: 0.4524 - 4s/epoch - 73ms/step\n",
      "Epoch 9/50\n",
      "49/49 - 4s - loss: 1.3377 - accuracy: 0.5318 - val_loss: 1.5080 - val_accuracy: 0.4678 - 4s/epoch - 72ms/step\n",
      "Epoch 10/50\n",
      "49/49 - 4s - loss: 1.3096 - accuracy: 0.5429 - val_loss: 1.4934 - val_accuracy: 0.4689 - 4s/epoch - 74ms/step\n",
      "Epoch 11/50\n",
      "49/49 - 4s - loss: 1.2802 - accuracy: 0.5551 - val_loss: 1.4884 - val_accuracy: 0.4688 - 4s/epoch - 83ms/step\n",
      "Epoch 12/50\n",
      "49/49 - 4s - loss: 1.2528 - accuracy: 0.5645 - val_loss: 1.4766 - val_accuracy: 0.4736 - 4s/epoch - 72ms/step\n",
      "Epoch 13/50\n",
      "49/49 - 4s - loss: 1.2264 - accuracy: 0.5757 - val_loss: 1.4779 - val_accuracy: 0.4771 - 4s/epoch - 72ms/step\n",
      "Epoch 14/50\n",
      "49/49 - 4s - loss: 1.2014 - accuracy: 0.5844 - val_loss: 1.4734 - val_accuracy: 0.4788 - 4s/epoch - 91ms/step\n",
      "Epoch 15/50\n",
      "49/49 - 5s - loss: 1.1756 - accuracy: 0.5945 - val_loss: 1.4753 - val_accuracy: 0.4792 - 5s/epoch - 100ms/step\n",
      "Epoch 16/50\n",
      "49/49 - 5s - loss: 1.1509 - accuracy: 0.6045 - val_loss: 1.4632 - val_accuracy: 0.4833 - 5s/epoch - 107ms/step\n",
      "Epoch 17/50\n",
      "49/49 - 5s - loss: 1.1272 - accuracy: 0.6121 - val_loss: 1.4615 - val_accuracy: 0.4811 - 5s/epoch - 103ms/step\n",
      "Epoch 18/50\n",
      "49/49 - 4s - loss: 1.1036 - accuracy: 0.6215 - val_loss: 1.4639 - val_accuracy: 0.4850 - 4s/epoch - 89ms/step\n",
      "Epoch 19/50\n",
      "49/49 - 4s - loss: 1.0817 - accuracy: 0.6295 - val_loss: 1.4695 - val_accuracy: 0.4884 - 4s/epoch - 74ms/step\n",
      "Epoch 20/50\n",
      "49/49 - 4s - loss: 1.0601 - accuracy: 0.6391 - val_loss: 1.4665 - val_accuracy: 0.4819 - 4s/epoch - 73ms/step\n",
      "Epoch 21/50\n",
      "49/49 - 5s - loss: 1.0371 - accuracy: 0.6466 - val_loss: 1.4545 - val_accuracy: 0.4885 - 5s/epoch - 100ms/step\n",
      "Epoch 22/50\n",
      "49/49 - 4s - loss: 1.0147 - accuracy: 0.6568 - val_loss: 1.4616 - val_accuracy: 0.4920 - 4s/epoch - 87ms/step\n",
      "Epoch 23/50\n",
      "49/49 - 4s - loss: 0.9918 - accuracy: 0.6641 - val_loss: 1.4686 - val_accuracy: 0.4920 - 4s/epoch - 89ms/step\n",
      "Epoch 24/50\n",
      "49/49 - 4s - loss: 0.9700 - accuracy: 0.6713 - val_loss: 1.4736 - val_accuracy: 0.4921 - 4s/epoch - 82ms/step\n",
      "Epoch 25/50\n",
      "49/49 - 4s - loss: 0.9489 - accuracy: 0.6801 - val_loss: 1.4803 - val_accuracy: 0.4889 - 4s/epoch - 77ms/step\n",
      "Epoch 26/50\n",
      "49/49 - 4s - loss: 0.9286 - accuracy: 0.6902 - val_loss: 1.4691 - val_accuracy: 0.4948 - 4s/epoch - 81ms/step\n",
      "Epoch 27/50\n",
      "49/49 - 4s - loss: 0.9072 - accuracy: 0.6972 - val_loss: 1.4765 - val_accuracy: 0.4925 - 4s/epoch - 73ms/step\n",
      "Epoch 28/50\n",
      "49/49 - 4s - loss: 0.8866 - accuracy: 0.7070 - val_loss: 1.4846 - val_accuracy: 0.4928 - 4s/epoch - 73ms/step\n",
      "Epoch 29/50\n",
      "49/49 - 4s - loss: 0.8668 - accuracy: 0.7118 - val_loss: 1.4980 - val_accuracy: 0.4971 - 4s/epoch - 72ms/step\n",
      "Epoch 30/50\n",
      "49/49 - 4s - loss: 0.8474 - accuracy: 0.7192 - val_loss: 1.4912 - val_accuracy: 0.4942 - 4s/epoch - 77ms/step\n",
      "Epoch 31/50\n",
      "49/49 - 3s - loss: 0.8271 - accuracy: 0.7273 - val_loss: 1.5000 - val_accuracy: 0.4996 - 3s/epoch - 71ms/step\n",
      "Epoch 32/50\n",
      "49/49 - 4s - loss: 0.8056 - accuracy: 0.7374 - val_loss: 1.5248 - val_accuracy: 0.4921 - 4s/epoch - 84ms/step\n",
      "Epoch 33/50\n",
      "49/49 - 5s - loss: 0.7862 - accuracy: 0.7466 - val_loss: 1.5204 - val_accuracy: 0.4931 - 5s/epoch - 99ms/step\n",
      "Epoch 34/50\n",
      "49/49 - 5s - loss: 0.7659 - accuracy: 0.7540 - val_loss: 1.5220 - val_accuracy: 0.4977 - 5s/epoch - 94ms/step\n",
      "Epoch 35/50\n",
      "49/49 - 4s - loss: 0.7488 - accuracy: 0.7592 - val_loss: 1.5386 - val_accuracy: 0.4880 - 4s/epoch - 81ms/step\n",
      "Epoch 36/50\n",
      "49/49 - 5s - loss: 0.7273 - accuracy: 0.7692 - val_loss: 1.5401 - val_accuracy: 0.4925 - 5s/epoch - 98ms/step\n",
      "Epoch 37/50\n",
      "49/49 - 4s - loss: 0.7087 - accuracy: 0.7771 - val_loss: 1.5464 - val_accuracy: 0.5006 - 4s/epoch - 85ms/step\n",
      "Epoch 38/50\n",
      "49/49 - 4s - loss: 0.6878 - accuracy: 0.7855 - val_loss: 1.5471 - val_accuracy: 0.4955 - 4s/epoch - 85ms/step\n",
      "Epoch 39/50\n",
      "49/49 - 4s - loss: 0.6687 - accuracy: 0.7912 - val_loss: 1.5674 - val_accuracy: 0.4953 - 4s/epoch - 89ms/step\n",
      "Epoch 40/50\n",
      "49/49 - 4s - loss: 0.6504 - accuracy: 0.7999 - val_loss: 1.5807 - val_accuracy: 0.5003 - 4s/epoch - 76ms/step\n",
      "Epoch 41/50\n",
      "49/49 - 5s - loss: 0.6334 - accuracy: 0.8071 - val_loss: 1.5908 - val_accuracy: 0.4904 - 5s/epoch - 92ms/step\n",
      "Epoch 42/50\n",
      "49/49 - 4s - loss: 0.6153 - accuracy: 0.8147 - val_loss: 1.5894 - val_accuracy: 0.4881 - 4s/epoch - 79ms/step\n",
      "Epoch 43/50\n",
      "49/49 - 4s - loss: 0.5961 - accuracy: 0.8228 - val_loss: 1.6408 - val_accuracy: 0.4866 - 4s/epoch - 75ms/step\n",
      "Epoch 44/50\n",
      "49/49 - 4s - loss: 0.5795 - accuracy: 0.8273 - val_loss: 1.6229 - val_accuracy: 0.4852 - 4s/epoch - 88ms/step\n",
      "Epoch 45/50\n",
      "49/49 - 4s - loss: 0.5609 - accuracy: 0.8362 - val_loss: 1.6379 - val_accuracy: 0.4868 - 4s/epoch - 87ms/step\n",
      "Epoch 46/50\n",
      "49/49 - 4s - loss: 0.5447 - accuracy: 0.8420 - val_loss: 1.6528 - val_accuracy: 0.4889 - 4s/epoch - 84ms/step\n",
      "Epoch 47/50\n",
      "49/49 - 4s - loss: 0.5265 - accuracy: 0.8485 - val_loss: 1.6514 - val_accuracy: 0.4885 - 4s/epoch - 87ms/step\n",
      "Epoch 48/50\n",
      "49/49 - 5s - loss: 0.5086 - accuracy: 0.8558 - val_loss: 1.6864 - val_accuracy: 0.4880 - 5s/epoch - 103ms/step\n",
      "Epoch 49/50\n",
      "49/49 - 4s - loss: 0.4930 - accuracy: 0.8624 - val_loss: 1.6805 - val_accuracy: 0.4865 - 4s/epoch - 84ms/step\n",
      "Epoch 50/50\n",
      "49/49 - 5s - loss: 0.4777 - accuracy: 0.8684 - val_loss: 1.7045 - val_accuracy: 0.4849 - 5s/epoch - 94ms/step\n"
     ]
    }
   ],
   "source": [
    "model = build_mlp(input_shape=x_train.shape[1:])\n",
    "\n",
    "file_name = save_dir + \"/D86_HW_weight.h5\"\n",
    "model_ckpt = ModelCheckpoint(filepath=file_name, \n",
    "                             monitor=\"val_loss\", \n",
    "                             save_best_only=True,\n",
    "                             save_weights_only=True)\n",
    "\n",
    "optimizer = keras.optimizers.SGD(learning_rate=LEARNING_RATE, nesterov=True, momentum=MOMENTUM)\n",
    "model.compile(loss=\"categorical_crossentropy\", metrics=[\"accuracy\"], optimizer=optimizer)\n",
    "\n",
    "history = model.fit(x_train, y_train, \n",
    "                    epochs=EPOCHS, \n",
    "                    batch_size=BATCH_SIZE, \n",
    "                    validation_data=(x_test, y_test), \n",
    "                    shuffle=True,\n",
    "                    callbacks=[model_ckpt], \n",
    "                    verbose=2)\n",
    "\n",
    "# Collect results\n",
    "train_loss = model.history.history[\"loss\"]\n",
    "valid_loss = model.history.history[\"val_loss\"]\n",
    "train_acc = model.history.history[\"accuracy\"]\n",
    "valid_acc = model.history.history[\"val_accuracy\"]"
   ]
  },
  {
   "cell_type": "markdown",
   "metadata": {},
   "source": [
    "## Reset"
   ]
  },
  {
   "cell_type": "code",
   "execution_count": 5,
   "metadata": {},
   "outputs": [
    {
     "ename": "ValueError",
     "evalue": "No model config found in the file at <tensorflow.python.platform.gfile.GFile object at 0x7fd9d7f91190>.",
     "output_type": "error",
     "traceback": [
      "\u001b[0;31m---------------------------------------------------------------------------\u001b[0m",
      "\u001b[0;31mValueError\u001b[0m                                Traceback (most recent call last)",
      "\u001b[0;32m<ipython-input-5-3f91ef08726f>\u001b[0m in \u001b[0;36m<module>\u001b[0;34m\u001b[0m\n\u001b[1;32m      1\u001b[0m \u001b[0mfile_name\u001b[0m \u001b[0;34m=\u001b[0m \u001b[0;34m\"./checkpoint/D86_HW_weight.h5\"\u001b[0m\u001b[0;34m\u001b[0m\u001b[0;34m\u001b[0m\u001b[0m\n\u001b[0;32m----> 2\u001b[0;31m \u001b[0mmodel\u001b[0m \u001b[0;34m=\u001b[0m \u001b[0mkeras\u001b[0m\u001b[0;34m.\u001b[0m\u001b[0mmodels\u001b[0m\u001b[0;34m.\u001b[0m\u001b[0mload_model\u001b[0m\u001b[0;34m(\u001b[0m\u001b[0mfile_name\u001b[0m\u001b[0;34m)\u001b[0m\u001b[0;34m\u001b[0m\u001b[0;34m\u001b[0m\u001b[0m\n\u001b[0m\u001b[1;32m      3\u001b[0m \u001b[0mmodel\u001b[0m\u001b[0;34m.\u001b[0m\u001b[0mevaluate\u001b[0m\u001b[0;34m(\u001b[0m\u001b[0mx_test\u001b[0m\u001b[0;34m,\u001b[0m \u001b[0my_test\u001b[0m\u001b[0;34m)\u001b[0m\u001b[0;34m\u001b[0m\u001b[0;34m\u001b[0m\u001b[0m\n",
      "\u001b[0;32m~/opt/anaconda3/lib/python3.8/site-packages/keras/utils/traceback_utils.py\u001b[0m in \u001b[0;36merror_handler\u001b[0;34m(*args, **kwargs)\u001b[0m\n\u001b[1;32m     65\u001b[0m     \u001b[0;32mexcept\u001b[0m \u001b[0mException\u001b[0m \u001b[0;32mas\u001b[0m \u001b[0me\u001b[0m\u001b[0;34m:\u001b[0m  \u001b[0;31m# pylint: disable=broad-except\u001b[0m\u001b[0;34m\u001b[0m\u001b[0;34m\u001b[0m\u001b[0m\n\u001b[1;32m     66\u001b[0m       \u001b[0mfiltered_tb\u001b[0m \u001b[0;34m=\u001b[0m \u001b[0m_process_traceback_frames\u001b[0m\u001b[0;34m(\u001b[0m\u001b[0me\u001b[0m\u001b[0;34m.\u001b[0m\u001b[0m__traceback__\u001b[0m\u001b[0;34m)\u001b[0m\u001b[0;34m\u001b[0m\u001b[0;34m\u001b[0m\u001b[0m\n\u001b[0;32m---> 67\u001b[0;31m       \u001b[0;32mraise\u001b[0m \u001b[0me\u001b[0m\u001b[0;34m.\u001b[0m\u001b[0mwith_traceback\u001b[0m\u001b[0;34m(\u001b[0m\u001b[0mfiltered_tb\u001b[0m\u001b[0;34m)\u001b[0m \u001b[0;32mfrom\u001b[0m \u001b[0;32mNone\u001b[0m\u001b[0;34m\u001b[0m\u001b[0;34m\u001b[0m\u001b[0m\n\u001b[0m\u001b[1;32m     68\u001b[0m     \u001b[0;32mfinally\u001b[0m\u001b[0;34m:\u001b[0m\u001b[0;34m\u001b[0m\u001b[0;34m\u001b[0m\u001b[0m\n\u001b[1;32m     69\u001b[0m       \u001b[0;32mdel\u001b[0m \u001b[0mfiltered_tb\u001b[0m\u001b[0;34m\u001b[0m\u001b[0;34m\u001b[0m\u001b[0m\n",
      "\u001b[0;32m~/opt/anaconda3/lib/python3.8/site-packages/keras/saving/hdf5_format.py\u001b[0m in \u001b[0;36mload_model_from_hdf5\u001b[0;34m(filepath, custom_objects, compile)\u001b[0m\n\u001b[1;32m    180\u001b[0m     \u001b[0mmodel_config\u001b[0m \u001b[0;34m=\u001b[0m \u001b[0mf\u001b[0m\u001b[0;34m.\u001b[0m\u001b[0mattrs\u001b[0m\u001b[0;34m.\u001b[0m\u001b[0mget\u001b[0m\u001b[0;34m(\u001b[0m\u001b[0;34m'model_config'\u001b[0m\u001b[0;34m)\u001b[0m\u001b[0;34m\u001b[0m\u001b[0;34m\u001b[0m\u001b[0m\n\u001b[1;32m    181\u001b[0m     \u001b[0;32mif\u001b[0m \u001b[0mmodel_config\u001b[0m \u001b[0;32mis\u001b[0m \u001b[0;32mNone\u001b[0m\u001b[0;34m:\u001b[0m\u001b[0;34m\u001b[0m\u001b[0;34m\u001b[0m\u001b[0m\n\u001b[0;32m--> 182\u001b[0;31m       \u001b[0;32mraise\u001b[0m \u001b[0mValueError\u001b[0m\u001b[0;34m(\u001b[0m\u001b[0;34mf'No model config found in the file at {filepath}.'\u001b[0m\u001b[0;34m)\u001b[0m\u001b[0;34m\u001b[0m\u001b[0;34m\u001b[0m\u001b[0m\n\u001b[0m\u001b[1;32m    183\u001b[0m     \u001b[0;32mif\u001b[0m \u001b[0mhasattr\u001b[0m\u001b[0;34m(\u001b[0m\u001b[0mmodel_config\u001b[0m\u001b[0;34m,\u001b[0m \u001b[0;34m'decode'\u001b[0m\u001b[0;34m)\u001b[0m\u001b[0;34m:\u001b[0m\u001b[0;34m\u001b[0m\u001b[0;34m\u001b[0m\u001b[0m\n\u001b[1;32m    184\u001b[0m       \u001b[0mmodel_config\u001b[0m \u001b[0;34m=\u001b[0m \u001b[0mmodel_config\u001b[0m\u001b[0;34m.\u001b[0m\u001b[0mdecode\u001b[0m\u001b[0;34m(\u001b[0m\u001b[0;34m'utf-8'\u001b[0m\u001b[0;34m)\u001b[0m\u001b[0;34m\u001b[0m\u001b[0;34m\u001b[0m\u001b[0m\n",
      "\u001b[0;31mValueError\u001b[0m: No model config found in the file at <tensorflow.python.platform.gfile.GFile object at 0x7fd9d7f91190>."
     ]
    }
   ],
   "source": [
    "file_name = \"./checkpoint/D86_HW_weight.h5\"\n",
    "model = keras.models.load_model(file_name)\n",
    "model.evaluate(x_test, y_test)"
   ]
  },
  {
   "cell_type": "code",
   "execution_count": null,
   "metadata": {},
   "outputs": [],
   "source": []
  }
 ],
 "metadata": {
  "kernelspec": {
   "display_name": "Python 3",
   "language": "python",
   "name": "python3"
  },
  "language_info": {
   "codemirror_mode": {
    "name": "ipython",
    "version": 3
   },
   "file_extension": ".py",
   "mimetype": "text/x-python",
   "name": "python",
   "nbconvert_exporter": "python",
   "pygments_lexer": "ipython3",
   "version": "3.8.5"
  }
 },
 "nbformat": 4,
 "nbformat_minor": 2
}
