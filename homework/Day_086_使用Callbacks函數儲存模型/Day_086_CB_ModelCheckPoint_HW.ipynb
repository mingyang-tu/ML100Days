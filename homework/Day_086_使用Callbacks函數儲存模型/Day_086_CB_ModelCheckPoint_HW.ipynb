{
 "cells": [
  {
   "cell_type": "markdown",
   "metadata": {},
   "source": [
    "## Work\n",
    "1. 試比較 save_best_only 與否的差異\n",
    "2. 請僅存入將 save_weights_only 設定為 True, 並嘗試 reset ipynb 並將模型與權重重新建回並預測 x_test"
   ]
  },
  {
   "cell_type": "code",
   "execution_count": 1,
   "metadata": {},
   "outputs": [],
   "source": [
    "import os\n",
    "from tensorflow import keras\n",
    "\n",
    "# Disable GPU\n",
    "os.environ[\"CUDA_VISIBLE_DEVICES\"] = \"\""
   ]
  },
  {
   "cell_type": "code",
   "execution_count": 2,
   "metadata": {},
   "outputs": [],
   "source": [
    "train, test = keras.datasets.cifar10.load_data()"
   ]
  },
  {
   "cell_type": "code",
   "execution_count": 3,
   "metadata": {},
   "outputs": [],
   "source": [
    "# 資料前處理\n",
    "def preproc_x(x, flatten=True):\n",
    "    x = x / 255.\n",
    "    if flatten:\n",
    "        x = x.reshape((len(x), -1))\n",
    "    return x\n",
    "\n",
    "def preproc_y(y, num_classes=10):\n",
    "    if y.shape[-1] == 1:\n",
    "        y = keras.utils.to_categorical(y, num_classes)\n",
    "    return y    "
   ]
  },
  {
   "cell_type": "code",
   "execution_count": 4,
   "metadata": {},
   "outputs": [],
   "source": [
    "x_train, y_train = train\n",
    "x_test, y_test = test\n",
    "\n",
    "# Preproc the inputs\n",
    "x_train = preproc_x(x_train)\n",
    "x_test = preproc_x(x_test)\n",
    "\n",
    "# Preproc the outputs\n",
    "y_train = preproc_y(y_train)\n",
    "y_test = preproc_y(y_test)"
   ]
  },
  {
   "cell_type": "code",
   "execution_count": 5,
   "metadata": {},
   "outputs": [
    {
     "name": "stdout",
     "output_type": "stream",
     "text": [
      "Model: \"model\"\n",
      "_________________________________________________________________\n",
      " Layer (type)                Output Shape              Param #   \n",
      "=================================================================\n",
      " input_1 (InputLayer)        [(None, 3072)]            0         \n",
      "                                                                 \n",
      " hidden_layer1 (Dense)       (None, 512)               1573376   \n",
      "                                                                 \n",
      " batch_normalization (BatchN  (None, 512)              2048      \n",
      " ormalization)                                                   \n",
      "                                                                 \n",
      " hidden_layer2 (Dense)       (None, 256)               131328    \n",
      "                                                                 \n",
      " batch_normalization_1 (Batc  (None, 256)              1024      \n",
      " hNormalization)                                                 \n",
      "                                                                 \n",
      " hidden_layer3 (Dense)       (None, 128)               32896     \n",
      "                                                                 \n",
      " batch_normalization_2 (Batc  (None, 128)              512       \n",
      " hNormalization)                                                 \n",
      "                                                                 \n",
      " output (Dense)              (None, 10)                1290      \n",
      "                                                                 \n",
      "=================================================================\n",
      "Total params: 1,742,474\n",
      "Trainable params: 1,740,682\n",
      "Non-trainable params: 1,792\n",
      "_________________________________________________________________\n"
     ]
    }
   ],
   "source": [
    "from keras.layers import BatchNormalization\n",
    "\n",
    "def build_mlp(input_shape, output_units=10, num_neurons=[512, 256, 128]):\n",
    "    input_layer = keras.layers.Input(input_shape)\n",
    "    \n",
    "    for i, n_units in enumerate(num_neurons):\n",
    "        if i == 0:\n",
    "            x = keras.layers.Dense(units=n_units, \n",
    "                                   activation=\"relu\", \n",
    "                                   name=\"hidden_layer\"+str(i+1))(input_layer)\n",
    "            x = BatchNormalization()(x)\n",
    "        else:\n",
    "            x = keras.layers.Dense(units=n_units, \n",
    "                                   activation=\"relu\", \n",
    "                                   name=\"hidden_layer\"+str(i+1))(x)\n",
    "            x = BatchNormalization()(x)\n",
    "    \n",
    "    out = keras.layers.Dense(units=output_units, activation=\"softmax\", name=\"output\")(x)\n",
    "    \n",
    "    model = keras.models.Model(inputs=[input_layer], outputs=[out])\n",
    "    return model\n",
    "\n",
    "model = build_mlp(input_shape=x_train.shape[1:])\n",
    "model.summary()"
   ]
  },
  {
   "cell_type": "code",
   "execution_count": 6,
   "metadata": {},
   "outputs": [],
   "source": [
    "# 超參數設定\n",
    "LEARNING_RATE = 1e-3\n",
    "EPOCHS = 50\n",
    "BATCH_SIZE = 1024\n",
    "MOMENTUM = 0.95"
   ]
  },
  {
   "cell_type": "code",
   "execution_count": 7,
   "metadata": {},
   "outputs": [],
   "source": [
    "# 載入 Callbacks\n",
    "from keras.callbacks import ModelCheckpoint\n",
    "\n",
    "save_dir = \"./checkpoint\"\n",
    "file_name = save_dir + \"/D86_HW.h5\"\n",
    "\n",
    "if not os.path.exists(save_dir):\n",
    "    os.makedirs(save_dir)"
   ]
  },
  {
   "cell_type": "markdown",
   "metadata": {},
   "source": [
    "## save_best_only = False"
   ]
  },
  {
   "cell_type": "code",
   "execution_count": 8,
   "metadata": {
    "scrolled": true
   },
   "outputs": [
    {
     "name": "stdout",
     "output_type": "stream",
     "text": [
      "Epoch 1/50\n",
      "49/49 - 6s - loss: 2.2083 - accuracy: 0.2724 - val_loss: 2.1616 - val_accuracy: 0.1696 - 6s/epoch - 118ms/step\n",
      "Epoch 2/50\n",
      "49/49 - 4s - loss: 1.7404 - accuracy: 0.3925 - val_loss: 1.9756 - val_accuracy: 0.2889 - 4s/epoch - 74ms/step\n",
      "Epoch 3/50\n",
      "49/49 - 4s - loss: 1.6144 - accuracy: 0.4331 - val_loss: 1.8361 - val_accuracy: 0.3549 - 4s/epoch - 73ms/step\n",
      "Epoch 4/50\n",
      "49/49 - 3s - loss: 1.5415 - accuracy: 0.4584 - val_loss: 1.7423 - val_accuracy: 0.3812 - 3s/epoch - 71ms/step\n",
      "Epoch 5/50\n",
      "49/49 - 4s - loss: 1.4863 - accuracy: 0.4783 - val_loss: 1.6869 - val_accuracy: 0.3989 - 4s/epoch - 73ms/step\n",
      "Epoch 6/50\n",
      "49/49 - 3s - loss: 1.4402 - accuracy: 0.4960 - val_loss: 1.6057 - val_accuracy: 0.4355 - 3s/epoch - 71ms/step\n",
      "Epoch 7/50\n",
      "49/49 - 4s - loss: 1.4005 - accuracy: 0.5074 - val_loss: 1.5729 - val_accuracy: 0.4424 - 4s/epoch - 74ms/step\n",
      "Epoch 8/50\n",
      "49/49 - 4s - loss: 1.3663 - accuracy: 0.5213 - val_loss: 1.5301 - val_accuracy: 0.4539 - 4s/epoch - 72ms/step\n",
      "Epoch 9/50\n",
      "49/49 - 4s - loss: 1.3338 - accuracy: 0.5336 - val_loss: 1.5099 - val_accuracy: 0.4655 - 4s/epoch - 72ms/step\n",
      "Epoch 10/50\n",
      "49/49 - 4s - loss: 1.3024 - accuracy: 0.5446 - val_loss: 1.5069 - val_accuracy: 0.4681 - 4s/epoch - 74ms/step\n",
      "Epoch 11/50\n",
      "49/49 - 4s - loss: 1.2737 - accuracy: 0.5553 - val_loss: 1.4976 - val_accuracy: 0.4712 - 4s/epoch - 73ms/step\n",
      "Epoch 12/50\n",
      "49/49 - 4s - loss: 1.2466 - accuracy: 0.5667 - val_loss: 1.4848 - val_accuracy: 0.4741 - 4s/epoch - 91ms/step\n",
      "Epoch 13/50\n",
      "49/49 - 4s - loss: 1.2196 - accuracy: 0.5774 - val_loss: 1.4839 - val_accuracy: 0.4753 - 4s/epoch - 73ms/step\n",
      "Epoch 14/50\n",
      "49/49 - 3s - loss: 1.1960 - accuracy: 0.5852 - val_loss: 1.4806 - val_accuracy: 0.4767 - 3s/epoch - 71ms/step\n",
      "Epoch 15/50\n",
      "49/49 - 3s - loss: 1.1692 - accuracy: 0.5977 - val_loss: 1.4707 - val_accuracy: 0.4838 - 3s/epoch - 71ms/step\n",
      "Epoch 16/50\n",
      "49/49 - 3s - loss: 1.1445 - accuracy: 0.6031 - val_loss: 1.4704 - val_accuracy: 0.4814 - 3s/epoch - 70ms/step\n",
      "Epoch 17/50\n",
      "49/49 - 3s - loss: 1.1212 - accuracy: 0.6160 - val_loss: 1.4735 - val_accuracy: 0.4835 - 3s/epoch - 71ms/step\n",
      "Epoch 18/50\n",
      "49/49 - 4s - loss: 1.0982 - accuracy: 0.6236 - val_loss: 1.4764 - val_accuracy: 0.4830 - 4s/epoch - 73ms/step\n",
      "Epoch 19/50\n",
      "49/49 - 3s - loss: 1.0758 - accuracy: 0.6315 - val_loss: 1.4593 - val_accuracy: 0.4887 - 3s/epoch - 71ms/step\n",
      "Epoch 20/50\n",
      "49/49 - 3s - loss: 1.0544 - accuracy: 0.6395 - val_loss: 1.4599 - val_accuracy: 0.4863 - 3s/epoch - 71ms/step\n",
      "Epoch 21/50\n",
      "49/49 - 4s - loss: 1.0314 - accuracy: 0.6505 - val_loss: 1.4627 - val_accuracy: 0.4900 - 4s/epoch - 72ms/step\n",
      "Epoch 22/50\n",
      "49/49 - 4s - loss: 1.0098 - accuracy: 0.6558 - val_loss: 1.4581 - val_accuracy: 0.4911 - 4s/epoch - 74ms/step\n",
      "Epoch 23/50\n",
      "49/49 - 3s - loss: 0.9887 - accuracy: 0.6653 - val_loss: 1.4685 - val_accuracy: 0.4894 - 3s/epoch - 71ms/step\n",
      "Epoch 24/50\n",
      "49/49 - 4s - loss: 0.9673 - accuracy: 0.6750 - val_loss: 1.4677 - val_accuracy: 0.4943 - 4s/epoch - 73ms/step\n",
      "Epoch 25/50\n",
      "49/49 - 3s - loss: 0.9453 - accuracy: 0.6841 - val_loss: 1.4784 - val_accuracy: 0.4884 - 3s/epoch - 71ms/step\n",
      "Epoch 26/50\n",
      "49/49 - 3s - loss: 0.9250 - accuracy: 0.6907 - val_loss: 1.4708 - val_accuracy: 0.4983 - 3s/epoch - 71ms/step\n",
      "Epoch 27/50\n",
      "49/49 - 4s - loss: 0.9045 - accuracy: 0.6995 - val_loss: 1.4828 - val_accuracy: 0.4846 - 4s/epoch - 74ms/step\n",
      "Epoch 28/50\n",
      "49/49 - 4s - loss: 0.8845 - accuracy: 0.7062 - val_loss: 1.4827 - val_accuracy: 0.4928 - 4s/epoch - 72ms/step\n",
      "Epoch 29/50\n",
      "49/49 - 4s - loss: 0.8646 - accuracy: 0.7140 - val_loss: 1.4996 - val_accuracy: 0.4949 - 4s/epoch - 71ms/step\n",
      "Epoch 30/50\n",
      "49/49 - 4s - loss: 0.8429 - accuracy: 0.7232 - val_loss: 1.4931 - val_accuracy: 0.4926 - 4s/epoch - 72ms/step\n",
      "Epoch 31/50\n",
      "49/49 - 4s - loss: 0.8229 - accuracy: 0.7316 - val_loss: 1.4972 - val_accuracy: 0.4944 - 4s/epoch - 72ms/step\n",
      "Epoch 32/50\n",
      "49/49 - 4s - loss: 0.8032 - accuracy: 0.7392 - val_loss: 1.4964 - val_accuracy: 0.4928 - 4s/epoch - 74ms/step\n",
      "Epoch 33/50\n",
      "49/49 - 4s - loss: 0.7831 - accuracy: 0.7480 - val_loss: 1.5265 - val_accuracy: 0.4835 - 4s/epoch - 72ms/step\n",
      "Epoch 34/50\n",
      "49/49 - 4s - loss: 0.7626 - accuracy: 0.7563 - val_loss: 1.5144 - val_accuracy: 0.4901 - 4s/epoch - 72ms/step\n",
      "Epoch 35/50\n",
      "49/49 - 3s - loss: 0.7461 - accuracy: 0.7624 - val_loss: 1.5670 - val_accuracy: 0.4838 - 3s/epoch - 71ms/step\n",
      "Epoch 36/50\n",
      "49/49 - 4s - loss: 0.7256 - accuracy: 0.7712 - val_loss: 1.5307 - val_accuracy: 0.4880 - 4s/epoch - 75ms/step\n",
      "Epoch 37/50\n",
      "49/49 - 4s - loss: 0.7066 - accuracy: 0.7775 - val_loss: 1.5375 - val_accuracy: 0.4901 - 4s/epoch - 72ms/step\n",
      "Epoch 38/50\n",
      "49/49 - 3s - loss: 0.6876 - accuracy: 0.7851 - val_loss: 1.5642 - val_accuracy: 0.4836 - 3s/epoch - 71ms/step\n",
      "Epoch 39/50\n",
      "49/49 - 3s - loss: 0.6690 - accuracy: 0.7919 - val_loss: 1.5790 - val_accuracy: 0.4922 - 3s/epoch - 71ms/step\n",
      "Epoch 40/50\n",
      "49/49 - 4s - loss: 0.6491 - accuracy: 0.8009 - val_loss: 1.5747 - val_accuracy: 0.4874 - 4s/epoch - 72ms/step\n",
      "Epoch 41/50\n",
      "49/49 - 3s - loss: 0.6324 - accuracy: 0.8084 - val_loss: 1.5908 - val_accuracy: 0.4895 - 3s/epoch - 71ms/step\n",
      "Epoch 42/50\n",
      "49/49 - 4s - loss: 0.6148 - accuracy: 0.8152 - val_loss: 1.5893 - val_accuracy: 0.4857 - 4s/epoch - 74ms/step\n",
      "Epoch 43/50\n",
      "49/49 - 3s - loss: 0.5965 - accuracy: 0.8203 - val_loss: 1.6180 - val_accuracy: 0.4774 - 3s/epoch - 71ms/step\n",
      "Epoch 44/50\n",
      "49/49 - 3s - loss: 0.5762 - accuracy: 0.8300 - val_loss: 1.6069 - val_accuracy: 0.4866 - 3s/epoch - 70ms/step\n",
      "Epoch 45/50\n",
      "49/49 - 4s - loss: 0.5601 - accuracy: 0.8358 - val_loss: 1.6258 - val_accuracy: 0.4871 - 4s/epoch - 75ms/step\n",
      "Epoch 46/50\n",
      "49/49 - 4s - loss: 0.5438 - accuracy: 0.8431 - val_loss: 1.6271 - val_accuracy: 0.4847 - 4s/epoch - 72ms/step\n",
      "Epoch 47/50\n",
      "49/49 - 4s - loss: 0.5274 - accuracy: 0.8471 - val_loss: 1.6315 - val_accuracy: 0.4854 - 4s/epoch - 72ms/step\n",
      "Epoch 48/50\n",
      "49/49 - 3s - loss: 0.5090 - accuracy: 0.8559 - val_loss: 1.6706 - val_accuracy: 0.4855 - 3s/epoch - 71ms/step\n",
      "Epoch 49/50\n",
      "49/49 - 4s - loss: 0.4951 - accuracy: 0.8608 - val_loss: 1.6876 - val_accuracy: 0.4840 - 4s/epoch - 72ms/step\n",
      "Epoch 50/50\n",
      "49/49 - 3s - loss: 0.4746 - accuracy: 0.8699 - val_loss: 1.6883 - val_accuracy: 0.4801 - 3s/epoch - 71ms/step\n"
     ]
    }
   ],
   "source": [
    "model_ckpt = ModelCheckpoint(filepath=file_name, \n",
    "                             monitor=\"val_loss\", \n",
    "                             save_best_only=False)\n",
    "\n",
    "optimizer = keras.optimizers.SGD(learning_rate=LEARNING_RATE, nesterov=True, momentum=MOMENTUM)\n",
    "model.compile(loss=\"categorical_crossentropy\", metrics=[\"accuracy\"], optimizer=optimizer)\n",
    "\n",
    "history = model.fit(x_train, y_train, \n",
    "                    epochs=EPOCHS, \n",
    "                    batch_size=BATCH_SIZE, \n",
    "                    validation_data=(x_test, y_test), \n",
    "                    shuffle=True,\n",
    "                    callbacks=[model_ckpt], \n",
    "                    verbose=2)\n",
    "\n",
    "# Collect results\n",
    "train_loss = model.history.history[\"loss\"]\n",
    "valid_loss = model.history.history[\"val_loss\"]\n",
    "train_acc = model.history.history[\"accuracy\"]\n",
    "valid_acc = model.history.history[\"val_accuracy\"]"
   ]
  },
  {
   "cell_type": "code",
   "execution_count": 9,
   "metadata": {},
   "outputs": [
    {
     "name": "stdout",
     "output_type": "stream",
     "text": [
      "313/313 [==============================] - 1s 3ms/step - loss: 1.6883 - accuracy: 0.4801\n"
     ]
    }
   ],
   "source": [
    "model = keras.models.load_model(file_name)\n",
    "loss_loadback, acc_loadback = model.evaluate(x_test, y_test)"
   ]
  },
  {
   "cell_type": "code",
   "execution_count": 10,
   "metadata": {
    "scrolled": true
   },
   "outputs": [
    {
     "data": {
      "image/png": "[encoded data removed]",
      "text/plain": [
       "<Figure size 432x288 with 1 Axes>"
      ]
     },
     "metadata": {
      "needs_background": "light"
     },
     "output_type": "display_data"
    },
    {
     "data": {
      "image/png": "[encoded data removed]",
      "text/plain": [
       "<Figure size 432x288 with 1 Axes>"
      ]
     },
     "metadata": {
      "needs_background": "light"
     },
     "output_type": "display_data"
    }
   ],
   "source": [
    "import matplotlib.pyplot as plt\n",
    "%matplotlib inline\n",
    "\n",
    "plt.figure()\n",
    "plt.plot(range(len(train_loss)), train_loss, label=\"train loss\")\n",
    "plt.plot(range(len(valid_loss)), valid_loss, label=\"valid loss\")\n",
    "plt.hlines(y=loss_loadback, xmin=0, xmax=len(train_loss), colors='r', linestyles='--')\n",
    "plt.legend()\n",
    "plt.title(\"Loss\")\n",
    "plt.show()\n",
    "\n",
    "plt.figure()\n",
    "plt.plot(range(len(train_acc)), train_acc, label=\"train accuracy\")\n",
    "plt.plot(range(len(valid_acc)), valid_acc, label=\"valid accuracy\")\n",
    "plt.hlines(y=acc_loadback, xmin=0, xmax=len(train_loss), colors='r', linestyles='--')\n",
    "plt.legend()\n",
    "plt.title(\"Accuracy\")\n",
    "plt.show()"
   ]
  },
  {
   "cell_type": "markdown",
   "metadata": {},
   "source": [
    "## save_best_only = True, save_weights_only = True"
   ]
  },
  {
   "cell_type": "code",
   "execution_count": 11,
   "metadata": {
    "scrolled": true
   },
   "outputs": [
    {
     "name": "stdout",
     "output_type": "stream",
     "text": [
      "Epoch 1/50\n",
      "49/49 - 4s - loss: 2.2386 - accuracy: 0.2739 - val_loss: 2.1237 - val_accuracy: 0.1891 - 4s/epoch - 88ms/step\n",
      "Epoch 2/50\n",
      "49/49 - 3s - loss: 1.7371 - accuracy: 0.3975 - val_loss: 1.9873 - val_accuracy: 0.2674 - 3s/epoch - 69ms/step\n",
      "Epoch 3/50\n",
      "49/49 - 4s - loss: 1.6148 - accuracy: 0.4357 - val_loss: 1.8445 - val_accuracy: 0.3402 - 4s/epoch - 72ms/step\n",
      "Epoch 4/50\n",
      "49/49 - 4s - loss: 1.5401 - accuracy: 0.4635 - val_loss: 1.7277 - val_accuracy: 0.4003 - 4s/epoch - 74ms/step\n",
      "Epoch 5/50\n",
      "49/49 - 4s - loss: 1.4866 - accuracy: 0.4819 - val_loss: 1.6442 - val_accuracy: 0.4245 - 4s/epoch - 73ms/step\n",
      "Epoch 6/50\n",
      "49/49 - 4s - loss: 1.4398 - accuracy: 0.4977 - val_loss: 1.5852 - val_accuracy: 0.4400 - 4s/epoch - 72ms/step\n",
      "Epoch 7/50\n",
      "49/49 - 4s - loss: 1.4006 - accuracy: 0.5134 - val_loss: 1.5446 - val_accuracy: 0.4568 - 4s/epoch - 74ms/step\n",
      "Epoch 8/50\n",
      "49/49 - 4s - loss: 1.3649 - accuracy: 0.5249 - val_loss: 1.5160 - val_accuracy: 0.4661 - 4s/epoch - 74ms/step\n",
      "Epoch 9/50\n",
      "49/49 - 4s - loss: 1.3342 - accuracy: 0.5359 - val_loss: 1.4908 - val_accuracy: 0.4734 - 4s/epoch - 73ms/step\n",
      "Epoch 10/50\n",
      "49/49 - 4s - loss: 1.3033 - accuracy: 0.5477 - val_loss: 1.4867 - val_accuracy: 0.4756 - 4s/epoch - 72ms/step\n",
      "Epoch 11/50\n",
      "49/49 - 4s - loss: 1.2770 - accuracy: 0.5560 - val_loss: 1.4785 - val_accuracy: 0.4791 - 4s/epoch - 72ms/step\n",
      "Epoch 12/50\n",
      "49/49 - 4s - loss: 1.2498 - accuracy: 0.5679 - val_loss: 1.4716 - val_accuracy: 0.4820 - 4s/epoch - 74ms/step\n",
      "Epoch 13/50\n",
      "49/49 - 4s - loss: 1.2244 - accuracy: 0.5773 - val_loss: 1.4611 - val_accuracy: 0.4854 - 4s/epoch - 72ms/step\n",
      "Epoch 14/50\n",
      "49/49 - 4s - loss: 1.1990 - accuracy: 0.5853 - val_loss: 1.4521 - val_accuracy: 0.4903 - 4s/epoch - 72ms/step\n",
      "Epoch 15/50\n",
      "49/49 - 3s - loss: 1.1752 - accuracy: 0.5958 - val_loss: 1.4749 - val_accuracy: 0.4838 - 3s/epoch - 71ms/step\n",
      "Epoch 16/50\n",
      "49/49 - 4s - loss: 1.1529 - accuracy: 0.6042 - val_loss: 1.4499 - val_accuracy: 0.4919 - 4s/epoch - 75ms/step\n",
      "Epoch 17/50\n",
      "49/49 - 3s - loss: 1.1290 - accuracy: 0.6129 - val_loss: 1.4509 - val_accuracy: 0.4924 - 3s/epoch - 71ms/step\n",
      "Epoch 18/50\n",
      "49/49 - 3s - loss: 1.1058 - accuracy: 0.6218 - val_loss: 1.4610 - val_accuracy: 0.4849 - 3s/epoch - 71ms/step\n",
      "Epoch 19/50\n",
      "49/49 - 4s - loss: 1.0855 - accuracy: 0.6291 - val_loss: 1.4649 - val_accuracy: 0.4919 - 4s/epoch - 71ms/step\n",
      "Epoch 20/50\n",
      "49/49 - 4s - loss: 1.0636 - accuracy: 0.6372 - val_loss: 1.4515 - val_accuracy: 0.4927 - 4s/epoch - 71ms/step\n",
      "Epoch 21/50\n",
      "49/49 - 4s - loss: 1.0435 - accuracy: 0.6448 - val_loss: 1.4640 - val_accuracy: 0.4901 - 4s/epoch - 72ms/step\n",
      "Epoch 22/50\n",
      "49/49 - 4s - loss: 1.0239 - accuracy: 0.6516 - val_loss: 1.4561 - val_accuracy: 0.4907 - 4s/epoch - 74ms/step\n",
      "Epoch 23/50\n",
      "49/49 - 3s - loss: 1.0004 - accuracy: 0.6609 - val_loss: 1.4656 - val_accuracy: 0.4903 - 3s/epoch - 71ms/step\n",
      "Epoch 24/50\n",
      "49/49 - 4s - loss: 0.9793 - accuracy: 0.6707 - val_loss: 1.4677 - val_accuracy: 0.4920 - 4s/epoch - 72ms/step\n",
      "Epoch 25/50\n",
      "49/49 - 4s - loss: 0.9606 - accuracy: 0.6754 - val_loss: 1.4685 - val_accuracy: 0.4896 - 4s/epoch - 74ms/step\n",
      "Epoch 26/50\n",
      "49/49 - 4s - loss: 0.9390 - accuracy: 0.6847 - val_loss: 1.4669 - val_accuracy: 0.4935 - 4s/epoch - 72ms/step\n",
      "Epoch 27/50\n",
      "49/49 - 4s - loss: 0.9186 - accuracy: 0.6940 - val_loss: 1.4695 - val_accuracy: 0.4982 - 4s/epoch - 73ms/step\n",
      "Epoch 28/50\n",
      "49/49 - 3s - loss: 0.9025 - accuracy: 0.6992 - val_loss: 1.4771 - val_accuracy: 0.4952 - 3s/epoch - 71ms/step\n",
      "Epoch 29/50\n",
      "49/49 - 4s - loss: 0.8802 - accuracy: 0.7067 - val_loss: 1.4700 - val_accuracy: 0.4946 - 4s/epoch - 72ms/step\n",
      "Epoch 30/50\n",
      "49/49 - 4s - loss: 0.8600 - accuracy: 0.7163 - val_loss: 1.4924 - val_accuracy: 0.4978 - 4s/epoch - 73ms/step\n",
      "Epoch 31/50\n",
      "49/49 - 4s - loss: 0.8412 - accuracy: 0.7247 - val_loss: 1.4955 - val_accuracy: 0.4957 - 4s/epoch - 73ms/step\n",
      "Epoch 32/50\n",
      "49/49 - 4s - loss: 0.8219 - accuracy: 0.7318 - val_loss: 1.4931 - val_accuracy: 0.4955 - 4s/epoch - 72ms/step\n",
      "Epoch 33/50\n",
      "49/49 - 3s - loss: 0.8029 - accuracy: 0.7386 - val_loss: 1.4950 - val_accuracy: 0.5007 - 3s/epoch - 71ms/step\n",
      "Epoch 34/50\n",
      "49/49 - 4s - loss: 0.7839 - accuracy: 0.7464 - val_loss: 1.5209 - val_accuracy: 0.4890 - 4s/epoch - 72ms/step\n",
      "Epoch 35/50\n",
      "49/49 - 4s - loss: 0.7658 - accuracy: 0.7523 - val_loss: 1.5200 - val_accuracy: 0.4971 - 4s/epoch - 72ms/step\n",
      "Epoch 36/50\n",
      "49/49 - 4s - loss: 0.7470 - accuracy: 0.7618 - val_loss: 1.5304 - val_accuracy: 0.4927 - 4s/epoch - 73ms/step\n",
      "Epoch 37/50\n",
      "49/49 - 4s - loss: 0.7285 - accuracy: 0.7690 - val_loss: 1.5372 - val_accuracy: 0.4965 - 4s/epoch - 72ms/step\n",
      "Epoch 38/50\n",
      "49/49 - 4s - loss: 0.7091 - accuracy: 0.7757 - val_loss: 1.5526 - val_accuracy: 0.4931 - 4s/epoch - 72ms/step\n",
      "Epoch 39/50\n",
      "49/49 - 4s - loss: 0.6913 - accuracy: 0.7829 - val_loss: 1.5476 - val_accuracy: 0.4899 - 4s/epoch - 74ms/step\n",
      "Epoch 40/50\n",
      "49/49 - 3s - loss: 0.6733 - accuracy: 0.7911 - val_loss: 1.5589 - val_accuracy: 0.4942 - 3s/epoch - 71ms/step\n",
      "Epoch 41/50\n",
      "49/49 - 3s - loss: 0.6546 - accuracy: 0.7961 - val_loss: 1.5683 - val_accuracy: 0.4954 - 3s/epoch - 71ms/step\n",
      "Epoch 42/50\n",
      "49/49 - 3s - loss: 0.6379 - accuracy: 0.8028 - val_loss: 1.5735 - val_accuracy: 0.4913 - 3s/epoch - 71ms/step\n",
      "Epoch 43/50\n",
      "49/49 - 3s - loss: 0.6197 - accuracy: 0.8118 - val_loss: 1.6096 - val_accuracy: 0.4910 - 3s/epoch - 71ms/step\n",
      "Epoch 44/50\n",
      "49/49 - 4s - loss: 0.6016 - accuracy: 0.8195 - val_loss: 1.6153 - val_accuracy: 0.4883 - 4s/epoch - 72ms/step\n",
      "Epoch 45/50\n",
      "49/49 - 4s - loss: 0.5827 - accuracy: 0.8267 - val_loss: 1.6210 - val_accuracy: 0.4893 - 4s/epoch - 74ms/step\n",
      "Epoch 46/50\n",
      "49/49 - 4s - loss: 0.5696 - accuracy: 0.8313 - val_loss: 1.6189 - val_accuracy: 0.4933 - 4s/epoch - 72ms/step\n",
      "Epoch 47/50\n",
      "49/49 - 4s - loss: 0.5525 - accuracy: 0.8381 - val_loss: 1.6518 - val_accuracy: 0.4906 - 4s/epoch - 72ms/step\n",
      "Epoch 48/50\n",
      "49/49 - 4s - loss: 0.5360 - accuracy: 0.8441 - val_loss: 1.6469 - val_accuracy: 0.4928 - 4s/epoch - 73ms/step\n",
      "Epoch 49/50\n",
      "49/49 - 4s - loss: 0.5183 - accuracy: 0.8511 - val_loss: 1.6488 - val_accuracy: 0.4945 - 4s/epoch - 74ms/step\n",
      "Epoch 50/50\n",
      "49/49 - 3s - loss: 0.5024 - accuracy: 0.8586 - val_loss: 1.6786 - val_accuracy: 0.4833 - 3s/epoch - 70ms/step\n"
     ]
    }
   ],
   "source": [
    "model = build_mlp(input_shape=x_train.shape[1:])\n",
    "\n",
    "file_name = save_dir + \"/D86_HW_weight.h5\"\n",
    "model_ckpt = ModelCheckpoint(filepath=file_name, \n",
    "                             monitor=\"val_loss\", \n",
    "                             save_best_only=True,\n",
    "                             save_weights_only=True)\n",
    "\n",
    "optimizer = keras.optimizers.SGD(learning_rate=LEARNING_RATE, nesterov=True, momentum=MOMENTUM)\n",
    "model.compile(loss=\"categorical_crossentropy\", metrics=[\"accuracy\"], optimizer=optimizer)\n",
    "\n",
    "history = model.fit(x_train, y_train, \n",
    "                    epochs=EPOCHS, \n",
    "                    batch_size=BATCH_SIZE, \n",
    "                    validation_data=(x_test, y_test), \n",
    "                    shuffle=True,\n",
    "                    callbacks=[model_ckpt], \n",
    "                    verbose=2)\n",
    "\n",
    "# Collect results\n",
    "train_loss = model.history.history[\"loss\"]\n",
    "valid_loss = model.history.history[\"val_loss\"]\n",
    "train_acc = model.history.history[\"accuracy\"]\n",
    "valid_acc = model.history.history[\"val_accuracy\"]"
   ]
  },
  {
   "cell_type": "code",
   "execution_count": 12,
   "metadata": {},
   "outputs": [
    {
     "name": "stdout",
     "output_type": "stream",
     "text": [
      "Accuracy before loadback: 0.100\n",
      "Accuracy after loadback: 0.492\n"
     ]
    }
   ],
   "source": [
    "from sklearn.metrics import accuracy_score\n",
    "\n",
    "new_model = build_mlp(input_shape=x_train.shape[1:])\n",
    "new_model_pred = new_model.predict(x_test)\n",
    "new_model_acc = accuracy_score(y_true=y_test.argmax(axis=-1), y_pred=new_model_pred.argmax(axis=-1))\n",
    "print(\"Accuracy before loadback: %.3f\" % new_model_acc)\n",
    "\n",
    "new_model.load_weights(file_name)\n",
    "new_model_pred = new_model.predict(x_test)\n",
    "new_model_acc = accuracy_score(y_true=y_test.argmax(axis=-1), y_pred=new_model_pred.argmax(axis=-1))\n",
    "print(\"Accuracy after loadback: %.3f\" % new_model_acc)"
   ]
  },
  {
   "cell_type": "code",
   "execution_count": null,
   "metadata": {},
   "outputs": [],
   "source": []
  }
 ],
 "metadata": {
  "kernelspec": {
   "display_name": "Python 3",
   "language": "python",
   "name": "python3"
  },
  "language_info": {
   "codemirror_mode": {
    "name": "ipython",
    "version": 3
   },
   "file_extension": ".py",
   "mimetype": "text/x-python",
   "name": "python",
   "nbconvert_exporter": "python",
   "pygments_lexer": "ipython3",
   "version": "3.8.5"
  }
 },
 "nbformat": 4,
 "nbformat_minor": 2
}
