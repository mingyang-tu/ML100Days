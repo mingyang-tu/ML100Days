{
 "cells": [
  {
   "cell_type": "markdown",
   "metadata": {
    "id": "XHZv0J1wZ-hi"
   },
   "source": [
    "## 範例重點\n",
    "### 學習在模型開始前檢查各個環節\n",
    "1. 是否有 GPU 資源\n",
    "2. 將前處理轉為函式，統一處理訓練、驗證與測試集\n",
    "3. 將超參數變數化，易於重複使用函式、模型等"
   ]
  },
  {
   "cell_type": "code",
   "execution_count": 1,
   "metadata": {
    "id": "qcM2GqFKZ-hm"
   },
   "outputs": [],
   "source": [
    "import os\n",
    "from tensorflow import keras\n",
    "\n",
    "# 本範例不需使用 GPU, 將 GPU 設定為 \"無\"\n",
    "os.environ[\"CUDA_VISIBLE_DEVICES\"] = \"\""
   ]
  },
  {
   "cell_type": "code",
   "execution_count": 2,
   "metadata": {
    "colab": {
     "base_uri": "https://localhost:8080/"
    },
    "executionInfo": {
     "elapsed": 5803,
     "status": "ok",
     "timestamp": 1624721171467,
     "user": {
      "displayName": "王健安",
      "photoUrl": "https://lh3.googleusercontent.com/a-/AOh14GjkOiMI1V_jlsl754oMqyZoTjSfVhzPdb4cuHdA=s64",
      "userId": "16924381174086586694"
     },
     "user_tz": -480
    },
    "id": "8OcuuAFSZ-hn",
    "outputId": "148754e4-ea00-486f-c3c1-e6cd10b881d9"
   },
   "outputs": [],
   "source": [
    "# 從 Keras 的內建功能中，取得 train 與 test 資料集\n",
    "train, test = keras.datasets.cifar10.load_data()"
   ]
  },
  {
   "cell_type": "code",
   "execution_count": 3,
   "metadata": {
    "id": "UbB09WBZZ-hn"
   },
   "outputs": [],
   "source": [
    "# 資料前處理\n",
    "def preproc_x(x, flatten=True):\n",
    "    x = x / 255.\n",
    "    if flatten:\n",
    "        x = x.reshape((len(x), -1))\n",
    "    return x\n",
    "\n",
    "def preproc_y(y, num_classes=10):\n",
    "    if y.shape[-1] == 1:\n",
    "        y = keras.utils.to_categorical(y, num_classes)\n",
    "    return y    "
   ]
  },
  {
   "cell_type": "code",
   "execution_count": 4,
   "metadata": {
    "id": "ydUowIBQZ-ho"
   },
   "outputs": [],
   "source": [
    "x_train, y_train = train\n",
    "x_test, y_test = test\n",
    "\n",
    "# 資料前處理 - X 標準化\n",
    "x_train = preproc_x(x_train)\n",
    "x_test = preproc_x(x_test)\n",
    "\n",
    "# 資料前處理 - Y 轉成 onehot\n",
    "y_train = preproc_y(y_train)\n",
    "y_test = preproc_y(y_test)"
   ]
  },
  {
   "cell_type": "code",
   "execution_count": 5,
   "metadata": {
    "id": "Gkiyt2rVZ-ho"
   },
   "outputs": [],
   "source": [
    "def build_mlp(input_shape, output_units=10, num_neurons=[512, 256, 128]):\n",
    "    input_layer = keras.layers.Input(input_shape)\n",
    "    \n",
    "    for i, n_units in enumerate(num_neurons):\n",
    "        if i == 0:\n",
    "            x = keras.layers.Dense(units=n_units, activation=\"relu\", name=\"hidden_layer\"+str(i+1))(input_layer)\n",
    "        else:\n",
    "            x = keras.layers.Dense(units=n_units, activation=\"relu\", name=\"hidden_layer\"+str(i+1))(x)\n",
    "    \n",
    "    out = keras.layers.Dense(units=output_units, activation=\"softmax\", name=\"output\")(x)\n",
    "    \n",
    "    model = keras.models.Model(inputs=[input_layer], outputs=[out])\n",
    "    \n",
    "    return model"
   ]
  },
  {
   "cell_type": "code",
   "execution_count": 6,
   "metadata": {
    "colab": {
     "base_uri": "https://localhost:8080/"
    },
    "executionInfo": {
     "elapsed": 10,
     "status": "ok",
     "timestamp": 1624721172598,
     "user": {
      "displayName": "王健安",
      "photoUrl": "https://lh3.googleusercontent.com/a-/AOh14GjkOiMI1V_jlsl754oMqyZoTjSfVhzPdb4cuHdA=s64",
      "userId": "16924381174086586694"
     },
     "user_tz": -480
    },
    "id": "6LYfZG76Z-hp",
    "outputId": "ce8b87e0-ee4e-4034-958b-772cc96e4d8b"
   },
   "outputs": [
    {
     "name": "stdout",
     "output_type": "stream",
     "text": [
      "Model: \"model\"\n",
      "_________________________________________________________________\n",
      " Layer (type)                Output Shape              Param #   \n",
      "=================================================================\n",
      " input_1 (InputLayer)        [(None, 3072)]            0         \n",
      "                                                                 \n",
      " hidden_layer1 (Dense)       (None, 512)               1573376   \n",
      "                                                                 \n",
      " hidden_layer2 (Dense)       (None, 256)               131328    \n",
      "                                                                 \n",
      " hidden_layer3 (Dense)       (None, 128)               32896     \n",
      "                                                                 \n",
      " output (Dense)              (None, 10)                1290      \n",
      "                                                                 \n",
      "=================================================================\n",
      "Total params: 1,738,890\n",
      "Trainable params: 1,738,890\n",
      "Non-trainable params: 0\n",
      "_________________________________________________________________\n"
     ]
    }
   ],
   "source": [
    "model = build_mlp(input_shape=x_train.shape[1:])\n",
    "model.summary()"
   ]
  },
  {
   "cell_type": "code",
   "execution_count": 7,
   "metadata": {
    "id": "sffkJJ9kZ-hp"
   },
   "outputs": [],
   "source": [
    "# 超參數設定\n",
    "LEARNING_RATE = 0.001\n",
    "EPOCHS = 100\n",
    "BATCH_SIZE = 256"
   ]
  },
  {
   "cell_type": "code",
   "execution_count": 8,
   "metadata": {
    "colab": {
     "base_uri": "https://localhost:8080/"
    },
    "executionInfo": {
     "elapsed": 7,
     "status": "ok",
     "timestamp": 1624721172598,
     "user": {
      "displayName": "王健安",
      "photoUrl": "https://lh3.googleusercontent.com/a-/AOh14GjkOiMI1V_jlsl754oMqyZoTjSfVhzPdb4cuHdA=s64",
      "userId": "16924381174086586694"
     },
     "user_tz": -480
    },
    "id": "ucNn5ByWZ-hq",
    "outputId": "167b4fdd-2062-463d-c233-d6a3d491350f"
   },
   "outputs": [],
   "source": [
    "optimizer = keras.optimizers.Adam(learning_rate=LEARNING_RATE)\n",
    "model.compile(loss=\"categorical_crossentropy\", metrics=[\"accuracy\"], optimizer=optimizer)"
   ]
  },
  {
   "cell_type": "code",
   "execution_count": 9,
   "metadata": {
    "colab": {
     "base_uri": "https://localhost:8080/"
    },
    "executionInfo": {
     "elapsed": 717432,
     "status": "ok",
     "timestamp": 1624721890026,
     "user": {
      "displayName": "王健安",
      "photoUrl": "https://lh3.googleusercontent.com/a-/AOh14GjkOiMI1V_jlsl754oMqyZoTjSfVhzPdb4cuHdA=s64",
      "userId": "16924381174086586694"
     },
     "user_tz": -480
    },
    "id": "qu7PeZulZ-hq",
    "outputId": "a700187d-d420-4807-cbd9-b1f1809f923f",
    "scrolled": true
   },
   "outputs": [
    {
     "name": "stdout",
     "output_type": "stream",
     "text": [
      "Epoch 1/100\n",
      "196/196 - 5s - loss: 1.9288 - accuracy: 0.3023 - val_loss: 1.7650 - val_accuracy: 0.3705 - 5s/epoch - 25ms/step\n",
      "Epoch 2/100\n",
      "196/196 - 3s - loss: 1.7171 - accuracy: 0.3850 - val_loss: 1.6488 - val_accuracy: 0.4043 - 3s/epoch - 16ms/step\n",
      "Epoch 3/100\n",
      "196/196 - 3s - loss: 1.6169 - accuracy: 0.4209 - val_loss: 1.6002 - val_accuracy: 0.4297 - 3s/epoch - 17ms/step\n",
      "Epoch 4/100\n",
      "196/196 - 4s - loss: 1.5568 - accuracy: 0.4430 - val_loss: 1.5103 - val_accuracy: 0.4627 - 4s/epoch - 18ms/step\n",
      "Epoch 5/100\n",
      "196/196 - 3s - loss: 1.5114 - accuracy: 0.4599 - val_loss: 1.5798 - val_accuracy: 0.4400 - 3s/epoch - 17ms/step\n",
      "Epoch 6/100\n",
      "196/196 - 3s - loss: 1.4743 - accuracy: 0.4720 - val_loss: 1.5951 - val_accuracy: 0.4432 - 3s/epoch - 17ms/step\n",
      "Epoch 7/100\n",
      "196/196 - 3s - loss: 1.4438 - accuracy: 0.4852 - val_loss: 1.4902 - val_accuracy: 0.4771 - 3s/epoch - 17ms/step\n",
      "Epoch 8/100\n",
      "196/196 - 3s - loss: 1.4114 - accuracy: 0.4988 - val_loss: 1.4376 - val_accuracy: 0.4918 - 3s/epoch - 18ms/step\n",
      "Epoch 9/100\n",
      "196/196 - 3s - loss: 1.3787 - accuracy: 0.5110 - val_loss: 1.4652 - val_accuracy: 0.4824 - 3s/epoch - 17ms/step\n",
      "Epoch 10/100\n",
      "196/196 - 3s - loss: 1.3537 - accuracy: 0.5193 - val_loss: 1.4215 - val_accuracy: 0.4898 - 3s/epoch - 17ms/step\n",
      "Epoch 11/100\n",
      "196/196 - 3s - loss: 1.3378 - accuracy: 0.5229 - val_loss: 1.4230 - val_accuracy: 0.4960 - 3s/epoch - 17ms/step\n",
      "Epoch 12/100\n",
      "196/196 - 3s - loss: 1.3056 - accuracy: 0.5361 - val_loss: 1.4205 - val_accuracy: 0.4974 - 3s/epoch - 17ms/step\n",
      "Epoch 13/100\n",
      "196/196 - 3s - loss: 1.2760 - accuracy: 0.5440 - val_loss: 1.3899 - val_accuracy: 0.5083 - 3s/epoch - 18ms/step\n",
      "Epoch 14/100\n",
      "196/196 - 3s - loss: 1.2609 - accuracy: 0.5507 - val_loss: 1.3950 - val_accuracy: 0.5032 - 3s/epoch - 18ms/step\n",
      "Epoch 15/100\n",
      "196/196 - 3s - loss: 1.2353 - accuracy: 0.5587 - val_loss: 1.4409 - val_accuracy: 0.4929 - 3s/epoch - 17ms/step\n",
      "Epoch 16/100\n",
      "196/196 - 4s - loss: 1.2172 - accuracy: 0.5656 - val_loss: 1.3995 - val_accuracy: 0.5044 - 4s/epoch - 21ms/step\n",
      "Epoch 17/100\n",
      "196/196 - 4s - loss: 1.1907 - accuracy: 0.5773 - val_loss: 1.4501 - val_accuracy: 0.4946 - 4s/epoch - 19ms/step\n",
      "Epoch 18/100\n",
      "196/196 - 3s - loss: 1.1731 - accuracy: 0.5821 - val_loss: 1.3424 - val_accuracy: 0.5272 - 3s/epoch - 18ms/step\n",
      "Epoch 19/100\n",
      "196/196 - 3s - loss: 1.1588 - accuracy: 0.5860 - val_loss: 1.3675 - val_accuracy: 0.5206 - 3s/epoch - 17ms/step\n",
      "Epoch 20/100\n",
      "196/196 - 3s - loss: 1.1312 - accuracy: 0.5985 - val_loss: 1.3690 - val_accuracy: 0.5147 - 3s/epoch - 17ms/step\n",
      "Epoch 21/100\n",
      "196/196 - 3s - loss: 1.1182 - accuracy: 0.6020 - val_loss: 1.3722 - val_accuracy: 0.5196 - 3s/epoch - 17ms/step\n",
      "Epoch 22/100\n",
      "196/196 - 3s - loss: 1.0920 - accuracy: 0.6088 - val_loss: 1.3865 - val_accuracy: 0.5164 - 3s/epoch - 18ms/step\n",
      "Epoch 23/100\n",
      "196/196 - 3s - loss: 1.0722 - accuracy: 0.6156 - val_loss: 1.4491 - val_accuracy: 0.5055 - 3s/epoch - 17ms/step\n",
      "Epoch 24/100\n",
      "196/196 - 3s - loss: 1.0614 - accuracy: 0.6206 - val_loss: 1.3686 - val_accuracy: 0.5308 - 3s/epoch - 17ms/step\n",
      "Epoch 25/100\n",
      "196/196 - 4s - loss: 1.0352 - accuracy: 0.6347 - val_loss: 1.3696 - val_accuracy: 0.5321 - 4s/epoch - 18ms/step\n",
      "Epoch 26/100\n",
      "196/196 - 3s - loss: 1.0214 - accuracy: 0.6353 - val_loss: 1.3803 - val_accuracy: 0.5286 - 3s/epoch - 17ms/step\n",
      "Epoch 27/100\n",
      "196/196 - 4s - loss: 0.9994 - accuracy: 0.6437 - val_loss: 1.4366 - val_accuracy: 0.5116 - 4s/epoch - 18ms/step\n",
      "Epoch 28/100\n",
      "196/196 - 3s - loss: 0.9968 - accuracy: 0.6436 - val_loss: 1.4000 - val_accuracy: 0.5275 - 3s/epoch - 17ms/step\n",
      "Epoch 29/100\n",
      "196/196 - 3s - loss: 0.9625 - accuracy: 0.6556 - val_loss: 1.4140 - val_accuracy: 0.5296 - 3s/epoch - 17ms/step\n",
      "Epoch 30/100\n",
      "196/196 - 3s - loss: 0.9497 - accuracy: 0.6617 - val_loss: 1.4242 - val_accuracy: 0.5228 - 3s/epoch - 18ms/step\n",
      "Epoch 31/100\n",
      "196/196 - 3s - loss: 0.9364 - accuracy: 0.6687 - val_loss: 1.4154 - val_accuracy: 0.5328 - 3s/epoch - 18ms/step\n",
      "Epoch 32/100\n",
      "196/196 - 3s - loss: 0.9112 - accuracy: 0.6749 - val_loss: 1.4683 - val_accuracy: 0.5243 - 3s/epoch - 17ms/step\n",
      "Epoch 33/100\n",
      "196/196 - 3s - loss: 0.8915 - accuracy: 0.6824 - val_loss: 1.4734 - val_accuracy: 0.5258 - 3s/epoch - 18ms/step\n",
      "Epoch 34/100\n",
      "196/196 - 3s - loss: 0.8826 - accuracy: 0.6852 - val_loss: 1.4482 - val_accuracy: 0.5330 - 3s/epoch - 17ms/step\n",
      "Epoch 35/100\n",
      "196/196 - 3s - loss: 0.8624 - accuracy: 0.6928 - val_loss: 1.5038 - val_accuracy: 0.5283 - 3s/epoch - 17ms/step\n",
      "Epoch 36/100\n",
      "196/196 - 4s - loss: 0.8464 - accuracy: 0.6977 - val_loss: 1.5232 - val_accuracy: 0.5173 - 4s/epoch - 18ms/step\n",
      "Epoch 37/100\n",
      "196/196 - 3s - loss: 0.8297 - accuracy: 0.7035 - val_loss: 1.5870 - val_accuracy: 0.5053 - 3s/epoch - 17ms/step\n",
      "Epoch 38/100\n",
      "196/196 - 3s - loss: 0.8066 - accuracy: 0.7128 - val_loss: 1.5152 - val_accuracy: 0.5299 - 3s/epoch - 17ms/step\n",
      "Epoch 39/100\n",
      "196/196 - 3s - loss: 0.7996 - accuracy: 0.7146 - val_loss: 1.5514 - val_accuracy: 0.5249 - 3s/epoch - 18ms/step\n",
      "Epoch 40/100\n",
      "196/196 - 3s - loss: 0.7969 - accuracy: 0.7142 - val_loss: 1.5433 - val_accuracy: 0.5257 - 3s/epoch - 17ms/step\n",
      "Epoch 41/100\n",
      "196/196 - 3s - loss: 0.7672 - accuracy: 0.7283 - val_loss: 1.5624 - val_accuracy: 0.5224 - 3s/epoch - 17ms/step\n",
      "Epoch 42/100\n",
      "196/196 - 3s - loss: 0.7617 - accuracy: 0.7288 - val_loss: 1.6343 - val_accuracy: 0.5142 - 3s/epoch - 18ms/step\n",
      "Epoch 43/100\n",
      "196/196 - 3s - loss: 0.7421 - accuracy: 0.7353 - val_loss: 1.6108 - val_accuracy: 0.5150 - 3s/epoch - 18ms/step\n",
      "Epoch 44/100\n",
      "196/196 - 3s - loss: 0.7289 - accuracy: 0.7382 - val_loss: 1.6899 - val_accuracy: 0.5215 - 3s/epoch - 17ms/step\n",
      "Epoch 45/100\n",
      "196/196 - 3s - loss: 0.7221 - accuracy: 0.7419 - val_loss: 1.6437 - val_accuracy: 0.5287 - 3s/epoch - 17ms/step\n",
      "Epoch 46/100\n",
      "196/196 - 3s - loss: 0.6927 - accuracy: 0.7544 - val_loss: 1.6685 - val_accuracy: 0.5159 - 3s/epoch - 18ms/step\n",
      "Epoch 47/100\n",
      "196/196 - 3s - loss: 0.6832 - accuracy: 0.7570 - val_loss: 1.7180 - val_accuracy: 0.5079 - 3s/epoch - 17ms/step\n",
      "Epoch 48/100\n",
      "196/196 - 3s - loss: 0.6793 - accuracy: 0.7566 - val_loss: 1.7026 - val_accuracy: 0.5200 - 3s/epoch - 18ms/step\n",
      "Epoch 49/100\n",
      "196/196 - 3s - loss: 0.6688 - accuracy: 0.7604 - val_loss: 1.7634 - val_accuracy: 0.5144 - 3s/epoch - 17ms/step\n",
      "Epoch 50/100\n",
      "196/196 - 4s - loss: 0.6357 - accuracy: 0.7737 - val_loss: 1.7401 - val_accuracy: 0.5177 - 4s/epoch - 18ms/step\n",
      "Epoch 51/100\n",
      "196/196 - 3s - loss: 0.6419 - accuracy: 0.7702 - val_loss: 1.7660 - val_accuracy: 0.5188 - 3s/epoch - 17ms/step\n",
      "Epoch 52/100\n",
      "196/196 - 3s - loss: 0.6129 - accuracy: 0.7809 - val_loss: 1.8401 - val_accuracy: 0.5109 - 3s/epoch - 17ms/step\n",
      "Epoch 53/100\n",
      "196/196 - 3s - loss: 0.6061 - accuracy: 0.7846 - val_loss: 1.8745 - val_accuracy: 0.5186 - 3s/epoch - 17ms/step\n",
      "Epoch 54/100\n",
      "196/196 - 3s - loss: 0.6024 - accuracy: 0.7822 - val_loss: 1.8331 - val_accuracy: 0.5149 - 3s/epoch - 18ms/step\n",
      "Epoch 55/100\n",
      "196/196 - 4s - loss: 0.5837 - accuracy: 0.7910 - val_loss: 1.8510 - val_accuracy: 0.5222 - 4s/epoch - 18ms/step\n",
      "Epoch 56/100\n",
      "196/196 - 3s - loss: 0.5857 - accuracy: 0.7897 - val_loss: 1.9248 - val_accuracy: 0.5071 - 3s/epoch - 17ms/step\n",
      "Epoch 57/100\n",
      "196/196 - 3s - loss: 0.5636 - accuracy: 0.7989 - val_loss: 1.9411 - val_accuracy: 0.5184 - 3s/epoch - 18ms/step\n",
      "Epoch 58/100\n",
      "196/196 - 3s - loss: 0.5632 - accuracy: 0.7961 - val_loss: 1.9384 - val_accuracy: 0.5138 - 3s/epoch - 18ms/step\n",
      "Epoch 59/100\n",
      "196/196 - 4s - loss: 0.5384 - accuracy: 0.8068 - val_loss: 2.0538 - val_accuracy: 0.5203 - 4s/epoch - 18ms/step\n",
      "Epoch 60/100\n",
      "196/196 - 3s - loss: 0.5408 - accuracy: 0.8070 - val_loss: 2.0538 - val_accuracy: 0.5158 - 3s/epoch - 17ms/step\n",
      "Epoch 61/100\n",
      "196/196 - 3s - loss: 0.5205 - accuracy: 0.8140 - val_loss: 1.9959 - val_accuracy: 0.5260 - 3s/epoch - 18ms/step\n",
      "Epoch 62/100\n",
      "196/196 - 3s - loss: 0.5211 - accuracy: 0.8139 - val_loss: 2.0566 - val_accuracy: 0.5159 - 3s/epoch - 17ms/step\n",
      "Epoch 63/100\n",
      "196/196 - 3s - loss: 0.5146 - accuracy: 0.8136 - val_loss: 2.1080 - val_accuracy: 0.5062 - 3s/epoch - 18ms/step\n",
      "Epoch 64/100\n",
      "196/196 - 3s - loss: 0.4920 - accuracy: 0.8213 - val_loss: 2.1357 - val_accuracy: 0.5176 - 3s/epoch - 18ms/step\n",
      "Epoch 65/100\n",
      "196/196 - 4s - loss: 0.4847 - accuracy: 0.8255 - val_loss: 2.1986 - val_accuracy: 0.5087 - 4s/epoch - 18ms/step\n",
      "Epoch 66/100\n",
      "196/196 - 3s - loss: 0.4766 - accuracy: 0.8280 - val_loss: 2.1948 - val_accuracy: 0.5117 - 3s/epoch - 18ms/step\n"
     ]
    },
    {
     "name": "stdout",
     "output_type": "stream",
     "text": [
      "Epoch 67/100\n",
      "196/196 - 3s - loss: 0.4799 - accuracy: 0.8274 - val_loss: 2.2047 - val_accuracy: 0.5158 - 3s/epoch - 18ms/step\n",
      "Epoch 68/100\n",
      "196/196 - 3s - loss: 0.4692 - accuracy: 0.8299 - val_loss: 2.2288 - val_accuracy: 0.5095 - 3s/epoch - 17ms/step\n",
      "Epoch 69/100\n",
      "196/196 - 3s - loss: 0.4618 - accuracy: 0.8325 - val_loss: 2.3037 - val_accuracy: 0.5139 - 3s/epoch - 17ms/step\n",
      "Epoch 70/100\n",
      "196/196 - 3s - loss: 0.4415 - accuracy: 0.8406 - val_loss: 2.3538 - val_accuracy: 0.5098 - 3s/epoch - 18ms/step\n",
      "Epoch 71/100\n",
      "196/196 - 4s - loss: 0.4379 - accuracy: 0.8412 - val_loss: 2.2956 - val_accuracy: 0.5075 - 4s/epoch - 18ms/step\n",
      "Epoch 72/100\n",
      "196/196 - 3s - loss: 0.4228 - accuracy: 0.8486 - val_loss: 2.4792 - val_accuracy: 0.5077 - 3s/epoch - 18ms/step\n",
      "Epoch 73/100\n",
      "196/196 - 3s - loss: 0.4244 - accuracy: 0.8465 - val_loss: 2.4749 - val_accuracy: 0.5038 - 3s/epoch - 17ms/step\n",
      "Epoch 74/100\n",
      "196/196 - 4s - loss: 0.4211 - accuracy: 0.8487 - val_loss: 2.4011 - val_accuracy: 0.5111 - 4s/epoch - 18ms/step\n",
      "Epoch 75/100\n",
      "196/196 - 3s - loss: 0.4174 - accuracy: 0.8494 - val_loss: 2.4564 - val_accuracy: 0.5129 - 3s/epoch - 17ms/step\n",
      "Epoch 76/100\n",
      "196/196 - 4s - loss: 0.4278 - accuracy: 0.8446 - val_loss: 2.4456 - val_accuracy: 0.5126 - 4s/epoch - 18ms/step\n",
      "Epoch 77/100\n",
      "196/196 - 3s - loss: 0.3934 - accuracy: 0.8596 - val_loss: 2.5545 - val_accuracy: 0.5132 - 3s/epoch - 17ms/step\n",
      "Epoch 78/100\n",
      "196/196 - 4s - loss: 0.3922 - accuracy: 0.8589 - val_loss: 2.4801 - val_accuracy: 0.5122 - 4s/epoch - 18ms/step\n",
      "Epoch 79/100\n",
      "196/196 - 3s - loss: 0.3989 - accuracy: 0.8560 - val_loss: 2.5907 - val_accuracy: 0.4958 - 3s/epoch - 17ms/step\n",
      "Epoch 80/100\n",
      "196/196 - 3s - loss: 0.3794 - accuracy: 0.8645 - val_loss: 2.4857 - val_accuracy: 0.5168 - 3s/epoch - 17ms/step\n",
      "Epoch 81/100\n",
      "196/196 - 3s - loss: 0.3563 - accuracy: 0.8730 - val_loss: 2.6825 - val_accuracy: 0.5018 - 3s/epoch - 17ms/step\n",
      "Epoch 82/100\n",
      "196/196 - 3s - loss: 0.3740 - accuracy: 0.8670 - val_loss: 2.7313 - val_accuracy: 0.5102 - 3s/epoch - 18ms/step\n",
      "Epoch 83/100\n",
      "196/196 - 4s - loss: 0.3870 - accuracy: 0.8599 - val_loss: 2.7548 - val_accuracy: 0.5088 - 4s/epoch - 18ms/step\n",
      "Epoch 84/100\n",
      "196/196 - 3s - loss: 0.3669 - accuracy: 0.8690 - val_loss: 2.7039 - val_accuracy: 0.5049 - 3s/epoch - 17ms/step\n",
      "Epoch 85/100\n",
      "196/196 - 3s - loss: 0.3483 - accuracy: 0.8752 - val_loss: 2.7443 - val_accuracy: 0.5112 - 3s/epoch - 17ms/step\n",
      "Epoch 86/100\n",
      "196/196 - 3s - loss: 0.3894 - accuracy: 0.8602 - val_loss: 2.8828 - val_accuracy: 0.5060 - 3s/epoch - 17ms/step\n",
      "Epoch 87/100\n",
      "196/196 - 4s - loss: 0.3531 - accuracy: 0.8735 - val_loss: 2.9103 - val_accuracy: 0.4989 - 4s/epoch - 18ms/step\n",
      "Epoch 88/100\n",
      "196/196 - 3s - loss: 0.3300 - accuracy: 0.8818 - val_loss: 2.8293 - val_accuracy: 0.5125 - 3s/epoch - 18ms/step\n",
      "Epoch 89/100\n",
      "196/196 - 3s - loss: 0.3162 - accuracy: 0.8877 - val_loss: 2.8542 - val_accuracy: 0.5056 - 3s/epoch - 18ms/step\n",
      "Epoch 90/100\n",
      "196/196 - 3s - loss: 0.3108 - accuracy: 0.8886 - val_loss: 2.8825 - val_accuracy: 0.5055 - 3s/epoch - 17ms/step\n",
      "Epoch 91/100\n",
      "196/196 - 3s - loss: 0.3320 - accuracy: 0.8795 - val_loss: 3.0570 - val_accuracy: 0.5022 - 3s/epoch - 17ms/step\n",
      "Epoch 92/100\n",
      "196/196 - 4s - loss: 0.3234 - accuracy: 0.8837 - val_loss: 3.0340 - val_accuracy: 0.5049 - 4s/epoch - 18ms/step\n",
      "Epoch 93/100\n",
      "196/196 - 3s - loss: 0.3223 - accuracy: 0.8828 - val_loss: 2.8872 - val_accuracy: 0.5027 - 3s/epoch - 17ms/step\n",
      "Epoch 94/100\n",
      "196/196 - 3s - loss: 0.3331 - accuracy: 0.8792 - val_loss: 2.9858 - val_accuracy: 0.4988 - 3s/epoch - 18ms/step\n",
      "Epoch 95/100\n",
      "196/196 - 3s - loss: 0.3345 - accuracy: 0.8793 - val_loss: 3.0383 - val_accuracy: 0.4950 - 3s/epoch - 18ms/step\n",
      "Epoch 96/100\n",
      "196/196 - 4s - loss: 0.3043 - accuracy: 0.8909 - val_loss: 3.1097 - val_accuracy: 0.5001 - 4s/epoch - 20ms/step\n",
      "Epoch 97/100\n",
      "196/196 - 3s - loss: 0.2885 - accuracy: 0.8956 - val_loss: 3.1468 - val_accuracy: 0.5014 - 3s/epoch - 17ms/step\n",
      "Epoch 98/100\n",
      "196/196 - 3s - loss: 0.2797 - accuracy: 0.8996 - val_loss: 3.1653 - val_accuracy: 0.4982 - 3s/epoch - 18ms/step\n",
      "Epoch 99/100\n",
      "196/196 - 3s - loss: 0.2951 - accuracy: 0.8935 - val_loss: 3.2117 - val_accuracy: 0.4969 - 3s/epoch - 18ms/step\n",
      "Epoch 100/100\n",
      "196/196 - 3s - loss: 0.3002 - accuracy: 0.8922 - val_loss: 3.2156 - val_accuracy: 0.4999 - 3s/epoch - 17ms/step\n"
     ]
    }
   ],
   "source": [
    "history = model.fit(x_train, y_train, \n",
    "                    epochs=EPOCHS, \n",
    "                    batch_size=BATCH_SIZE, \n",
    "                    validation_data=(x_test, y_test), \n",
    "                    shuffle=True, \n",
    "                    verbose=2)"
   ]
  },
  {
   "cell_type": "code",
   "execution_count": 10,
   "metadata": {
    "colab": {
     "base_uri": "https://localhost:8080/",
     "height": 545
    },
    "executionInfo": {
     "elapsed": 666,
     "status": "ok",
     "timestamp": 1624721890684,
     "user": {
      "displayName": "王健安",
      "photoUrl": "https://lh3.googleusercontent.com/a-/AOh14GjkOiMI1V_jlsl754oMqyZoTjSfVhzPdb4cuHdA=s64",
      "userId": "16924381174086586694"
     },
     "user_tz": -480
    },
    "id": "qIA577VFZ-hq",
    "outputId": "21e67fd2-9ccf-49d2-b6d6-729083b39d42"
   },
   "outputs": [
    {
     "data": {
      "image/png": "[encoded data removed]",
      "text/plain": [
       "<Figure size 432x288 with 1 Axes>"
      ]
     },
     "metadata": {
      "needs_background": "light"
     },
     "output_type": "display_data"
    },
    {
     "data": {
      "image/png": "[encoded data removed]",
      "text/plain": [
       "<Figure size 432x288 with 1 Axes>"
      ]
     },
     "metadata": {
      "needs_background": "light"
     },
     "output_type": "display_data"
    }
   ],
   "source": [
    "# 訓練模型並檢視驗證集的結果\n",
    "import matplotlib.pyplot as plt\n",
    "\n",
    "train_loss = model.history.history[\"loss\"]\n",
    "valid_loss = model.history.history[\"val_loss\"]\n",
    "\n",
    "train_acc = model.history.history[\"accuracy\"]\n",
    "valid_acc = model.history.history[\"val_accuracy\"]\n",
    "\n",
    "plt.figure()\n",
    "plt.plot(range(len(train_loss)), train_loss, label=\"train loss\")\n",
    "plt.plot(range(len(valid_loss)), valid_loss, label=\"valid loss\")\n",
    "plt.legend()\n",
    "plt.title(\"Loss\")\n",
    "plt.show()\n",
    "\n",
    "plt.figure()\n",
    "plt.plot(range(len(train_acc)), train_acc, label=\"train accuracy\")\n",
    "plt.plot(range(len(valid_acc)), valid_acc, label=\"valid accuracy\")\n",
    "plt.legend()\n",
    "plt.title(\"Accuracy\")\n",
    "plt.show()"
   ]
  },
  {
   "cell_type": "markdown",
   "metadata": {
    "id": "auI1a0oKZ-hr"
   },
   "source": [
    "## Work\n",
    "1. 請嘗試將 preproc_x 替換成以每筆資料的 min/max 進行標準化至 -1 ~ 1 間，再進行訓練\n",
    "2. 請嘗試將 mlp 疊更深 (e.g 5~10 層)，進行訓練後觀察 learning curve 的走勢\n",
    "3. (optional) 請改用 GPU 進行訓練 (可善用 google colab)，比較使用 CPU 與 GPU 的訓練速度"
   ]
  }
 ],
 "metadata": {
  "accelerator": "GPU",
  "colab": {
   "name": "Day078_CheckBeforeTrain_範例 (更新).ipynb",
   "provenance": []
  },
  "kernelspec": {
   "display_name": "Python 3",
   "language": "python",
   "name": "python3"
  },
  "language_info": {
   "codemirror_mode": {
    "name": "ipython",
    "version": 3
   },
   "file_extension": ".py",
   "mimetype": "text/x-python",
   "name": "python",
   "nbconvert_exporter": "python",
   "pygments_lexer": "ipython3",
   "version": "3.8.5"
  }
 },
 "nbformat": 4,
 "nbformat_minor": 1
}
