{
 "cells": [
  {
   "cell_type": "markdown",
   "metadata": {
    "id": "auEAuEgT4oXE"
   },
   "source": [
    "## Work\n",
    "1. 請嘗試將 preproc_x 替換成以每筆資料的 min/max 進行標準化至 -1 ~ 1 間，再進行訓練\n",
    "2. 請嘗試將 mlp 疊更深 (e.g 5~10 層)，進行訓練後觀察 learning curve 的走勢\n",
    "3. (optional) 請改用 GPU 進行訓練 (可善用 google colab)，比較使用 CPU 與 GPU 的訓練速度"
   ]
  },
  {
   "cell_type": "code",
   "execution_count": 1,
   "metadata": {
    "colab": {
     "base_uri": "https://localhost:8080/"
    },
    "id": "L0HSsOA-4oXE",
    "outputId": "64ed5e9f-6dd6-4380-c672-5d7ccf88f0d4"
   },
   "outputs": [
    {
     "name": "stdout",
     "output_type": "stream",
     "text": [
      "Mon Feb 28 06:34:50 2022       \n",
      "+-----------------------------------------------------------------------------+\n",
      "| NVIDIA-SMI 460.32.03    Driver Version: 460.32.03    CUDA Version: 11.2     |\n",
      "|-------------------------------+----------------------+----------------------+\n",
      "| GPU  Name        Persistence-M| Bus-Id        Disp.A | Volatile Uncorr. ECC |\n",
      "| Fan  Temp  Perf  Pwr:Usage/Cap|         Memory-Usage | GPU-Util  Compute M. |\n",
      "|                               |                      |               MIG M. |\n",
      "|===============================+======================+======================|\n",
      "|   0  Tesla K80           Off  | 00000000:00:04.0 Off |                    0 |\n",
      "| N/A   72C    P8    32W / 149W |      0MiB / 11441MiB |      0%      Default |\n",
      "|                               |                      |                  N/A |\n",
      "+-------------------------------+----------------------+----------------------+\n",
      "                                                                               \n",
      "+-----------------------------------------------------------------------------+\n",
      "| Processes:                                                                  |\n",
      "|  GPU   GI   CI        PID   Type   Process name                  GPU Memory |\n",
      "|        ID   ID                                                   Usage      |\n",
      "|=============================================================================|\n",
      "|  No running processes found                                                 |\n",
      "+-----------------------------------------------------------------------------+\n"
     ]
    }
   ],
   "source": [
    "# 確認硬體資源\n",
    "!nvidia-smi"
   ]
  },
  {
   "cell_type": "code",
   "execution_count": 2,
   "metadata": {
    "id": "wujF_rVq4oXF"
   },
   "outputs": [],
   "source": [
    "import os\n",
    "from tensorflow import keras\n",
    "\n",
    "os.environ[\"CUDA_VISIBLE_DEVICES\"] = \"0\""
   ]
  },
  {
   "cell_type": "code",
   "execution_count": 3,
   "metadata": {
    "colab": {
     "base_uri": "https://localhost:8080/"
    },
    "id": "mD7ScVX24oXF",
    "outputId": "32ea8e57-4f6e-4db8-91b1-ad8400838dde"
   },
   "outputs": [
    {
     "name": "stdout",
     "output_type": "stream",
     "text": [
      "Downloading data from https://www.cs.toronto.edu/~kriz/cifar-10-python.tar.gz\n",
      "170500096/170498071 [==============================] - 3s 0us/step\n",
      "170508288/170498071 [==============================] - 3s 0us/step\n"
     ]
    }
   ],
   "source": [
    "train, test = keras.datasets.cifar10.load_data()"
   ]
  },
  {
   "cell_type": "code",
   "execution_count": 4,
   "metadata": {
    "id": "cv2Wknx_4oXF"
   },
   "outputs": [],
   "source": [
    "# 資料前處理\n",
    "def preproc_x(x, flatten=True):\n",
    "    x = (x / 127.5) - 1\n",
    "    if flatten:\n",
    "        x = x.reshape((len(x), -1))\n",
    "    return x\n",
    "\n",
    "def preproc_y(y, num_classes=10):\n",
    "    if y.shape[-1] == 1:\n",
    "        y = keras.utils.to_categorical(y, num_classes)\n",
    "    return y    "
   ]
  },
  {
   "cell_type": "code",
   "execution_count": 5,
   "metadata": {
    "id": "zp2WdT4d4oXF"
   },
   "outputs": [],
   "source": [
    "x_train, y_train = train\n",
    "x_test, y_test = test\n",
    "\n",
    "# Preproc the inputs\n",
    "x_train = preproc_x(x_train)\n",
    "x_test = preproc_x(x_test)\n",
    "\n",
    "# Preproc the outputs\n",
    "y_train = preproc_y(y_train)\n",
    "y_test = preproc_y(y_test)"
   ]
  },
  {
   "cell_type": "code",
   "execution_count": 6,
   "metadata": {
    "colab": {
     "base_uri": "https://localhost:8080/"
    },
    "id": "KBj2NiDK4oXF",
    "outputId": "e28b5718-af15-490a-bf3f-142d9baf9028"
   },
   "outputs": [
    {
     "name": "stdout",
     "output_type": "stream",
     "text": [
      "Model: \"model\"\n",
      "_________________________________________________________________\n",
      " Layer (type)                Output Shape              Param #   \n",
      "=================================================================\n",
      " input_1 (InputLayer)        [(None, 3072)]            0         \n",
      "                                                                 \n",
      " dense (Dense)               (None, 256)               786688    \n",
      "                                                                 \n",
      " batch_normalization (BatchN  (None, 256)              1024      \n",
      " ormalization)                                                   \n",
      "                                                                 \n",
      " dense_1 (Dense)             (None, 512)               131584    \n",
      "                                                                 \n",
      " batch_normalization_1 (Batc  (None, 512)              2048      \n",
      " hNormalization)                                                 \n",
      "                                                                 \n",
      " dropout (Dropout)           (None, 512)               0         \n",
      "                                                                 \n",
      " dense_2 (Dense)             (None, 512)               262656    \n",
      "                                                                 \n",
      " batch_normalization_2 (Batc  (None, 512)              2048      \n",
      " hNormalization)                                                 \n",
      "                                                                 \n",
      " dropout_1 (Dropout)         (None, 512)               0         \n",
      "                                                                 \n",
      " dense_3 (Dense)             (None, 1024)              525312    \n",
      "                                                                 \n",
      " batch_normalization_3 (Batc  (None, 1024)             4096      \n",
      " hNormalization)                                                 \n",
      "                                                                 \n",
      " dropout_2 (Dropout)         (None, 1024)              0         \n",
      "                                                                 \n",
      " dense_4 (Dense)             (None, 1024)              1049600   \n",
      "                                                                 \n",
      " batch_normalization_4 (Batc  (None, 1024)             4096      \n",
      " hNormalization)                                                 \n",
      "                                                                 \n",
      " dropout_3 (Dropout)         (None, 1024)              0         \n",
      "                                                                 \n",
      " dense_5 (Dense)             (None, 512)               524800    \n",
      "                                                                 \n",
      " batch_normalization_5 (Batc  (None, 512)              2048      \n",
      " hNormalization)                                                 \n",
      "                                                                 \n",
      " dropout_4 (Dropout)         (None, 512)               0         \n",
      "                                                                 \n",
      " dense_6 (Dense)             (None, 512)               262656    \n",
      "                                                                 \n",
      " batch_normalization_6 (Batc  (None, 512)              2048      \n",
      " hNormalization)                                                 \n",
      "                                                                 \n",
      " dropout_5 (Dropout)         (None, 512)               0         \n",
      "                                                                 \n",
      " dense_7 (Dense)             (None, 256)               131328    \n",
      "                                                                 \n",
      " batch_normalization_7 (Batc  (None, 256)              1024      \n",
      " hNormalization)                                                 \n",
      "                                                                 \n",
      " dense_8 (Dense)             (None, 10)                2570      \n",
      "                                                                 \n",
      "=================================================================\n",
      "Total params: 3,695,626\n",
      "Trainable params: 3,686,410\n",
      "Non-trainable params: 9,216\n",
      "_________________________________________________________________\n"
     ]
    }
   ],
   "source": [
    "def build_mlp(input_shape, output_units=10):\n",
    "    input_layer = keras.layers.Input(input_shape)\n",
    "\n",
    "    x = keras.layers.Dense(units=256, activation=\"relu\")(input_layer)\n",
    "    x = keras.layers.BatchNormalization()(x)\n",
    "\n",
    "    x = keras.layers.Dense(units=512, activation=\"relu\")(x)\n",
    "    x = keras.layers.BatchNormalization()(x)\n",
    "    x = keras.layers.Dropout(0.2)(x)\n",
    "\n",
    "    x = keras.layers.Dense(units=512, activation=\"relu\")(x)\n",
    "    x = keras.layers.BatchNormalization()(x)\n",
    "    x = keras.layers.Dropout(0.2)(x)\n",
    "\n",
    "    x = keras.layers.Dense(units=1024, activation=\"relu\")(x)\n",
    "    x = keras.layers.BatchNormalization()(x)\n",
    "    x = keras.layers.Dropout(0.2)(x)\n",
    "\n",
    "    x = keras.layers.Dense(units=1024, activation=\"relu\")(x)\n",
    "    x = keras.layers.BatchNormalization()(x)\n",
    "    x = keras.layers.Dropout(0.2)(x)\n",
    "\n",
    "    x = keras.layers.Dense(units=512, activation=\"relu\")(x)\n",
    "    x = keras.layers.BatchNormalization()(x)\n",
    "    x = keras.layers.Dropout(0.2)(x)\n",
    "\n",
    "    x = keras.layers.Dense(units=512, activation=\"relu\")(x)\n",
    "    x = keras.layers.BatchNormalization()(x)\n",
    "    x = keras.layers.Dropout(0.2)(x)\n",
    "\n",
    "    x = keras.layers.Dense(units=256, activation=\"relu\")(x)\n",
    "    x = keras.layers.BatchNormalization()(x)\n",
    "    \n",
    "    out = keras.layers.Dense(units=output_units, activation=\"softmax\")(x)\n",
    "    \n",
    "    model = keras.models.Model(inputs=[input_layer], outputs=[out])\n",
    "\n",
    "    return model\n",
    "    \n",
    "model = build_mlp(input_shape=x_train.shape[1:])\n",
    "model.summary()"
   ]
  },
  {
   "cell_type": "code",
   "execution_count": 7,
   "metadata": {
    "id": "uejU37q-4oXF"
   },
   "outputs": [],
   "source": [
    "# 超參數設定\n",
    "LEARNING_RATE = 0.001\n",
    "EPOCHS = 100\n",
    "BATCH_SIZE = 256"
   ]
  },
  {
   "cell_type": "code",
   "execution_count": 8,
   "metadata": {
    "id": "FePHihT34oXG"
   },
   "outputs": [],
   "source": [
    "optimizer = keras.optimizers.Adam(learning_rate=LEARNING_RATE)\n",
    "model.compile(loss=\"categorical_crossentropy\", metrics=[\"accuracy\"], optimizer=optimizer)"
   ]
  },
  {
   "cell_type": "code",
   "execution_count": 9,
   "metadata": {
    "colab": {
     "base_uri": "https://localhost:8080/"
    },
    "id": "LmLgZXCQ4oXG",
    "outputId": "c991d668-b8f9-4f84-86f7-fca3996910cf"
   },
   "outputs": [
    {
     "name": "stdout",
     "output_type": "stream",
     "text": [
      "Epoch 1/100\n",
      "196/196 - 9s - loss: 1.9218 - accuracy: 0.3243 - val_loss: 1.6459 - val_accuracy: 0.4154 - 9s/epoch - 45ms/step\n",
      "Epoch 2/100\n",
      "196/196 - 3s - loss: 1.5941 - accuracy: 0.4270 - val_loss: 1.5652 - val_accuracy: 0.4472 - 3s/epoch - 16ms/step\n",
      "Epoch 3/100\n",
      "196/196 - 3s - loss: 1.4813 - accuracy: 0.4714 - val_loss: 1.4596 - val_accuracy: 0.4937 - 3s/epoch - 15ms/step\n",
      "Epoch 4/100\n",
      "196/196 - 3s - loss: 1.3961 - accuracy: 0.5016 - val_loss: 1.4459 - val_accuracy: 0.5018 - 3s/epoch - 16ms/step\n",
      "Epoch 5/100\n",
      "196/196 - 3s - loss: 1.3247 - accuracy: 0.5281 - val_loss: 1.3839 - val_accuracy: 0.5184 - 3s/epoch - 16ms/step\n",
      "Epoch 6/100\n",
      "196/196 - 3s - loss: 1.2664 - accuracy: 0.5475 - val_loss: 1.4001 - val_accuracy: 0.5117 - 3s/epoch - 15ms/step\n",
      "Epoch 7/100\n",
      "196/196 - 3s - loss: 1.2213 - accuracy: 0.5651 - val_loss: 1.3739 - val_accuracy: 0.5368 - 3s/epoch - 16ms/step\n",
      "Epoch 8/100\n",
      "196/196 - 3s - loss: 1.1701 - accuracy: 0.5861 - val_loss: 1.3504 - val_accuracy: 0.5283 - 3s/epoch - 15ms/step\n",
      "Epoch 9/100\n",
      "196/196 - 3s - loss: 1.1216 - accuracy: 0.6037 - val_loss: 1.3406 - val_accuracy: 0.5403 - 3s/epoch - 16ms/step\n",
      "Epoch 10/100\n",
      "196/196 - 3s - loss: 1.0839 - accuracy: 0.6163 - val_loss: 1.3738 - val_accuracy: 0.5368 - 3s/epoch - 16ms/step\n",
      "Epoch 11/100\n",
      "196/196 - 3s - loss: 1.0430 - accuracy: 0.6311 - val_loss: 1.3632 - val_accuracy: 0.5461 - 3s/epoch - 15ms/step\n",
      "Epoch 12/100\n",
      "196/196 - 3s - loss: 1.0062 - accuracy: 0.6438 - val_loss: 1.3842 - val_accuracy: 0.5344 - 3s/epoch - 16ms/step\n",
      "Epoch 13/100\n",
      "196/196 - 3s - loss: 0.9716 - accuracy: 0.6593 - val_loss: 1.3641 - val_accuracy: 0.5522 - 3s/epoch - 15ms/step\n",
      "Epoch 14/100\n",
      "196/196 - 3s - loss: 0.9378 - accuracy: 0.6678 - val_loss: 1.3560 - val_accuracy: 0.5579 - 3s/epoch - 16ms/step\n",
      "Epoch 15/100\n",
      "196/196 - 3s - loss: 0.8953 - accuracy: 0.6850 - val_loss: 1.4388 - val_accuracy: 0.5529 - 3s/epoch - 15ms/step\n",
      "Epoch 16/100\n",
      "196/196 - 3s - loss: 0.8705 - accuracy: 0.6921 - val_loss: 1.3996 - val_accuracy: 0.5490 - 3s/epoch - 15ms/step\n",
      "Epoch 17/100\n",
      "196/196 - 3s - loss: 0.8405 - accuracy: 0.7036 - val_loss: 1.4178 - val_accuracy: 0.5506 - 3s/epoch - 16ms/step\n",
      "Epoch 18/100\n",
      "196/196 - 3s - loss: 0.7930 - accuracy: 0.7206 - val_loss: 1.4612 - val_accuracy: 0.5485 - 3s/epoch - 17ms/step\n",
      "Epoch 19/100\n",
      "196/196 - 3s - loss: 0.7685 - accuracy: 0.7308 - val_loss: 1.4376 - val_accuracy: 0.5555 - 3s/epoch - 16ms/step\n",
      "Epoch 20/100\n",
      "196/196 - 3s - loss: 0.7402 - accuracy: 0.7406 - val_loss: 1.4575 - val_accuracy: 0.5561 - 3s/epoch - 16ms/step\n",
      "Epoch 21/100\n",
      "196/196 - 3s - loss: 0.7127 - accuracy: 0.7508 - val_loss: 1.4932 - val_accuracy: 0.5565 - 3s/epoch - 17ms/step\n",
      "Epoch 22/100\n",
      "196/196 - 3s - loss: 0.6813 - accuracy: 0.7593 - val_loss: 1.5578 - val_accuracy: 0.5544 - 3s/epoch - 17ms/step\n",
      "Epoch 23/100\n",
      "196/196 - 3s - loss: 0.6567 - accuracy: 0.7691 - val_loss: 1.5341 - val_accuracy: 0.5442 - 3s/epoch - 16ms/step\n",
      "Epoch 24/100\n",
      "196/196 - 3s - loss: 0.6292 - accuracy: 0.7792 - val_loss: 1.5544 - val_accuracy: 0.5569 - 3s/epoch - 16ms/step\n",
      "Epoch 25/100\n",
      "196/196 - 3s - loss: 0.6056 - accuracy: 0.7869 - val_loss: 1.6023 - val_accuracy: 0.5561 - 3s/epoch - 16ms/step\n",
      "Epoch 26/100\n",
      "196/196 - 3s - loss: 0.5832 - accuracy: 0.7963 - val_loss: 1.5858 - val_accuracy: 0.5562 - 3s/epoch - 16ms/step\n",
      "Epoch 27/100\n",
      "196/196 - 3s - loss: 0.5617 - accuracy: 0.8045 - val_loss: 1.6606 - val_accuracy: 0.5552 - 3s/epoch - 16ms/step\n",
      "Epoch 28/100\n",
      "196/196 - 3s - loss: 0.5333 - accuracy: 0.8141 - val_loss: 1.5982 - val_accuracy: 0.5529 - 3s/epoch - 17ms/step\n",
      "Epoch 29/100\n",
      "196/196 - 4s - loss: 0.5119 - accuracy: 0.8206 - val_loss: 1.6708 - val_accuracy: 0.5545 - 4s/epoch - 20ms/step\n",
      "Epoch 30/100\n",
      "196/196 - 3s - loss: 0.5002 - accuracy: 0.8246 - val_loss: 1.6494 - val_accuracy: 0.5565 - 3s/epoch - 16ms/step\n",
      "Epoch 31/100\n",
      "196/196 - 3s - loss: 0.4691 - accuracy: 0.8355 - val_loss: 1.7144 - val_accuracy: 0.5510 - 3s/epoch - 16ms/step\n",
      "Epoch 32/100\n",
      "196/196 - 3s - loss: 0.4617 - accuracy: 0.8386 - val_loss: 1.7146 - val_accuracy: 0.5518 - 3s/epoch - 16ms/step\n",
      "Epoch 33/100\n",
      "196/196 - 3s - loss: 0.4472 - accuracy: 0.8438 - val_loss: 1.7262 - val_accuracy: 0.5562 - 3s/epoch - 16ms/step\n",
      "Epoch 34/100\n",
      "196/196 - 3s - loss: 0.4323 - accuracy: 0.8501 - val_loss: 1.7953 - val_accuracy: 0.5540 - 3s/epoch - 16ms/step\n",
      "Epoch 35/100\n",
      "196/196 - 3s - loss: 0.4113 - accuracy: 0.8554 - val_loss: 1.7898 - val_accuracy: 0.5607 - 3s/epoch - 16ms/step\n",
      "Epoch 36/100\n",
      "196/196 - 3s - loss: 0.3916 - accuracy: 0.8629 - val_loss: 1.8340 - val_accuracy: 0.5489 - 3s/epoch - 15ms/step\n",
      "Epoch 37/100\n",
      "196/196 - 3s - loss: 0.3843 - accuracy: 0.8674 - val_loss: 1.8351 - val_accuracy: 0.5604 - 3s/epoch - 16ms/step\n",
      "Epoch 38/100\n",
      "196/196 - 3s - loss: 0.3719 - accuracy: 0.8709 - val_loss: 1.8253 - val_accuracy: 0.5564 - 3s/epoch - 15ms/step\n",
      "Epoch 39/100\n",
      "196/196 - 3s - loss: 0.3531 - accuracy: 0.8780 - val_loss: 1.8981 - val_accuracy: 0.5524 - 3s/epoch - 15ms/step\n",
      "Epoch 40/100\n",
      "196/196 - 3s - loss: 0.3502 - accuracy: 0.8768 - val_loss: 1.8907 - val_accuracy: 0.5533 - 3s/epoch - 16ms/step\n",
      "Epoch 41/100\n",
      "196/196 - 3s - loss: 0.3407 - accuracy: 0.8808 - val_loss: 1.9070 - val_accuracy: 0.5549 - 3s/epoch - 16ms/step\n",
      "Epoch 42/100\n",
      "196/196 - 3s - loss: 0.3254 - accuracy: 0.8869 - val_loss: 1.9396 - val_accuracy: 0.5579 - 3s/epoch - 16ms/step\n",
      "Epoch 43/100\n",
      "196/196 - 3s - loss: 0.3159 - accuracy: 0.8896 - val_loss: 1.9560 - val_accuracy: 0.5510 - 3s/epoch - 15ms/step\n",
      "Epoch 44/100\n",
      "196/196 - 3s - loss: 0.3056 - accuracy: 0.8939 - val_loss: 1.9855 - val_accuracy: 0.5521 - 3s/epoch - 16ms/step\n",
      "Epoch 45/100\n",
      "196/196 - 3s - loss: 0.2928 - accuracy: 0.8988 - val_loss: 2.0731 - val_accuracy: 0.5508 - 3s/epoch - 16ms/step\n",
      "Epoch 46/100\n",
      "196/196 - 3s - loss: 0.2966 - accuracy: 0.8971 - val_loss: 2.0478 - val_accuracy: 0.5576 - 3s/epoch - 15ms/step\n",
      "Epoch 47/100\n",
      "196/196 - 3s - loss: 0.2897 - accuracy: 0.8999 - val_loss: 2.0181 - val_accuracy: 0.5596 - 3s/epoch - 15ms/step\n",
      "Epoch 48/100\n",
      "196/196 - 3s - loss: 0.2720 - accuracy: 0.9050 - val_loss: 2.1135 - val_accuracy: 0.5548 - 3s/epoch - 15ms/step\n",
      "Epoch 49/100\n",
      "196/196 - 3s - loss: 0.2688 - accuracy: 0.9056 - val_loss: 2.0919 - val_accuracy: 0.5543 - 3s/epoch - 16ms/step\n",
      "Epoch 50/100\n",
      "196/196 - 3s - loss: 0.2547 - accuracy: 0.9115 - val_loss: 2.1187 - val_accuracy: 0.5617 - 3s/epoch - 15ms/step\n",
      "Epoch 51/100\n",
      "196/196 - 3s - loss: 0.2580 - accuracy: 0.9086 - val_loss: 2.1064 - val_accuracy: 0.5545 - 3s/epoch - 16ms/step\n",
      "Epoch 52/100\n",
      "196/196 - 3s - loss: 0.2516 - accuracy: 0.9121 - val_loss: 2.1324 - val_accuracy: 0.5574 - 3s/epoch - 16ms/step\n",
      "Epoch 53/100\n",
      "196/196 - 3s - loss: 0.2428 - accuracy: 0.9165 - val_loss: 2.1405 - val_accuracy: 0.5533 - 3s/epoch - 16ms/step\n",
      "Epoch 54/100\n",
      "196/196 - 3s - loss: 0.2344 - accuracy: 0.9185 - val_loss: 2.2044 - val_accuracy: 0.5515 - 3s/epoch - 16ms/step\n",
      "Epoch 55/100\n",
      "196/196 - 3s - loss: 0.2377 - accuracy: 0.9169 - val_loss: 2.1067 - val_accuracy: 0.5599 - 3s/epoch - 15ms/step\n",
      "Epoch 56/100\n",
      "196/196 - 3s - loss: 0.2325 - accuracy: 0.9191 - val_loss: 2.1407 - val_accuracy: 0.5537 - 3s/epoch - 15ms/step\n",
      "Epoch 57/100\n",
      "196/196 - 3s - loss: 0.2233 - accuracy: 0.9222 - val_loss: 2.1881 - val_accuracy: 0.5544 - 3s/epoch - 15ms/step\n",
      "Epoch 58/100\n",
      "196/196 - 3s - loss: 0.2196 - accuracy: 0.9242 - val_loss: 2.2173 - val_accuracy: 0.5622 - 3s/epoch - 16ms/step\n",
      "Epoch 59/100\n",
      "196/196 - 3s - loss: 0.2131 - accuracy: 0.9261 - val_loss: 2.2010 - val_accuracy: 0.5578 - 3s/epoch - 16ms/step\n",
      "Epoch 60/100\n",
      "196/196 - 3s - loss: 0.2113 - accuracy: 0.9267 - val_loss: 2.2306 - val_accuracy: 0.5546 - 3s/epoch - 16ms/step\n",
      "Epoch 61/100\n",
      "196/196 - 3s - loss: 0.2080 - accuracy: 0.9281 - val_loss: 2.1332 - val_accuracy: 0.5565 - 3s/epoch - 16ms/step\n",
      "Epoch 62/100\n",
      "196/196 - 3s - loss: 0.2038 - accuracy: 0.9291 - val_loss: 2.2073 - val_accuracy: 0.5568 - 3s/epoch - 16ms/step\n",
      "Epoch 63/100\n",
      "196/196 - 3s - loss: 0.1974 - accuracy: 0.9301 - val_loss: 2.2363 - val_accuracy: 0.5497 - 3s/epoch - 16ms/step\n",
      "Epoch 64/100\n",
      "196/196 - 3s - loss: 0.1883 - accuracy: 0.9354 - val_loss: 2.3116 - val_accuracy: 0.5504 - 3s/epoch - 16ms/step\n",
      "Epoch 65/100\n",
      "196/196 - 3s - loss: 0.1971 - accuracy: 0.9305 - val_loss: 2.2900 - val_accuracy: 0.5593 - 3s/epoch - 15ms/step\n",
      "Epoch 66/100\n",
      "196/196 - 3s - loss: 0.1878 - accuracy: 0.9349 - val_loss: 2.2612 - val_accuracy: 0.5513 - 3s/epoch - 16ms/step\n",
      "Epoch 67/100\n",
      "196/196 - 3s - loss: 0.1902 - accuracy: 0.9342 - val_loss: 2.2501 - val_accuracy: 0.5577 - 3s/epoch - 15ms/step\n",
      "Epoch 68/100\n",
      "196/196 - 3s - loss: 0.1805 - accuracy: 0.9376 - val_loss: 2.3136 - val_accuracy: 0.5611 - 3s/epoch - 15ms/step\n",
      "Epoch 69/100\n",
      "196/196 - 3s - loss: 0.1713 - accuracy: 0.9410 - val_loss: 2.3870 - val_accuracy: 0.5525 - 3s/epoch - 16ms/step\n",
      "Epoch 70/100\n",
      "196/196 - 3s - loss: 0.1795 - accuracy: 0.9382 - val_loss: 2.2852 - val_accuracy: 0.5559 - 3s/epoch - 16ms/step\n",
      "Epoch 71/100\n",
      "196/196 - 3s - loss: 0.1757 - accuracy: 0.9395 - val_loss: 2.3046 - val_accuracy: 0.5562 - 3s/epoch - 16ms/step\n",
      "Epoch 72/100\n",
      "196/196 - 3s - loss: 0.1678 - accuracy: 0.9426 - val_loss: 2.3324 - val_accuracy: 0.5532 - 3s/epoch - 15ms/step\n",
      "Epoch 73/100\n",
      "196/196 - 3s - loss: 0.1704 - accuracy: 0.9416 - val_loss: 2.3148 - val_accuracy: 0.5553 - 3s/epoch - 16ms/step\n",
      "Epoch 74/100\n",
      "196/196 - 3s - loss: 0.1664 - accuracy: 0.9429 - val_loss: 2.3663 - val_accuracy: 0.5503 - 3s/epoch - 16ms/step\n",
      "Epoch 75/100\n",
      "196/196 - 3s - loss: 0.1667 - accuracy: 0.9426 - val_loss: 2.3704 - val_accuracy: 0.5583 - 3s/epoch - 16ms/step\n",
      "Epoch 76/100\n",
      "196/196 - 3s - loss: 0.1621 - accuracy: 0.9428 - val_loss: 2.4433 - val_accuracy: 0.5555 - 3s/epoch - 16ms/step\n",
      "Epoch 77/100\n",
      "196/196 - 3s - loss: 0.1583 - accuracy: 0.9456 - val_loss: 2.4214 - val_accuracy: 0.5566 - 3s/epoch - 15ms/step\n",
      "Epoch 78/100\n",
      "196/196 - 3s - loss: 0.1593 - accuracy: 0.9451 - val_loss: 2.4027 - val_accuracy: 0.5529 - 3s/epoch - 16ms/step\n",
      "Epoch 79/100\n",
      "196/196 - 3s - loss: 0.1570 - accuracy: 0.9459 - val_loss: 2.3213 - val_accuracy: 0.5614 - 3s/epoch - 15ms/step\n",
      "Epoch 80/100\n",
      "196/196 - 3s - loss: 0.1550 - accuracy: 0.9468 - val_loss: 2.3823 - val_accuracy: 0.5543 - 3s/epoch - 15ms/step\n",
      "Epoch 81/100\n",
      "196/196 - 3s - loss: 0.1522 - accuracy: 0.9473 - val_loss: 2.3573 - val_accuracy: 0.5630 - 3s/epoch - 16ms/step\n",
      "Epoch 82/100\n",
      "196/196 - 3s - loss: 0.1449 - accuracy: 0.9504 - val_loss: 2.5023 - val_accuracy: 0.5575 - 3s/epoch - 16ms/step\n",
      "Epoch 83/100\n",
      "196/196 - 3s - loss: 0.1455 - accuracy: 0.9492 - val_loss: 2.4429 - val_accuracy: 0.5563 - 3s/epoch - 15ms/step\n",
      "Epoch 84/100\n",
      "196/196 - 3s - loss: 0.1430 - accuracy: 0.9499 - val_loss: 2.4886 - val_accuracy: 0.5501 - 3s/epoch - 16ms/step\n",
      "Epoch 85/100\n",
      "196/196 - 3s - loss: 0.1434 - accuracy: 0.9497 - val_loss: 2.4231 - val_accuracy: 0.5546 - 3s/epoch - 15ms/step\n",
      "Epoch 86/100\n",
      "196/196 - 3s - loss: 0.1429 - accuracy: 0.9520 - val_loss: 2.3878 - val_accuracy: 0.5564 - 3s/epoch - 16ms/step\n",
      "Epoch 87/100\n",
      "196/196 - 3s - loss: 0.1415 - accuracy: 0.9513 - val_loss: 2.4194 - val_accuracy: 0.5544 - 3s/epoch - 16ms/step\n",
      "Epoch 88/100\n",
      "196/196 - 3s - loss: 0.1410 - accuracy: 0.9507 - val_loss: 2.4734 - val_accuracy: 0.5615 - 3s/epoch - 15ms/step\n",
      "Epoch 89/100\n",
      "196/196 - 3s - loss: 0.1418 - accuracy: 0.9507 - val_loss: 2.4427 - val_accuracy: 0.5592 - 3s/epoch - 15ms/step\n",
      "Epoch 90/100\n",
      "196/196 - 3s - loss: 0.1317 - accuracy: 0.9552 - val_loss: 2.4139 - val_accuracy: 0.5579 - 3s/epoch - 16ms/step\n",
      "Epoch 91/100\n",
      "196/196 - 3s - loss: 0.1320 - accuracy: 0.9544 - val_loss: 2.4700 - val_accuracy: 0.5577 - 3s/epoch - 16ms/step\n",
      "Epoch 92/100\n",
      "196/196 - 3s - loss: 0.1306 - accuracy: 0.9539 - val_loss: 2.5308 - val_accuracy: 0.5591 - 3s/epoch - 15ms/step\n",
      "Epoch 93/100\n",
      "196/196 - 3s - loss: 0.1359 - accuracy: 0.9538 - val_loss: 2.4075 - val_accuracy: 0.5573 - 3s/epoch - 16ms/step\n",
      "Epoch 94/100\n",
      "196/196 - 3s - loss: 0.1298 - accuracy: 0.9567 - val_loss: 2.4435 - val_accuracy: 0.5650 - 3s/epoch - 16ms/step\n",
      "Epoch 95/100\n",
      "196/196 - 3s - loss: 0.1297 - accuracy: 0.9551 - val_loss: 2.4484 - val_accuracy: 0.5527 - 3s/epoch - 16ms/step\n",
      "Epoch 96/100\n",
      "196/196 - 3s - loss: 0.1274 - accuracy: 0.9560 - val_loss: 2.4937 - val_accuracy: 0.5579 - 3s/epoch - 16ms/step\n",
      "Epoch 97/100\n",
      "196/196 - 3s - loss: 0.1280 - accuracy: 0.9552 - val_loss: 2.4691 - val_accuracy: 0.5564 - 3s/epoch - 15ms/step\n",
      "Epoch 98/100\n",
      "196/196 - 3s - loss: 0.1178 - accuracy: 0.9593 - val_loss: 2.4925 - val_accuracy: 0.5575 - 3s/epoch - 16ms/step\n",
      "Epoch 99/100\n",
      "196/196 - 3s - loss: 0.1245 - accuracy: 0.9580 - val_loss: 2.5266 - val_accuracy: 0.5624 - 3s/epoch - 16ms/step\n",
      "Epoch 100/100\n",
      "196/196 - 3s - loss: 0.1214 - accuracy: 0.9581 - val_loss: 2.5058 - val_accuracy: 0.5543 - 3s/epoch - 16ms/step\n"
     ]
    }
   ],
   "source": [
    "history = model.fit(x_train, y_train, \n",
    "                    epochs=EPOCHS, \n",
    "                    batch_size=BATCH_SIZE, \n",
    "                    validation_data=(x_test, y_test), \n",
    "                    shuffle=True, \n",
    "                    verbose=2)"
   ]
  },
  {
   "cell_type": "code",
   "execution_count": 10,
   "metadata": {
    "colab": {
     "base_uri": "https://localhost:8080/",
     "height": 545
    },
    "id": "jThDeFlL4oXG",
    "outputId": "28fe68cc-af32-449e-bd71-610649a9e0c8"
   },
   "outputs": [
    {
     "data": {
      "image/png": "[encoded data removed]",
      "text/plain": [
       "<Figure size 432x288 with 1 Axes>"
      ]
     },
     "metadata": {
      "needs_background": "light"
     },
     "output_type": "display_data"
    },
    {
     "data": {
      "image/png": "[encoded data removed]",
      "text/plain": [
       "<Figure size 432x288 with 1 Axes>"
      ]
     },
     "metadata": {
      "needs_background": "light"
     },
     "output_type": "display_data"
    }
   ],
   "source": [
    "# 訓練模型並檢視驗證集的結果\n",
    "import matplotlib.pyplot as plt\n",
    "\n",
    "train_loss = model.history.history[\"loss\"]\n",
    "valid_loss = model.history.history[\"val_loss\"]\n",
    "\n",
    "train_acc = model.history.history[\"accuracy\"]\n",
    "valid_acc = model.history.history[\"val_accuracy\"]\n",
    "\n",
    "plt.figure()\n",
    "plt.plot(range(len(train_loss)), train_loss, label=\"train loss\")\n",
    "plt.plot(range(len(valid_loss)), valid_loss, label=\"valid loss\")\n",
    "plt.legend()\n",
    "plt.title(\"Loss\")\n",
    "plt.show()\n",
    "\n",
    "plt.figure()\n",
    "plt.plot(range(len(train_acc)), train_acc, label=\"train accuracy\")\n",
    "plt.plot(range(len(valid_acc)), valid_acc, label=\"valid accuracy\")\n",
    "plt.legend()\n",
    "plt.title(\"Accuracy\")\n",
    "plt.show()"
   ]
  }
 ],
 "metadata": {
  "accelerator": "GPU",
  "colab": {
   "name": "Day_078_CheckBeforeTrain_HW.ipynb",
   "provenance": [],
   "toc_visible": true
  },
  "kernelspec": {
   "display_name": "Python 3",
   "language": "python",
   "name": "python3"
  },
  "language_info": {
   "codemirror_mode": {
    "name": "ipython",
    "version": 3
   },
   "file_extension": ".py",
   "mimetype": "text/x-python",
   "name": "python",
   "nbconvert_exporter": "python",
   "pygments_lexer": "ipython3",
   "version": "3.8.5"
  }
 },
 "nbformat": 4,
 "nbformat_minor": 1
}
