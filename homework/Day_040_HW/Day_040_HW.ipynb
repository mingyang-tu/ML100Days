{
 "cells": [
  {
   "cell_type": "markdown",
   "metadata": {},
   "source": [
    "## [作業重點]\n",
    "使用 Sklearn 中的 Lasso, Ridge 模型，來訓練各種資料集，務必了解送進去模型訓練的**資料型態**為何，也請了解模型中各項參數的意義。\n",
    "\n",
    "機器學習的模型非常多種，但要訓練的資料多半有固定的格式，確保你了解訓練資料的格式為何，這樣在應用新模型時，就能夠最快的上手開始訓練！"
   ]
  },
  {
   "cell_type": "markdown",
   "metadata": {},
   "source": [
    "## 練習時間\n",
    "試著使用 sklearn datasets 的其他資料集 (boston, ...)，來訓練自己的線性迴歸模型，並加上適當的正則化來觀察訓練情形。"
   ]
  },
  {
   "cell_type": "code",
   "execution_count": 1,
   "metadata": {},
   "outputs": [],
   "source": [
    "import numpy as np\n",
    "from sklearn import datasets, linear_model\n",
    "from sklearn.model_selection import train_test_split\n",
    "from sklearn.metrics import mean_squared_error"
   ]
  },
  {
   "cell_type": "code",
   "execution_count": 2,
   "metadata": {},
   "outputs": [
    {
     "name": "stdout",
     "output_type": "stream",
     "text": [
      "MSE of LinearRegression: 0.067\n",
      "\n",
      "===== Coefficient =====\n",
      "[-0.10909988  0.01674052 -0.21875367  0.0466804   0.00032069  0.12449169\n",
      " -0.32619295 -0.19132741  0.03720161  0.07574295 -0.15597964 -0.28594697\n",
      " -0.00075181]\n"
     ]
    }
   ],
   "source": [
    "wine = datasets.load_wine()\n",
    "\n",
    "x_train, x_test, y_train, y_test = train_test_split(wine.data, wine.target, test_size=0.2, random_state=4)\n",
    "\n",
    "regr = linear_model.LinearRegression()\n",
    "\n",
    "regr.fit(x_train, y_train)\n",
    "\n",
    "y_pred = regr.predict(x_test)\n",
    "\n",
    "print(f\"MSE of LinearRegression: {mean_squared_error(y_test, y_pred):.3f}\")\n",
    "\n",
    "np.set_printoptions(suppress=True)\n",
    "print(\"\\n===== Coefficient =====\")\n",
    "print(regr.coef_)"
   ]
  },
  {
   "cell_type": "code",
   "execution_count": 3,
   "metadata": {},
   "outputs": [
    {
     "name": "stdout",
     "output_type": "stream",
     "text": [
      "MSE of lasso (alpha = 0.1): 0.102\n",
      "\n",
      "===== Coefficient =====\n",
      "[-0.          0.         -0.          0.03110038  0.00016657 -0.\n",
      " -0.27652435  0.         -0.          0.09334411 -0.         -0.01994891\n",
      " -0.0012375 ]\n"
     ]
    }
   ],
   "source": [
    "wine = datasets.load_wine()\n",
    "\n",
    "x_train, x_test, y_train, y_test = train_test_split(wine.data, wine.target, test_size=0.2, random_state=4)\n",
    "\n",
    "alpha = 0.1\n",
    "lasso = linear_model.Lasso(alpha=alpha)\n",
    "\n",
    "lasso.fit(x_train, y_train)\n",
    "\n",
    "y_pred = lasso.predict(x_test)\n",
    "\n",
    "print(f\"MSE of lasso (alpha = {alpha}): {mean_squared_error(y_test, y_pred):.3f}\")\n",
    "\n",
    "np.set_printoptions(suppress=True)\n",
    "print(\"\\n===== Coefficient =====\")\n",
    "print(lasso.coef_)"
   ]
  },
  {
   "cell_type": "code",
   "execution_count": 4,
   "metadata": {},
   "outputs": [
    {
     "name": "stdout",
     "output_type": "stream",
     "text": [
      "MSE of ridge (alpha = 0.1): 0.067\n",
      "\n",
      "===== Coefficient =====\n",
      "[-0.10868129  0.0167836  -0.21758328  0.04652221  0.00034174  0.12146469\n",
      " -0.32432992 -0.17652621  0.03688698  0.07593367 -0.15402058 -0.28450558\n",
      " -0.00075365]\n"
     ]
    }
   ],
   "source": [
    "wine = datasets.load_wine()\n",
    "\n",
    "x_train, x_test, y_train, y_test = train_test_split(wine.data, wine.target, test_size=0.2, random_state=4)\n",
    "\n",
    "alpha = 0.1\n",
    "ridge = linear_model.Ridge(alpha=alpha)\n",
    "\n",
    "ridge.fit(x_train, y_train)\n",
    "\n",
    "y_pred = ridge.predict(x_test)\n",
    "\n",
    "print(f\"MSE of ridge (alpha = {alpha}): {mean_squared_error(y_test, y_pred):.3f}\")\n",
    "\n",
    "np.set_printoptions(suppress=True)\n",
    "print(\"\\n===== Coefficient =====\")\n",
    "print(ridge.coef_)"
   ]
  },
  {
   "cell_type": "code",
   "execution_count": 5,
   "metadata": {},
   "outputs": [
    {
     "name": "stdout",
     "output_type": "stream",
     "text": [
      "MSE of LinearRegression: 25.420\n",
      "\n",
      "===== Coefficient =====\n",
      "[ -0.11596645   0.04712492   0.0082598    3.23404531 -16.68658902\n",
      "   3.88410651  -0.01089744  -1.5412954    0.29320831  -0.01340594\n",
      "  -0.90629643   0.00880823  -0.45772385]\n"
     ]
    }
   ],
   "source": [
    "boston = datasets.load_boston()\n",
    "\n",
    "x_train, x_test, y_train, y_test = train_test_split(boston.data, boston.target, test_size=0.2, random_state=4)\n",
    "\n",
    "regr = linear_model.LinearRegression()\n",
    "\n",
    "regr.fit(x_train, y_train)\n",
    "\n",
    "y_pred = regr.predict(x_test)\n",
    "\n",
    "print(f\"MSE of LinearRegression: {mean_squared_error(y_test, y_pred):.3f}\")\n",
    "\n",
    "np.set_printoptions(suppress=True)\n",
    "print(\"\\n===== Coefficient =====\")\n",
    "print(regr.coef_)"
   ]
  },
  {
   "cell_type": "code",
   "execution_count": 6,
   "metadata": {},
   "outputs": [
    {
     "name": "stdout",
     "output_type": "stream",
     "text": [
      "MSE of lasso (alpha = 0.1): 26.453\n",
      "\n",
      "===== Coefficient =====\n",
      "[-0.10618872  0.04886351 -0.04536655  1.14953069 -0.          3.82353877\n",
      " -0.02089779 -1.23590613  0.26008876 -0.01517094 -0.74673362  0.00963864\n",
      " -0.49877104]\n"
     ]
    }
   ],
   "source": [
    "boston = datasets.load_boston()\n",
    "\n",
    "x_train, x_test, y_train, y_test = train_test_split(boston.data, boston.target, test_size=0.2, random_state=4)\n",
    "\n",
    "alpha = 0.1\n",
    "lasso = linear_model.Lasso(alpha=alpha)\n",
    "\n",
    "lasso.fit(x_train, y_train)\n",
    "\n",
    "y_pred = lasso.predict(x_test)\n",
    "\n",
    "print(f\"MSE of lasso (alpha = {alpha}): {mean_squared_error(y_test, y_pred):.3f}\")\n",
    "\n",
    "np.set_printoptions(suppress=True)\n",
    "print(\"\\n===== Coefficient =====\")\n",
    "print(lasso.coef_)"
   ]
  },
  {
   "cell_type": "code",
   "execution_count": 7,
   "metadata": {},
   "outputs": [
    {
     "name": "stdout",
     "output_type": "stream",
     "text": [
      "MSE of ridge (alpha = 0.1): 25.455\n",
      "\n",
      "===== Coefficient =====\n",
      "[ -0.1153813    0.04725282   0.00287372   3.19642306 -15.47138238\n",
      "   3.89388927  -0.01199437  -1.52347878   0.29013302  -0.0134817\n",
      "  -0.89367991   0.00886599  -0.45898311]\n"
     ]
    }
   ],
   "source": [
    "boston = datasets.load_boston()\n",
    "\n",
    "x_train, x_test, y_train, y_test = train_test_split(boston.data, boston.target, test_size=0.2, random_state=4)\n",
    "\n",
    "alpha = 0.1\n",
    "ridge = linear_model.Ridge(alpha=alpha)\n",
    "\n",
    "ridge.fit(x_train, y_train)\n",
    "\n",
    "y_pred = ridge.predict(x_test)\n",
    "\n",
    "print(f\"MSE of ridge (alpha = {alpha}): {mean_squared_error(y_test, y_pred):.3f}\")\n",
    "\n",
    "np.set_printoptions(suppress=True)\n",
    "print(\"\\n===== Coefficient =====\")\n",
    "print(ridge.coef_)"
   ]
  },
  {
   "cell_type": "code",
   "execution_count": null,
   "metadata": {},
   "outputs": [],
   "source": []
  }
 ],
 "metadata": {
  "kernelspec": {
   "display_name": "Python 3",
   "language": "python",
   "name": "python3"
  },
  "language_info": {
   "codemirror_mode": {
    "name": "ipython",
    "version": 3
   },
   "file_extension": ".py",
   "mimetype": "text/x-python",
   "name": "python",
   "nbconvert_exporter": "python",
   "pygments_lexer": "ipython3",
   "version": "3.8.5"
  }
 },
 "nbformat": 4,
 "nbformat_minor": 2
}
