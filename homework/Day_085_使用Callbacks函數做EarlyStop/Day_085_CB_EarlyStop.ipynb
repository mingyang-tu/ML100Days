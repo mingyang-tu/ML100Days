{
 "cells": [
  {
   "cell_type": "markdown",
   "metadata": {},
   "source": [
    "## 範例重點\n",
    "* 學習如何在 keras 中加入 EarlyStop\n",
    "* 知道如何設定監控目標\n",
    "* 比較有無 earlystopping 對 validation 的影響"
   ]
  },
  {
   "cell_type": "code",
   "execution_count": 1,
   "metadata": {},
   "outputs": [],
   "source": [
    "import os\n",
    "from tensorflow import keras\n",
    "\n",
    "# 本範例不需使用 GPU, 將 GPU 設定為 \"無\"\n",
    "os.environ[\"CUDA_VISIBLE_DEVICES\"] = \"\""
   ]
  },
  {
   "cell_type": "code",
   "execution_count": 2,
   "metadata": {},
   "outputs": [],
   "source": [
    "train, test = keras.datasets.cifar10.load_data()"
   ]
  },
  {
   "cell_type": "code",
   "execution_count": 3,
   "metadata": {},
   "outputs": [],
   "source": [
    "# 資料前處理\n",
    "def preproc_x(x, flatten=True):\n",
    "    x = x / 255.\n",
    "    if flatten:\n",
    "        x = x.reshape((len(x), -1))\n",
    "    return x\n",
    "\n",
    "def preproc_y(y, num_classes=10):\n",
    "    if y.shape[-1] == 1:\n",
    "        y = keras.utils.to_categorical(y, num_classes)\n",
    "    return y    "
   ]
  },
  {
   "cell_type": "code",
   "execution_count": 4,
   "metadata": {},
   "outputs": [],
   "source": [
    "x_train, y_train = train\n",
    "x_test, y_test = test\n",
    "\n",
    "# 資料前處理 - X 標準化\n",
    "x_train = preproc_x(x_train)\n",
    "x_test = preproc_x(x_test)\n",
    "\n",
    "# 資料前處理 - Y 轉成 onehot\n",
    "y_train = preproc_y(y_train)\n",
    "y_test = preproc_y(y_test)"
   ]
  },
  {
   "cell_type": "code",
   "execution_count": 5,
   "metadata": {},
   "outputs": [
    {
     "name": "stdout",
     "output_type": "stream",
     "text": [
      "Model: \"model\"\n",
      "_________________________________________________________________\n",
      " Layer (type)                Output Shape              Param #   \n",
      "=================================================================\n",
      " input_1 (InputLayer)        [(None, 3072)]            0         \n",
      "                                                                 \n",
      " hidden_layer1 (Dense)       (None, 512)               1573376   \n",
      "                                                                 \n",
      " batch_normalization (BatchN  (None, 512)              2048      \n",
      " ormalization)                                                   \n",
      "                                                                 \n",
      " hidden_layer2 (Dense)       (None, 256)               131328    \n",
      "                                                                 \n",
      " batch_normalization_1 (Batc  (None, 256)              1024      \n",
      " hNormalization)                                                 \n",
      "                                                                 \n",
      " hidden_layer3 (Dense)       (None, 128)               32896     \n",
      "                                                                 \n",
      " batch_normalization_2 (Batc  (None, 128)              512       \n",
      " hNormalization)                                                 \n",
      "                                                                 \n",
      " output (Dense)              (None, 10)                1290      \n",
      "                                                                 \n",
      "=================================================================\n",
      "Total params: 1,742,474\n",
      "Trainable params: 1,740,682\n",
      "Non-trainable params: 1,792\n",
      "_________________________________________________________________\n"
     ]
    }
   ],
   "source": [
    "from keras.layers import BatchNormalization\n",
    "\n",
    "\"\"\"\n",
    "建立神經網路，並加入 BN layer\n",
    "\"\"\"\n",
    "def build_mlp(input_shape, output_units=10, num_neurons=[512, 256, 128]):\n",
    "    input_layer = keras.layers.Input(input_shape)\n",
    "    \n",
    "    for i, n_units in enumerate(num_neurons):\n",
    "        if i == 0:\n",
    "            x = keras.layers.Dense(units=n_units, \n",
    "                                   activation=\"relu\", \n",
    "                                   name=\"hidden_layer\"+str(i+1))(input_layer)\n",
    "            x = BatchNormalization()(x)\n",
    "        else:\n",
    "            x = keras.layers.Dense(units=n_units, \n",
    "                                   activation=\"relu\", \n",
    "                                   name=\"hidden_layer\"+str(i+1))(x)\n",
    "            x = BatchNormalization()(x)\n",
    "    \n",
    "    out = keras.layers.Dense(units=output_units, activation=\"softmax\", name=\"output\")(x)\n",
    "    \n",
    "    model = keras.models.Model(inputs=[input_layer], outputs=[out])\n",
    "    return model\n",
    "\n",
    "model = build_mlp(input_shape=x_train.shape[1:])\n",
    "model.summary()"
   ]
  },
  {
   "cell_type": "code",
   "execution_count": 6,
   "metadata": {},
   "outputs": [],
   "source": [
    "# 超參數設定\n",
    "LEARNING_RATE = 1e-3\n",
    "EPOCHS = 50\n",
    "BATCH_SIZE = 1024\n",
    "MOMENTUM = 0.95"
   ]
  },
  {
   "cell_type": "code",
   "execution_count": 7,
   "metadata": {},
   "outputs": [],
   "source": [
    "\"\"\"\n",
    "# 載入 Callbacks, 並將 monitor 設定為監控 validation loss\n",
    "\n",
    "參數說明：\n",
    "patience: 經過多少epochs後仍然沒有改善模型效能時停止訓練。\n",
    "verbose: 運作狀況\n",
    "\n",
    "使用說明：先定義出 Early stopping 的規則，再放入模型訓練中。\n",
    "\n",
    "\"\"\"\n",
    "from keras.callbacks import EarlyStopping\n",
    "\n",
    "earlystop = EarlyStopping(monitor=\"val_loss\", \n",
    "                          patience=5, \n",
    "                          verbose=2)"
   ]
  },
  {
   "cell_type": "code",
   "execution_count": 8,
   "metadata": {
    "scrolled": true
   },
   "outputs": [
    {
     "name": "stdout",
     "output_type": "stream",
     "text": [
      "Epoch 1/50\n",
      "49/49 - 4s - loss: 2.2211 - accuracy: 0.2683 - val_loss: 2.1359 - val_accuracy: 0.1754 - 4s/epoch - 82ms/step\n",
      "Epoch 2/50\n",
      "49/49 - 3s - loss: 1.7517 - accuracy: 0.3882 - val_loss: 1.9559 - val_accuracy: 0.3057 - 3s/epoch - 66ms/step\n",
      "Epoch 3/50\n",
      "49/49 - 3s - loss: 1.6211 - accuracy: 0.4320 - val_loss: 1.8247 - val_accuracy: 0.3626 - 3s/epoch - 68ms/step\n",
      "Epoch 4/50\n",
      "49/49 - 3s - loss: 1.5466 - accuracy: 0.4574 - val_loss: 1.7194 - val_accuracy: 0.4052 - 3s/epoch - 71ms/step\n",
      "Epoch 5/50\n",
      "49/49 - 3s - loss: 1.4910 - accuracy: 0.4793 - val_loss: 1.6413 - val_accuracy: 0.4231 - 3s/epoch - 71ms/step\n",
      "Epoch 6/50\n",
      "49/49 - 4s - loss: 1.4448 - accuracy: 0.4942 - val_loss: 1.5855 - val_accuracy: 0.4390 - 4s/epoch - 74ms/step\n",
      "Epoch 7/50\n",
      "49/49 - 3s - loss: 1.4032 - accuracy: 0.5089 - val_loss: 1.5506 - val_accuracy: 0.4497 - 3s/epoch - 71ms/step\n",
      "Epoch 8/50\n",
      "49/49 - 4s - loss: 1.3670 - accuracy: 0.5222 - val_loss: 1.5214 - val_accuracy: 0.4627 - 4s/epoch - 72ms/step\n",
      "Epoch 9/50\n",
      "49/49 - 4s - loss: 1.3353 - accuracy: 0.5333 - val_loss: 1.5105 - val_accuracy: 0.4622 - 4s/epoch - 72ms/step\n",
      "Epoch 10/50\n",
      "49/49 - 3s - loss: 1.3046 - accuracy: 0.5464 - val_loss: 1.4922 - val_accuracy: 0.4690 - 3s/epoch - 71ms/step\n",
      "Epoch 11/50\n",
      "49/49 - 4s - loss: 1.2749 - accuracy: 0.5558 - val_loss: 1.4788 - val_accuracy: 0.4748 - 4s/epoch - 72ms/step\n",
      "Epoch 12/50\n",
      "49/49 - 3s - loss: 1.2479 - accuracy: 0.5670 - val_loss: 1.4765 - val_accuracy: 0.4778 - 3s/epoch - 71ms/step\n",
      "Epoch 13/50\n",
      "49/49 - 3s - loss: 1.2227 - accuracy: 0.5752 - val_loss: 1.4669 - val_accuracy: 0.4794 - 3s/epoch - 71ms/step\n",
      "Epoch 14/50\n",
      "49/49 - 4s - loss: 1.1964 - accuracy: 0.5863 - val_loss: 1.4641 - val_accuracy: 0.4857 - 4s/epoch - 73ms/step\n",
      "Epoch 15/50\n",
      "49/49 - 3s - loss: 1.1735 - accuracy: 0.5940 - val_loss: 1.4529 - val_accuracy: 0.4871 - 3s/epoch - 71ms/step\n",
      "Epoch 16/50\n",
      "49/49 - 3s - loss: 1.1481 - accuracy: 0.6020 - val_loss: 1.4542 - val_accuracy: 0.4887 - 3s/epoch - 71ms/step\n",
      "Epoch 17/50\n",
      "49/49 - 3s - loss: 1.1250 - accuracy: 0.6110 - val_loss: 1.4495 - val_accuracy: 0.4909 - 3s/epoch - 71ms/step\n",
      "Epoch 18/50\n",
      "49/49 - 3s - loss: 1.1031 - accuracy: 0.6205 - val_loss: 1.4385 - val_accuracy: 0.4946 - 3s/epoch - 71ms/step\n",
      "Epoch 19/50\n",
      "49/49 - 3s - loss: 1.0812 - accuracy: 0.6301 - val_loss: 1.4463 - val_accuracy: 0.4931 - 3s/epoch - 71ms/step\n",
      "Epoch 20/50\n",
      "49/49 - 4s - loss: 1.0574 - accuracy: 0.6380 - val_loss: 1.4383 - val_accuracy: 0.4982 - 4s/epoch - 73ms/step\n",
      "Epoch 21/50\n",
      "49/49 - 3s - loss: 1.0388 - accuracy: 0.6435 - val_loss: 1.4453 - val_accuracy: 0.4963 - 3s/epoch - 71ms/step\n",
      "Epoch 22/50\n",
      "49/49 - 3s - loss: 1.0172 - accuracy: 0.6516 - val_loss: 1.4513 - val_accuracy: 0.4918 - 3s/epoch - 71ms/step\n",
      "Epoch 23/50\n",
      "49/49 - 4s - loss: 0.9954 - accuracy: 0.6616 - val_loss: 1.4408 - val_accuracy: 0.4987 - 4s/epoch - 73ms/step\n",
      "Epoch 24/50\n",
      "49/49 - 4s - loss: 0.9772 - accuracy: 0.6688 - val_loss: 1.4514 - val_accuracy: 0.4947 - 4s/epoch - 72ms/step\n",
      "Epoch 25/50\n",
      "49/49 - 4s - loss: 0.9547 - accuracy: 0.6770 - val_loss: 1.4418 - val_accuracy: 0.4972 - 4s/epoch - 73ms/step\n",
      "Epoch 25: early stopping\n"
     ]
    }
   ],
   "source": [
    "optimizer = keras.optimizers.SGD(learning_rate=LEARNING_RATE, nesterov=True, momentum=MOMENTUM)\n",
    "model.compile(loss=\"categorical_crossentropy\", metrics=[\"accuracy\"], optimizer=optimizer)\n",
    "\n",
    "model.fit(x_train, y_train, \n",
    "          epochs=EPOCHS, \n",
    "          batch_size=BATCH_SIZE, \n",
    "          validation_data=(x_test, y_test), \n",
    "          shuffle=True,\n",
    "          verbose=2, \n",
    "          callbacks=[earlystop]\n",
    "         )\n",
    "\n",
    "# Collect results\n",
    "train_loss = model.history.history[\"loss\"]\n",
    "valid_loss = model.history.history[\"val_loss\"]\n",
    "train_acc = model.history.history[\"accuracy\"]\n",
    "valid_acc = model.history.history[\"val_accuracy\"]"
   ]
  },
  {
   "cell_type": "code",
   "execution_count": 9,
   "metadata": {},
   "outputs": [
    {
     "data": {
      "image/png": "[encoded data removed]",
      "text/plain": [
       "<Figure size 432x288 with 1 Axes>"
      ]
     },
     "metadata": {
      "needs_background": "light"
     },
     "output_type": "display_data"
    },
    {
     "data": {
      "image/png": "[encoded data removed]",
      "text/plain": [
       "<Figure size 432x288 with 1 Axes>"
      ]
     },
     "metadata": {
      "needs_background": "light"
     },
     "output_type": "display_data"
    }
   ],
   "source": [
    "import matplotlib.pyplot as plt\n",
    "%matplotlib inline\n",
    "\n",
    "plt.figure()\n",
    "plt.plot(range(len(train_loss)), train_loss, label=\"train loss\")\n",
    "plt.plot(range(len(valid_loss)), valid_loss, label=\"valid loss\")\n",
    "plt.legend()\n",
    "plt.title(\"Loss\")\n",
    "plt.show()\n",
    "\n",
    "plt.figure()\n",
    "plt.plot(range(len(train_acc)), train_acc, label=\"train accuracy\")\n",
    "plt.plot(range(len(valid_acc)), valid_acc, label=\"valid accuracy\")\n",
    "plt.legend()\n",
    "plt.title(\"Accuracy\")\n",
    "plt.show()"
   ]
  },
  {
   "cell_type": "markdown",
   "metadata": {},
   "source": [
    "## Work\n",
    "1. 試改變 monitor \"Validation Accuracy\" 並比較結果\n",
    "2. 調整 earlystop 的等待次數至 10, 25 並比較結果"
   ]
  }
 ],
 "metadata": {
  "kernelspec": {
   "display_name": "Python 3",
   "language": "python",
   "name": "python3"
  },
  "language_info": {
   "codemirror_mode": {
    "name": "ipython",
    "version": 3
   },
   "file_extension": ".py",
   "mimetype": "text/x-python",
   "name": "python",
   "nbconvert_exporter": "python",
   "pygments_lexer": "ipython3",
   "version": "3.8.5"
  }
 },
 "nbformat": 4,
 "nbformat_minor": 2
}
