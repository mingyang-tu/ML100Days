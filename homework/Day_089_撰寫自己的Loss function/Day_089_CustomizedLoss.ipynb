{
 "cells": [
  {
   "cell_type": "markdown",
   "metadata": {},
   "source": [
    "## 範例重點\n",
    "* 學習如何在 keras 中撰寫自定義的 loss function\n",
    "* 知道如何在訓練時使用自定義的 loss function"
   ]
  },
  {
   "cell_type": "code",
   "execution_count": 1,
   "metadata": {},
   "outputs": [],
   "source": [
    "import os\n",
    "from tensorflow import keras\n",
    "\n",
    "# 本範例不需使用 GPU, 將 GPU 設定為 \"無\"\n",
    "os.environ[\"CUDA_VISIBLE_DEVICES\"] = \"\""
   ]
  },
  {
   "cell_type": "code",
   "execution_count": 2,
   "metadata": {},
   "outputs": [],
   "source": [
    "train, test = keras.datasets.cifar10.load_data()"
   ]
  },
  {
   "cell_type": "code",
   "execution_count": 3,
   "metadata": {},
   "outputs": [],
   "source": [
    "# 資料前處理\n",
    "def preproc_x(x, flatten=True):\n",
    "    x = x / 255.\n",
    "    if flatten:\n",
    "        x = x.reshape((len(x), -1))\n",
    "    return x\n",
    "\n",
    "def preproc_y(y, num_classes=10):\n",
    "    if y.shape[-1] == 1:\n",
    "        y = keras.utils.to_categorical(y, num_classes)\n",
    "    return y    "
   ]
  },
  {
   "cell_type": "code",
   "execution_count": 4,
   "metadata": {},
   "outputs": [],
   "source": [
    "x_train, y_train = train\n",
    "x_test, y_test = test\n",
    "\n",
    "# 資料前處理 - X 標準化\n",
    "x_train = preproc_x(x_train)\n",
    "x_test = preproc_x(x_test)\n",
    "\n",
    "# 資料前處理 - Y 轉成 onehot\n",
    "y_train = preproc_y(y_train)\n",
    "y_test = preproc_y(y_test)"
   ]
  },
  {
   "cell_type": "code",
   "execution_count": 5,
   "metadata": {},
   "outputs": [
    {
     "name": "stdout",
     "output_type": "stream",
     "text": [
      "Model: \"model\"\n",
      "_________________________________________________________________\n",
      " Layer (type)                Output Shape              Param #   \n",
      "=================================================================\n",
      " input_1 (InputLayer)        [(None, 3072)]            0         \n",
      "                                                                 \n",
      " hidden_layer1 (Dense)       (None, 512)               1573376   \n",
      "                                                                 \n",
      " batch_normalization (BatchN  (None, 512)              2048      \n",
      " ormalization)                                                   \n",
      "                                                                 \n",
      " hidden_layer2 (Dense)       (None, 256)               131328    \n",
      "                                                                 \n",
      " batch_normalization_1 (Batc  (None, 256)              1024      \n",
      " hNormalization)                                                 \n",
      "                                                                 \n",
      " hidden_layer3 (Dense)       (None, 128)               32896     \n",
      "                                                                 \n",
      " batch_normalization_2 (Batc  (None, 128)              512       \n",
      " hNormalization)                                                 \n",
      "                                                                 \n",
      " output (Dense)              (None, 10)                1290      \n",
      "                                                                 \n",
      "=================================================================\n",
      "Total params: 1,742,474\n",
      "Trainable params: 1,740,682\n",
      "Non-trainable params: 1,792\n",
      "_________________________________________________________________\n"
     ]
    }
   ],
   "source": [
    "from keras.layers import BatchNormalization\n",
    "\n",
    "\"\"\"\n",
    "建立神經網路，並加入 BN layer\n",
    "\"\"\"\n",
    "def build_mlp(input_shape, output_units=10, num_neurons=[512, 256, 128]):\n",
    "    input_layer = keras.layers.Input(input_shape)\n",
    "    \n",
    "    for i, n_units in enumerate(num_neurons):\n",
    "        if i == 0:\n",
    "            x = keras.layers.Dense(units=n_units, \n",
    "                                   activation=\"relu\", \n",
    "                                   name=\"hidden_layer\"+str(i+1))(input_layer)\n",
    "            x = BatchNormalization()(x)\n",
    "        else:\n",
    "            x = keras.layers.Dense(units=n_units, \n",
    "                                   activation=\"relu\", \n",
    "                                   name=\"hidden_layer\"+str(i+1))(x)\n",
    "            x = BatchNormalization()(x)\n",
    "    \n",
    "    out = keras.layers.Dense(units=output_units, activation=\"softmax\", name=\"output\")(x)\n",
    "    \n",
    "    model = keras.models.Model(inputs=[input_layer], outputs=[out])\n",
    "    return model\n",
    "\n",
    "model = build_mlp(input_shape=x_train.shape[1:])\n",
    "model.summary()"
   ]
  },
  {
   "cell_type": "code",
   "execution_count": 6,
   "metadata": {},
   "outputs": [],
   "source": [
    "# 超參數設定\n",
    "LEARNING_RATE = 1e-3\n",
    "EPOCHS = 50\n",
    "BATCH_SIZE = 1024\n",
    "MOMENTUM = 0.95"
   ]
  },
  {
   "cell_type": "code",
   "execution_count": 7,
   "metadata": {},
   "outputs": [],
   "source": [
    "import tensorflow as tf\n",
    "import keras.backend as K\n",
    "\n",
    "\"\"\"\n",
    "# 撰寫自定義的 loss function: focal loss (https://blog.csdn.net/u014380165/article/details/77019084)\n",
    "\n",
    "撰寫重點：\n",
    "1. Loss function 是探討真實值與預測值的差異，因此自定義 Loss function 時務必要同時輸入真實值與預測值\n",
    "2. 在 tensorflow 中的運算都是以 tensor 的資料型態進行，因此在輸出 Loss 值時務必要轉成 tensor 資料型態\n",
    "\n",
    "\"\"\"\n",
    "def focal_loss(gamma=2., alpha=4.):\n",
    "    gamma = float(gamma)\n",
    "    alpha = float(alpha)\n",
    "    def focal_loss_fixed(y_true, y_pred):\n",
    "        \"\"\"Focal loss for multi-classification\n",
    "        FL(p_t)=-alpha(1-p_t)^{gamma}ln(p_t)\n",
    "        \"\"\"\n",
    "        epsilon = 1e-8\n",
    "        y_true = tf.convert_to_tensor(y_true, tf.float32)\n",
    "        y_pred = tf.convert_to_tensor(y_pred, tf.float32)\n",
    "\n",
    "        model_out = tf.add(y_pred, epsilon)\n",
    "        ce = tf.multiply(y_true, -tf.math.log(model_out))\n",
    "        weight = tf.multiply(y_true, tf.pow(tf.subtract(1., model_out), gamma))\n",
    "        fl = tf.multiply(alpha, tf.multiply(weight, ce))\n",
    "        reduced_fl = tf.reduce_max(fl, axis=1)\n",
    "        return tf.reduce_mean(reduced_fl)\n",
    "    return focal_loss_fixed"
   ]
  },
  {
   "cell_type": "code",
   "execution_count": 8,
   "metadata": {
    "scrolled": true
   },
   "outputs": [
    {
     "name": "stdout",
     "output_type": "stream",
     "text": [
      "Epoch 1/50\n",
      "49/49 - 5s - loss: 6.0060 - accuracy: 0.3274 - val_loss: 6.5181 - val_accuracy: 0.2197 - 5s/epoch - 99ms/step\n",
      "Epoch 2/50\n",
      "49/49 - 4s - loss: 4.4162 - accuracy: 0.4376 - val_loss: 5.4781 - val_accuracy: 0.3300 - 4s/epoch - 82ms/step\n",
      "Epoch 3/50\n",
      "49/49 - 5s - loss: 3.9885 - accuracy: 0.4802 - val_loss: 4.7376 - val_accuracy: 0.4029 - 5s/epoch - 96ms/step\n",
      "Epoch 4/50\n",
      "49/49 - 4s - loss: 3.7019 - accuracy: 0.5083 - val_loss: 4.3440 - val_accuracy: 0.4424 - 4s/epoch - 86ms/step\n",
      "Epoch 5/50\n",
      "49/49 - 4s - loss: 3.4963 - accuracy: 0.5269 - val_loss: 4.1262 - val_accuracy: 0.4623 - 4s/epoch - 84ms/step\n",
      "Epoch 6/50\n",
      "49/49 - 4s - loss: 3.3134 - accuracy: 0.5468 - val_loss: 4.0572 - val_accuracy: 0.4685 - 4s/epoch - 82ms/step\n",
      "Epoch 7/50\n",
      "49/49 - 4s - loss: 3.1352 - accuracy: 0.5668 - val_loss: 3.9802 - val_accuracy: 0.4722 - 4s/epoch - 82ms/step\n",
      "Epoch 8/50\n",
      "49/49 - 4s - loss: 2.9825 - accuracy: 0.5826 - val_loss: 3.9827 - val_accuracy: 0.4808 - 4s/epoch - 76ms/step\n",
      "Epoch 9/50\n",
      "49/49 - 5s - loss: 2.8457 - accuracy: 0.5953 - val_loss: 3.9590 - val_accuracy: 0.4782 - 5s/epoch - 100ms/step\n",
      "Epoch 10/50\n",
      "49/49 - 4s - loss: 2.7047 - accuracy: 0.6126 - val_loss: 3.9351 - val_accuracy: 0.4703 - 4s/epoch - 86ms/step\n",
      "Epoch 11/50\n",
      "49/49 - 4s - loss: 2.5717 - accuracy: 0.6274 - val_loss: 4.0203 - val_accuracy: 0.4715 - 4s/epoch - 79ms/step\n",
      "Epoch 12/50\n",
      "49/49 - 4s - loss: 2.4343 - accuracy: 0.6444 - val_loss: 3.8759 - val_accuracy: 0.4868 - 4s/epoch - 75ms/step\n",
      "Epoch 13/50\n",
      "49/49 - 4s - loss: 2.3193 - accuracy: 0.6548 - val_loss: 4.0560 - val_accuracy: 0.4795 - 4s/epoch - 85ms/step\n",
      "Epoch 14/50\n",
      "49/49 - 4s - loss: 2.1910 - accuracy: 0.6701 - val_loss: 3.9936 - val_accuracy: 0.4866 - 4s/epoch - 78ms/step\n",
      "Epoch 15/50\n",
      "49/49 - 4s - loss: 2.0780 - accuracy: 0.6842 - val_loss: 4.0525 - val_accuracy: 0.4920 - 4s/epoch - 89ms/step\n",
      "Epoch 16/50\n",
      "49/49 - 4s - loss: 1.9694 - accuracy: 0.6960 - val_loss: 4.0782 - val_accuracy: 0.4807 - 4s/epoch - 76ms/step\n",
      "Epoch 17/50\n",
      "49/49 - 4s - loss: 1.8602 - accuracy: 0.7106 - val_loss: 4.1617 - val_accuracy: 0.4886 - 4s/epoch - 80ms/step\n",
      "Epoch 18/50\n",
      "49/49 - 5s - loss: 1.7397 - accuracy: 0.7243 - val_loss: 4.2299 - val_accuracy: 0.4852 - 5s/epoch - 95ms/step\n",
      "Epoch 19/50\n",
      "49/49 - 5s - loss: 1.6409 - accuracy: 0.7375 - val_loss: 4.1928 - val_accuracy: 0.4862 - 5s/epoch - 93ms/step\n",
      "Epoch 20/50\n",
      "49/49 - 4s - loss: 1.5391 - accuracy: 0.7511 - val_loss: 4.3585 - val_accuracy: 0.4744 - 4s/epoch - 75ms/step\n",
      "Epoch 21/50\n",
      "49/49 - 4s - loss: 1.4443 - accuracy: 0.7619 - val_loss: 4.4776 - val_accuracy: 0.4717 - 4s/epoch - 75ms/step\n",
      "Epoch 22/50\n",
      "49/49 - 4s - loss: 1.3461 - accuracy: 0.7762 - val_loss: 4.3243 - val_accuracy: 0.4839 - 4s/epoch - 72ms/step\n",
      "Epoch 23/50\n",
      "49/49 - 4s - loss: 1.2419 - accuracy: 0.7909 - val_loss: 4.5255 - val_accuracy: 0.4779 - 4s/epoch - 74ms/step\n",
      "Epoch 24/50\n",
      "49/49 - 3s - loss: 1.1599 - accuracy: 0.8030 - val_loss: 4.6007 - val_accuracy: 0.4848 - 3s/epoch - 71ms/step\n",
      "Epoch 25/50\n",
      "49/49 - 4s - loss: 1.0692 - accuracy: 0.8153 - val_loss: 4.7226 - val_accuracy: 0.4678 - 4s/epoch - 73ms/step\n",
      "Epoch 26/50\n",
      "49/49 - 4s - loss: 0.9855 - accuracy: 0.8285 - val_loss: 4.8826 - val_accuracy: 0.4672 - 4s/epoch - 76ms/step\n",
      "Epoch 27/50\n",
      "49/49 - 4s - loss: 0.9055 - accuracy: 0.8400 - val_loss: 4.9891 - val_accuracy: 0.4779 - 4s/epoch - 77ms/step\n",
      "Epoch 28/50\n",
      "49/49 - 4s - loss: 0.8483 - accuracy: 0.8500 - val_loss: 4.7370 - val_accuracy: 0.4862 - 4s/epoch - 72ms/step\n",
      "Epoch 29/50\n",
      "49/49 - 5s - loss: 0.7713 - accuracy: 0.8633 - val_loss: 5.0054 - val_accuracy: 0.4688 - 5s/epoch - 98ms/step\n",
      "Epoch 30/50\n",
      "49/49 - 4s - loss: 0.7043 - accuracy: 0.8726 - val_loss: 5.1482 - val_accuracy: 0.4725 - 4s/epoch - 90ms/step\n",
      "Epoch 31/50\n",
      "49/49 - 4s - loss: 0.6425 - accuracy: 0.8851 - val_loss: 5.0993 - val_accuracy: 0.4726 - 4s/epoch - 81ms/step\n",
      "Epoch 32/50\n",
      "49/49 - 4s - loss: 0.5807 - accuracy: 0.8967 - val_loss: 5.2595 - val_accuracy: 0.4737 - 4s/epoch - 75ms/step\n",
      "Epoch 33/50\n",
      "49/49 - 4s - loss: 0.5302 - accuracy: 0.9051 - val_loss: 5.3221 - val_accuracy: 0.4774 - 4s/epoch - 75ms/step\n",
      "Epoch 34/50\n",
      "49/49 - 3s - loss: 0.4833 - accuracy: 0.9147 - val_loss: 5.6260 - val_accuracy: 0.4744 - 3s/epoch - 71ms/step\n",
      "Epoch 35/50\n",
      "49/49 - 3s - loss: 0.4374 - accuracy: 0.9226 - val_loss: 5.5230 - val_accuracy: 0.4694 - 3s/epoch - 71ms/step\n",
      "Epoch 36/50\n",
      "49/49 - 4s - loss: 0.3915 - accuracy: 0.9316 - val_loss: 5.6340 - val_accuracy: 0.4713 - 4s/epoch - 76ms/step\n",
      "Epoch 37/50\n",
      "49/49 - 3s - loss: 0.3558 - accuracy: 0.9393 - val_loss: 5.6450 - val_accuracy: 0.4743 - 3s/epoch - 70ms/step\n",
      "Epoch 38/50\n",
      "49/49 - 4s - loss: 0.3285 - accuracy: 0.9447 - val_loss: 5.6978 - val_accuracy: 0.4752 - 4s/epoch - 84ms/step\n",
      "Epoch 39/50\n",
      "49/49 - 4s - loss: 0.2920 - accuracy: 0.9522 - val_loss: 5.8231 - val_accuracy: 0.4761 - 4s/epoch - 79ms/step\n",
      "Epoch 40/50\n",
      "49/49 - 4s - loss: 0.2621 - accuracy: 0.9593 - val_loss: 5.8012 - val_accuracy: 0.4842 - 4s/epoch - 81ms/step\n",
      "Epoch 41/50\n",
      "49/49 - 4s - loss: 0.2367 - accuracy: 0.9635 - val_loss: 5.9526 - val_accuracy: 0.4798 - 4s/epoch - 77ms/step\n",
      "Epoch 42/50\n",
      "49/49 - 4s - loss: 0.2185 - accuracy: 0.9669 - val_loss: 6.0321 - val_accuracy: 0.4778 - 4s/epoch - 89ms/step\n",
      "Epoch 43/50\n",
      "49/49 - 4s - loss: 0.1966 - accuracy: 0.9713 - val_loss: 6.1888 - val_accuracy: 0.4756 - 4s/epoch - 79ms/step\n",
      "Epoch 44/50\n",
      "49/49 - 4s - loss: 0.1773 - accuracy: 0.9753 - val_loss: 6.0683 - val_accuracy: 0.4768 - 4s/epoch - 74ms/step\n",
      "Epoch 45/50\n",
      "49/49 - 4s - loss: 0.1535 - accuracy: 0.9799 - val_loss: 6.1735 - val_accuracy: 0.4780 - 4s/epoch - 77ms/step\n",
      "Epoch 46/50\n",
      "49/49 - 4s - loss: 0.1399 - accuracy: 0.9833 - val_loss: 6.1690 - val_accuracy: 0.4813 - 4s/epoch - 74ms/step\n",
      "Epoch 47/50\n",
      "49/49 - 3s - loss: 0.1229 - accuracy: 0.9863 - val_loss: 6.2833 - val_accuracy: 0.4772 - 3s/epoch - 71ms/step\n",
      "Epoch 48/50\n",
      "49/49 - 4s - loss: 0.1160 - accuracy: 0.9871 - val_loss: 6.4688 - val_accuracy: 0.4747 - 4s/epoch - 71ms/step\n",
      "Epoch 49/50\n",
      "49/49 - 3s - loss: 0.1060 - accuracy: 0.9889 - val_loss: 6.5378 - val_accuracy: 0.4797 - 3s/epoch - 70ms/step\n",
      "Epoch 50/50\n",
      "49/49 - 4s - loss: 0.0962 - accuracy: 0.9907 - val_loss: 6.3902 - val_accuracy: 0.4837 - 4s/epoch - 75ms/step\n"
     ]
    }
   ],
   "source": [
    "optimizer = keras.optimizers.SGD(learning_rate=LEARNING_RATE, nesterov=True, momentum=MOMENTUM)\n",
    "\"\"\"\n",
    "# 在 compile 時，使用自定義的 loss function\n",
    "\"\"\"\n",
    "model.compile(loss=focal_loss(), metrics=[\"accuracy\"], optimizer=optimizer)\n",
    "\n",
    "history = model.fit(x_train, y_train, \n",
    "                    epochs=EPOCHS, \n",
    "                    batch_size=BATCH_SIZE, \n",
    "                    validation_data=(x_test, y_test), \n",
    "                    shuffle=True, \n",
    "                    verbose=2)\n",
    "\n",
    "# Collect results\n",
    "train_loss = model.history.history[\"loss\"]\n",
    "valid_loss = model.history.history[\"val_loss\"]\n",
    "train_acc = model.history.history[\"accuracy\"]\n",
    "valid_acc = model.history.history[\"val_accuracy\"]"
   ]
  },
  {
   "cell_type": "code",
   "execution_count": 9,
   "metadata": {},
   "outputs": [
    {
     "data": {
      "image/png": "[encoded data removed]",
      "text/plain": [
       "<Figure size 432x288 with 1 Axes>"
      ]
     },
     "metadata": {
      "needs_background": "light"
     },
     "output_type": "display_data"
    },
    {
     "data": {
      "image/png": "[encoded data removed]",
      "text/plain": [
       "<Figure size 432x288 with 1 Axes>"
      ]
     },
     "metadata": {
      "needs_background": "light"
     },
     "output_type": "display_data"
    }
   ],
   "source": [
    "import matplotlib.pyplot as plt\n",
    "%matplotlib inline\n",
    "\n",
    "plt.plot(range(len(train_loss)), train_loss, label=\"train loss\")\n",
    "plt.plot(range(len(valid_loss)), valid_loss, label=\"valid loss\")\n",
    "plt.legend()\n",
    "plt.title(\"Loss\")\n",
    "plt.show()\n",
    "\n",
    "plt.plot(range(len(train_acc)), train_acc, label=\"train accuracy\")\n",
    "plt.plot(range(len(valid_acc)), valid_acc, label=\"valid accuracy\")\n",
    "plt.legend()\n",
    "plt.title(\"Accuracy\")\n",
    "plt.show()"
   ]
  },
  {
   "cell_type": "markdown",
   "metadata": {},
   "source": [
    "## Work\n",
    "1. 請自行定義一個 loss function, 為 0.3 * focal loss + 0.7 cross-entropy，訓練並比較結果\n"
   ]
  }
 ],
 "metadata": {
  "kernelspec": {
   "display_name": "Python 3",
   "language": "python",
   "name": "python3"
  },
  "language_info": {
   "codemirror_mode": {
    "name": "ipython",
    "version": 3
   },
   "file_extension": ".py",
   "mimetype": "text/x-python",
   "name": "python",
   "nbconvert_exporter": "python",
   "pygments_lexer": "ipython3",
   "version": "3.8.5"
  }
 },
 "nbformat": 4,
 "nbformat_minor": 2
}
