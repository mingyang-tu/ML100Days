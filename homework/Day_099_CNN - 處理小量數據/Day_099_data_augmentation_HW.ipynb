{
 "cells": [
  {
   "cell_type": "code",
   "execution_count": 1,
   "metadata": {
    "colab": {
     "base_uri": "https://localhost:8080/"
    },
    "id": "AyUGP9_W4YiU",
    "outputId": "6c791d03-f2a2-4551-afc3-7c39f6cc952c"
   },
   "outputs": [
    {
     "name": "stdout",
     "output_type": "stream",
     "text": [
      "Fri Apr  8 17:24:16 2022       \n",
      "+-----------------------------------------------------------------------------+\n",
      "| NVIDIA-SMI 460.32.03    Driver Version: 460.32.03    CUDA Version: 11.2     |\n",
      "|-------------------------------+----------------------+----------------------+\n",
      "| GPU  Name        Persistence-M| Bus-Id        Disp.A | Volatile Uncorr. ECC |\n",
      "| Fan  Temp  Perf  Pwr:Usage/Cap|         Memory-Usage | GPU-Util  Compute M. |\n",
      "|                               |                      |               MIG M. |\n",
      "|===============================+======================+======================|\n",
      "|   0  Tesla P100-PCIE...  Off  | 00000000:00:04.0 Off |                    0 |\n",
      "| N/A   39C    P0    31W / 250W |      0MiB / 16280MiB |      0%      Default |\n",
      "|                               |                      |                  N/A |\n",
      "+-------------------------------+----------------------+----------------------+\n",
      "                                                                               \n",
      "+-----------------------------------------------------------------------------+\n",
      "| Processes:                                                                  |\n",
      "|  GPU   GI   CI        PID   Type   Process name                  GPU Memory |\n",
      "|        ID   ID                                                   Usage      |\n",
      "|=============================================================================|\n",
      "|  No running processes found                                                 |\n",
      "+-----------------------------------------------------------------------------+\n"
     ]
    }
   ],
   "source": [
    "!nvidia-smi"
   ]
  },
  {
   "cell_type": "code",
   "execution_count": 2,
   "metadata": {
    "id": "sYPki0yh4YiY"
   },
   "outputs": [],
   "source": [
    "import os\n",
    "os.environ[\"CUDA_VISIBLE_DEVICES\"] = \"0\""
   ]
  },
  {
   "cell_type": "code",
   "execution_count": 3,
   "metadata": {
    "id": "Lqdscqac4YiZ"
   },
   "outputs": [],
   "source": [
    "from tensorflow import keras\n",
    "from tensorflow.keras.datasets import cifar10\n",
    "from tensorflow.keras.layers import Dense, BatchNormalization, Activation, Dropout\n",
    "from tensorflow.keras.layers import Conv2D, MaxPooling2D, Flatten\n",
    "from tensorflow.keras.optimizers import Adam\n",
    "from tensorflow.keras.preprocessing.image import ImageDataGenerator"
   ]
  },
  {
   "cell_type": "code",
   "execution_count": 4,
   "metadata": {
    "colab": {
     "base_uri": "https://localhost:8080/"
    },
    "id": "aXOj8XWJ4Yif",
    "outputId": "9a11a156-60ce-4565-d881-d2b4ddd33f48"
   },
   "outputs": [
    {
     "name": "stdout",
     "output_type": "stream",
     "text": [
      "x_train shape: (50000, 32, 32, 3)\n",
      "50000 train samples\n",
      "10000 test samples\n"
     ]
    }
   ],
   "source": [
    "batch_size = 128\n",
    "num_classes = 10\n",
    "epochs = 20\n",
    "\n",
    "(x_train, y_train), (x_test, y_test) = cifar10.load_data()\n",
    "\n",
    "y_train = keras.utils.to_categorical(y_train, num_classes)\n",
    "y_test = keras.utils.to_categorical(y_test, num_classes)\n",
    "\n",
    "print('x_train shape:', x_train.shape)\n",
    "print(x_train.shape[0], 'train samples')\n",
    "print(x_test.shape[0], 'test samples')"
   ]
  },
  {
   "cell_type": "code",
   "execution_count": 5,
   "metadata": {
    "colab": {
     "base_uri": "https://localhost:8080/"
    },
    "id": "r_1_8m9Q4Yif",
    "outputId": "4dff4983-0821-47b9-f2ea-253cbe101263",
    "scrolled": true
   },
   "outputs": [
    {
     "name": "stdout",
     "output_type": "stream",
     "text": [
      "Model: \"model\"\n",
      "_________________________________________________________________\n",
      " Layer (type)                Output Shape              Param #   \n",
      "=================================================================\n",
      " input_1 (InputLayer)        [(None, 32, 32, 3)]       0         \n",
      "                                                                 \n",
      " conv2d (Conv2D)             (None, 32, 32, 32)        896       \n",
      "                                                                 \n",
      " batch_normalization (BatchN  (None, 32, 32, 32)       128       \n",
      " ormalization)                                                   \n",
      "                                                                 \n",
      " activation (Activation)     (None, 32, 32, 32)        0         \n",
      "                                                                 \n",
      " conv2d_1 (Conv2D)           (None, 32, 32, 32)        9248      \n",
      "                                                                 \n",
      " batch_normalization_1 (Batc  (None, 32, 32, 32)       128       \n",
      " hNormalization)                                                 \n",
      "                                                                 \n",
      " activation_1 (Activation)   (None, 32, 32, 32)        0         \n",
      "                                                                 \n",
      " max_pooling2d (MaxPooling2D  (None, 16, 16, 32)       0         \n",
      " )                                                               \n",
      "                                                                 \n",
      " dropout (Dropout)           (None, 16, 16, 32)        0         \n",
      "                                                                 \n",
      " conv2d_2 (Conv2D)           (None, 16, 16, 64)        18496     \n",
      "                                                                 \n",
      " batch_normalization_2 (Batc  (None, 16, 16, 64)       256       \n",
      " hNormalization)                                                 \n",
      "                                                                 \n",
      " activation_2 (Activation)   (None, 16, 16, 64)        0         \n",
      "                                                                 \n",
      " conv2d_3 (Conv2D)           (None, 16, 16, 64)        36928     \n",
      "                                                                 \n",
      " batch_normalization_3 (Batc  (None, 16, 16, 64)       256       \n",
      " hNormalization)                                                 \n",
      "                                                                 \n",
      " activation_3 (Activation)   (None, 16, 16, 64)        0         \n",
      "                                                                 \n",
      " max_pooling2d_1 (MaxPooling  (None, 8, 8, 64)         0         \n",
      " 2D)                                                             \n",
      "                                                                 \n",
      " dropout_1 (Dropout)         (None, 8, 8, 64)          0         \n",
      "                                                                 \n",
      " flatten (Flatten)           (None, 4096)              0         \n",
      "                                                                 \n",
      " dense (Dense)               (None, 512)               2097664   \n",
      "                                                                 \n",
      " batch_normalization_4 (Batc  (None, 512)              2048      \n",
      " hNormalization)                                                 \n",
      "                                                                 \n",
      " activation_4 (Activation)   (None, 512)               0         \n",
      "                                                                 \n",
      " dropout_2 (Dropout)         (None, 512)               0         \n",
      "                                                                 \n",
      " dense_1 (Dense)             (None, 10)                5130      \n",
      "                                                                 \n",
      "=================================================================\n",
      "Total params: 2,171,178\n",
      "Trainable params: 2,169,770\n",
      "Non-trainable params: 1,408\n",
      "_________________________________________________________________\n"
     ]
    }
   ],
   "source": [
    "input_layer = keras.layers.Input(x_train.shape[1:])\n",
    "\n",
    "x = Conv2D(32, (3, 3), padding='same')(input_layer)\n",
    "x = BatchNormalization()(x)\n",
    "x = Activation(\"relu\")(x)\n",
    "\n",
    "x = Conv2D(32, (3, 3), padding='same')(x)\n",
    "x = BatchNormalization()(x)\n",
    "x = Activation(\"relu\")(x)\n",
    "x = MaxPooling2D(pool_size=(2, 2))(x)\n",
    "x = Dropout(0.2)(x)\n",
    "\n",
    "x = Conv2D(64, (3, 3), padding='same')(x)\n",
    "x = BatchNormalization()(x)\n",
    "x = Activation(\"relu\")(x)\n",
    "\n",
    "x = Conv2D(64, (3, 3), padding='same')(x)\n",
    "x = BatchNormalization()(x)\n",
    "x = Activation(\"relu\")(x)\n",
    "x = MaxPooling2D(pool_size=(2, 2))(x)\n",
    "x = Dropout(0.2)(x)\n",
    "\n",
    "x = Flatten()(x)\n",
    "\n",
    "x = Dense(units=512)(x)\n",
    "x = BatchNormalization()(x)\n",
    "x = Activation(\"relu\")(x)\n",
    "x = Dropout(0.5)(x)\n",
    "\n",
    "out = Dense(units=num_classes, activation=\"softmax\")(x)\n",
    "\n",
    "model = keras.models.Model(inputs=[input_layer], outputs=[out])\n",
    "\n",
    "model.summary()"
   ]
  },
  {
   "cell_type": "code",
   "execution_count": 6,
   "metadata": {
    "id": "46BOFaAjq2ew"
   },
   "outputs": [],
   "source": [
    "train_datagen = ImageDataGenerator(rescale=1./255,\n",
    "                                   rotation_range=20,\n",
    "                                   width_shift_range=0.2,\n",
    "                                   height_shift_range=0.2,\n",
    "                                   horizontal_flip=True,  \n",
    "                                   fill_mode=\"constant\", \n",
    "                                   cval=0., \n",
    "                                   dtype=\"float32\")\n",
    "\n",
    "test_datagen = ImageDataGenerator(rescale=1./255)\n",
    "\n",
    "train_generator = train_datagen.flow(x_train, y_train, batch_size=batch_size)\n",
    "\n",
    "validation_generator = test_datagen.flow(x_test, y_test, batch_size=batch_size)"
   ]
  },
  {
   "cell_type": "code",
   "execution_count": 7,
   "metadata": {
    "colab": {
     "base_uri": "https://localhost:8080/"
    },
    "id": "wLTW3bOH4Yig",
    "outputId": "b6825f33-0eba-486c-e713-9164f52abf63",
    "scrolled": true
   },
   "outputs": [
    {
     "name": "stdout",
     "output_type": "stream",
     "text": [
      "Epoch 1/20\n",
      "391/391 [==============================] - 32s 70ms/step - loss: 1.7988 - accuracy: 0.3674 - val_loss: 1.9042 - val_accuracy: 0.3587\n",
      "Epoch 2/20\n",
      "391/391 [==============================] - 24s 61ms/step - loss: 1.4252 - accuracy: 0.4848 - val_loss: 1.3562 - val_accuracy: 0.5310\n",
      "Epoch 3/20\n",
      "391/391 [==============================] - 25s 63ms/step - loss: 1.2663 - accuracy: 0.5434 - val_loss: 1.6588 - val_accuracy: 0.5008\n",
      "Epoch 4/20\n",
      "391/391 [==============================] - 24s 61ms/step - loss: 1.1686 - accuracy: 0.5812 - val_loss: 1.1903 - val_accuracy: 0.6121\n",
      "Epoch 5/20\n",
      "391/391 [==============================] - 24s 60ms/step - loss: 1.1058 - accuracy: 0.6040 - val_loss: 1.1373 - val_accuracy: 0.6102\n",
      "Epoch 6/20\n",
      "391/391 [==============================] - 24s 60ms/step - loss: 1.0497 - accuracy: 0.6270 - val_loss: 1.2351 - val_accuracy: 0.6206\n",
      "Epoch 7/20\n",
      "391/391 [==============================] - 24s 61ms/step - loss: 0.9976 - accuracy: 0.6462 - val_loss: 1.2110 - val_accuracy: 0.6157\n",
      "Epoch 8/20\n",
      "391/391 [==============================] - 24s 60ms/step - loss: 0.9652 - accuracy: 0.6577 - val_loss: 0.9286 - val_accuracy: 0.6814\n",
      "Epoch 9/20\n",
      "391/391 [==============================] - 24s 61ms/step - loss: 0.9353 - accuracy: 0.6696 - val_loss: 0.8387 - val_accuracy: 0.7122\n",
      "Epoch 10/20\n",
      "391/391 [==============================] - 24s 61ms/step - loss: 0.9093 - accuracy: 0.6802 - val_loss: 1.0325 - val_accuracy: 0.6665\n",
      "Epoch 11/20\n",
      "391/391 [==============================] - 24s 61ms/step - loss: 0.8850 - accuracy: 0.6900 - val_loss: 1.1596 - val_accuracy: 0.6458\n",
      "Epoch 12/20\n",
      "391/391 [==============================] - 23s 60ms/step - loss: 0.8650 - accuracy: 0.6953 - val_loss: 0.9141 - val_accuracy: 0.6926\n",
      "Epoch 13/20\n",
      "391/391 [==============================] - 24s 61ms/step - loss: 0.8443 - accuracy: 0.7023 - val_loss: 1.1274 - val_accuracy: 0.6343\n",
      "Epoch 14/20\n",
      "391/391 [==============================] - 23s 59ms/step - loss: 0.8339 - accuracy: 0.7078 - val_loss: 0.9850 - val_accuracy: 0.6897\n",
      "Epoch 15/20\n",
      "391/391 [==============================] - 24s 60ms/step - loss: 0.8067 - accuracy: 0.7159 - val_loss: 0.8308 - val_accuracy: 0.7200\n",
      "Epoch 16/20\n",
      "391/391 [==============================] - 23s 60ms/step - loss: 0.7979 - accuracy: 0.7195 - val_loss: 0.8691 - val_accuracy: 0.7090\n",
      "Epoch 17/20\n",
      "391/391 [==============================] - 24s 61ms/step - loss: 0.7836 - accuracy: 0.7265 - val_loss: 0.7866 - val_accuracy: 0.7389\n",
      "Epoch 18/20\n",
      "391/391 [==============================] - 24s 61ms/step - loss: 0.7770 - accuracy: 0.7268 - val_loss: 0.9619 - val_accuracy: 0.6796\n",
      "Epoch 19/20\n",
      "391/391 [==============================] - 24s 60ms/step - loss: 0.7602 - accuracy: 0.7358 - val_loss: 0.7971 - val_accuracy: 0.7401\n",
      "Epoch 20/20\n",
      "391/391 [==============================] - 24s 61ms/step - loss: 0.7498 - accuracy: 0.7402 - val_loss: 0.8353 - val_accuracy: 0.7290\n"
     ]
    }
   ],
   "source": [
    "model.compile(loss='categorical_crossentropy',\n",
    "              optimizer=Adam(),\n",
    "              metrics=['accuracy'])\n",
    "\n",
    "history_cnn = model.fit(train_generator,\n",
    "                        epochs=epochs,\n",
    "                        verbose=1,\n",
    "                        validation_data=validation_generator)"
   ]
  },
  {
   "cell_type": "code",
   "execution_count": 8,
   "metadata": {
    "colab": {
     "base_uri": "https://localhost:8080/",
     "height": 545
    },
    "id": "TeAXXsRU4Yig",
    "outputId": "7c7fa299-2ef0-4d72-e9a9-094565eac2b4"
   },
   "outputs": [
    {
     "data": {
      "image/png": "[encoded data removed]",
      "text/plain": [
       "<Figure size 432x288 with 1 Axes>"
      ]
     },
     "metadata": {
      "needs_background": "light"
     },
     "output_type": "display_data"
    },
    {
     "data": {
      "image/png": "[encoded data removed]",
      "text/plain": [
       "<Figure size 432x288 with 1 Axes>"
      ]
     },
     "metadata": {
      "needs_background": "light"
     },
     "output_type": "display_data"
    }
   ],
   "source": [
    "import matplotlib.pyplot as plt\n",
    "%matplotlib inline\n",
    "\n",
    "plt.figure()\n",
    "\n",
    "plt.plot(range(len(history_cnn.history['loss'])), \n",
    "         history_cnn.history['loss'], \n",
    "         '-', label=\"CNN Train\", color=\"g\")\n",
    "\n",
    "plt.plot(range(len(history_cnn.history['val_loss'])),\n",
    "         history_cnn.history['val_loss'], \n",
    "         '--', label=\"CNN Valid\", color=\"g\")\n",
    "\n",
    "plt.title(\"Loss\")\n",
    "plt.legend(loc='center left', bbox_to_anchor=(1, 0.5))\n",
    "plt.show()\n",
    "\n",
    "plt.figure()\n",
    "\n",
    "plt.plot(range(len(history_cnn.history['accuracy'])), \n",
    "         history_cnn.history['accuracy'], \n",
    "         '-', label=\"CNN Train\", color=\"g\")\n",
    "\n",
    "plt.plot(range(len(history_cnn.history['val_accuracy'])),\n",
    "         history_cnn.history['val_accuracy'], \n",
    "         '--', label=\"CNN Valid\", color=\"g\")\n",
    "plt.title(\"Accuracy\")\n",
    "plt.legend(loc='center left', bbox_to_anchor=(1, 0.5))\n",
    "plt.show()"
   ]
  },
  {
   "cell_type": "code",
   "execution_count": 8,
   "metadata": {
    "id": "vQ8JuL3w4Yih"
   },
   "outputs": [],
   "source": []
  }
 ],
 "metadata": {
  "accelerator": "GPU",
  "colab": {
   "collapsed_sections": [],
   "name": "Day_099_data_augmentation_HW.ipynb",
   "provenance": []
  },
  "kernelspec": {
   "display_name": "Python 3",
   "language": "python",
   "name": "python3"
  },
  "language_info": {
   "codemirror_mode": {
    "name": "ipython",
    "version": 3
   },
   "file_extension": ".py",
   "mimetype": "text/x-python",
   "name": "python",
   "nbconvert_exporter": "python",
   "pygments_lexer": "ipython3",
   "version": "3.8.5"
  }
 },
 "nbformat": 4,
 "nbformat_minor": 1
}
